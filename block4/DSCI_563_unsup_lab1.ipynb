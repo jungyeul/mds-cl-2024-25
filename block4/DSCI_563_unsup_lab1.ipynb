{
 "cells": [
  {
   "attachments": {},
   "cell_type": "markdown",
   "metadata": {},
   "source": [
    "** Unsupervised learning in computational linguistics:\n",
    "\n",
    "* K-mean clustering for similarity measures (DSCI 563, lab1)\n",
    "* HMM unsupervised learning to estimate transition and observation probabilities (DSCI 563, lab2)\n",
    "* Inside-outside algorithm to estimate  grammar production probabilities (COLX 535 Parsing, but beyond the scope)\n",
    "* IBM alignment models for SMT to estimate lexical translation probabilities by word alignment (COLX 531 MT)"
   ]
  },
  {
   "attachments": {},
   "cell_type": "markdown",
   "metadata": {},
   "source": [
    "# DSCI 563 Lab Assignment 1: Similarity and Clustering (Cheat sheet)"
   ]
  },
  {
   "cell_type": "markdown",
   "metadata": {},
   "source": [
    "## Assignment Objectives"
   ]
  },
  {
   "cell_type": "markdown",
   "metadata": {},
   "source": [
    "In this assignment you will\n",
    "- Use similarity measures to do spelling correction\n",
    "- Cluster languages in the WALS language altas"
   ]
  },
  {
   "cell_type": "markdown",
   "metadata": {},
   "source": [
    "## Getting Started\n",
    "\n",
    "This assignment requires that you have downloaded following NLTK corpora/lexicons"
   ]
  },
  {
   "cell_type": "code",
   "execution_count": 1,
   "metadata": {},
   "outputs": [
    {
     "name": "stderr",
     "output_type": "stream",
     "text": [
      "[nltk_data] Downloading package words to /Users/jungyeul/nltk_data...\n",
      "[nltk_data]   Package words is already up-to-date!\n",
      "[nltk_data] Downloading package brown to /Users/jungyeul/nltk_data...\n",
      "[nltk_data]   Package brown is already up-to-date!\n"
     ]
    },
    {
     "data": {
      "text/plain": [
       "True"
      ]
     },
     "execution_count": 1,
     "metadata": {},
     "output_type": "execute_result"
    }
   ],
   "source": [
    "import nltk\n",
    "nltk.download(\"words\")\n",
    "nltk.download(\"brown\")"
   ]
  },
  {
   "attachments": {},
   "cell_type": "markdown",
   "metadata": {},
   "source": [
    "** If you have a following error during `nltk.download`: \n",
    "```\n",
    "[nltk_data] Error loading words: <urlopen error [SSL:\n",
    "[nltk_data]     CERTIFICATE_VERIFY_FAILED] certificate verify failed\n",
    "[nltk_data]     (_ssl.c:852)>\n",
    "[nltk_data] Error loading brown: <urlopen error [SSL:\n",
    "[nltk_data]     CERTIFICATE_VERIFY_FAILED] certificate verify failed[nltk_data]     (_ssl.c:852)>\n",
    "```\n",
    "\n",
    "Then, try the following `import ssl`: \n",
    "```\n",
    "import ssl\n",
    "\n",
    "try:\n",
    "    _create_unverified_https_context = ssl._create_unverified_context\n",
    "except AttributeError:\n",
    "    pass\n",
    "else:\n",
    "    ssl._create_default_https_context = _create_unverified_https_context\n",
    "\n",
    "import nltk\n",
    "nltk.download(\"words\")\n",
    "nltk.download(\"brown\")\n",
    "```"
   ]
  },
  {
   "cell_type": "code",
   "execution_count": 2,
   "metadata": {},
   "outputs": [
    {
     "name": "stdout",
     "output_type": "stream",
     "text": [
      "Defaulting to user installation because normal site-packages is not writeable\n",
      "Requirement already satisfied: levenshtein in /Users/jungyeul/Library/Python/3.9/lib/python/site-packages (0.20.9)\n",
      "Requirement already satisfied: rapidfuzz<3.0.0,>=2.3.0 in /Users/jungyeul/Library/Python/3.9/lib/python/site-packages (from levenshtein) (2.13.2)\n"
     ]
    }
   ],
   "source": [
    "import sys\n",
    "!{sys.executable} -m pip install levenshtein"
   ]
  },
  {
   "cell_type": "markdown",
   "metadata": {},
   "source": [
    "Run the code below to access relevant modules (you can add to this as needed)"
   ]
  },
  {
   "cell_type": "code",
   "execution_count": 3,
   "metadata": {},
   "outputs": [],
   "source": [
    "from collections import Counter\n",
    "import Levenshtein\n",
    "from nltk.corpus import brown,words\n",
    "from sklearn.cluster import KMeans,AgglomerativeClustering\n",
    "from scipy.cluster.hierarchy import dendrogram\n",
    "import pandas as pd\n",
    "import urllib.request\n",
    "import numpy as np\n",
    "import scipy"
   ]
  },
  {
   "cell_type": "markdown",
   "metadata": {},
   "source": [
    "## Tidy Submission\n",
    "\n",
    "rubric={mechanics:1}"
   ]
  },
  {
   "cell_type": "markdown",
   "metadata": {},
   "source": [
    "To get the marks for tidy submission:\n",
    "\n",
    "- Submit the assignment by filling in this jupyter notebook with your answers embedded\n",
    "- Be sure to follow the [general lab instructions](https://ubc-mds.github.io/resources_pages/general_lab_instructions)\n",
    "- This is a paired lab - you and a teammate will be working together to find a solution.  To receive full marks, you must indicate which team member is responsible for each code section.  The other team-member must provide a short code review that describes how the code works.  You are free to divide the work however you see fit, but the team will marks if one team member is completing too much of the lab.\n",
    "- Although the optional parts don't contain marks for code review, we still highly recommend it.  The more you get into the habit of doing regular code review, the easier it becomes."
   ]
  },
  {
   "cell_type": "markdown",
   "metadata": {},
   "source": [
    "### Exercise 1: Spelling correction"
   ]
  },
  {
   "attachments": {},
   "cell_type": "markdown",
   "metadata": {},
   "source": [
    "** Spelling correction in Python \n",
    "\n",
    "- `from autocorrect import Speller`\n",
    "- `from spellchecker import SpellChecker`\n",
    "- `from symspellpy import SymSpell, Verbosity`\n",
    "\n",
    "(colab) https://colab.research.google.com/drive/1NFcW6R2ckDASne0xNxNoxMPk0lCOnKRs?usp=sharing"
   ]
  },
  {
   "attachments": {},
   "cell_type": "markdown",
   "metadata": {},
   "source": [
    "#### 1.1\n",
    "rubric={accuracy:2, quality:1, peer-review:1}\n",
    "\n",
    "One classic application of similarity measures, particularly string similarity measures, is spelling correction. Though context is useful for this, for this lab we'll do a simple version that considers only the misspelled word. \n",
    "\n",
    "First, you'll need to get some spelling errors. You can pull some common errors found on wikipedia [here](https://www.dcs.bbk.ac.uk/~ROGER/wikipedia.dat). A `$` prefix indicates a correct word, and list of common mistakes is appears below, before the next. Please don't save the data in a file. Your code should access that page directly, e.g. using the [requests](https://docs.python-requests.org/en/latest/user/quickstart/#response-content) module (you may need to install it first using pip or conda). \n",
    "\n",
    "\n",
    "** in `wikipedia.dat`:\n",
    "```\n",
    "...\n",
    "$Athenian       <-- correct one\n",
    "Athenean        <-- common mistake\n",
    "$Athenians\n",
    "Atheneans\n",
    "$Bernoulli\n",
    "Bernouilli\n",
    "...\n",
    "$acclimatization\n",
    "acclimitization\n",
    "$accommodate    <-- correct one\n",
    "accomadate      <-- first common mistake\n",
    "accomodate      <-- second common mistake\n",
    "$accommodated\n",
    "accomadated\n",
    "accomodated\n",
    "...\n",
    "```\n",
    "\n",
    "** `requests.get(URL).text.strip()`\n",
    "\n",
    "Create a list of `(error, correct_word)` tuples, e.g. `(\"dgo\", \"dog\")`. **You should only include pairs where the correct word appears in the NLTK English words list `nltk_en_words`**.\n",
    "\n",
    "** Tuples: reading data is simpler when tuples are stored inside a list. For example, `[(2,4), (5,7), (3,8), (5,9)]` instead of `[[2,4], [5,7], [3,8], [5,9]]`."
   ]
  },
  {
   "cell_type": "code",
   "execution_count": 4,
   "metadata": {},
   "outputs": [],
   "source": [
    "nltk_en_words = list(words.words(\"en\"))\n",
    "test_set = []\n",
    "\n",
    "# your code here \n"
   ]
  },
  {
   "cell_type": "code",
   "execution_count": 5,
   "metadata": {},
   "outputs": [],
   "source": [
    "### Review: "
   ]
  },
  {
   "cell_type": "markdown",
   "metadata": {},
   "source": [
    "Assertion to check that your code works."
   ]
  },
  {
   "cell_type": "code",
   "execution_count": 6,
   "metadata": {},
   "outputs": [
    {
     "name": "stdout",
     "output_type": "stream",
     "text": [
      "Success!\n"
     ]
    }
   ],
   "source": [
    "assert len(test_set) == 1847\n",
    "print(\"Success!\")"
   ]
  },
  {
   "cell_type": "markdown",
   "metadata": {},
   "source": [
    "#### 1.2\n",
    "rubric={accuracy:2, peer-review:1}\n",
    "\n",
    "Our first approach to spelling correction will be to represent words as a bag-of-character vectors, where each dimension correponds to a specific character like `\"A\"` or `\"b\"` and the values are counts of characters. \n",
    "\n",
    "For example, if you choose to represent character `A` in dimension 0 and `B` in dimension 1, then your representation vector `v` for the word `\"BAB\"`, should have: \n",
    "\n",
    "* `v[0] == 1`, \n",
    "* `v[1] == 2`, and \n",
    "* `v[i] == 0` for all other dimensions `i`.\n",
    "\n",
    "Note that the built-in [ord function](https://docs.python.org/3/library/functions.html#ord) which converts a letter to a number, may come in handy. Since `ord(\"A\") == 65`, `ord(\"z\") == 122` and all other characters in the Latin alphabet have a numerical value between 65 and 122, we can use 58-dimensional vectors for our bag-of-character representations.\n",
    "\n",
    "Please distinguish between upper and lower case characters in this assignment."
   ]
  },
  {
   "attachments": {},
   "cell_type": "markdown",
   "metadata": {},
   "source": [
    "** `BOC_representation`:\n",
    "```\n",
    "print(BOC_representation(\"Happy\"))\n",
    "\n",
    " A  ...               H\n",
    "[0. 0. 0. 0. 0. 0. 0. 1. 0. 0. 0. 0. 0. 0. 0. 0. 0. 0. 0. 0. 0. 0. 0. 0.\n",
    "\n",
    "                         a                                            p\n",
    " 0. 0. 0. 0. 0. 0. 0. 0. 1. 0. 0. 0. 0. 0. 0. 0. 0. 0. 0. 0. 0. 0. 0. 2.\n",
    " \n",
    "                         y\n",
    " 0. 0. 0. 0. 0. 0. 0. 0. 1. 0.]\n",
    "```"
   ]
  },
  {
   "cell_type": "code",
   "execution_count": 30,
   "metadata": {},
   "outputs": [
    {
     "name": "stdout",
     "output_type": "stream",
     "text": [
      "[0. 0. 0. 0. 0. 0. 0. 1. 0. 0. 0. 0. 0. 0. 0. 0. 0. 0. 0. 0. 0. 0. 0. 0.\n",
      " 0. 0. 0. 0. 0. 0. 0. 0. 1. 0. 0. 0. 0. 0. 0. 0. 0. 0. 0. 0. 0. 0. 0. 2.\n",
      " 0. 0. 0. 0. 0. 0. 0. 0. 1. 0.]\n"
     ]
    }
   ],
   "source": [
    "def BOC_representation(word):\n",
    "    # your code here\n",
    "\n",
    "\n",
    "print(BOC_representation(\"Happy\"))"
   ]
  },
  {
   "cell_type": "code",
   "execution_count": 8,
   "metadata": {},
   "outputs": [],
   "source": [
    "### Review"
   ]
  },
  {
   "cell_type": "markdown",
   "metadata": {},
   "source": [
    "#### 1.3\n",
    "rubric={accuracy:3,efficiency:2, peer-review:1}\n",
    "\n",
    "Now, evaluate this representation by seeing how often it allows you to pick the right spelling from among the NLTK English words using suitable vector distance measures included in [scipy](https://docs.scipy.org/doc/scipy/reference/spatial.distance.html). The correct answer should be the single most similar (least distant) word to the mispelled word to be considered correct. You should try out cosine similarity and at least one other measure for comparison. Print out the spelling correction accuracy for each distance measure. You should get over 30% for at least some of the measures. \n",
    "\n",
    "To accomplish this, you will have to compare every mispelled word with every correct one. The efficiency points here are primarily for speed: to get them, you need to make full use of vectorization, and you should build the BOC representation for each word only once. \n",
    "\n",
    "Start by building two 2-dimensional numpy arrays: \n",
    "\n",
    "1. `spelling_error_reps` of shape `(len(test_set), 58)` containing vector representations of the misspelled words, and 1. `nltk_word_reps` of shape `(len(en_nltk_words), 58)` containing all the words in `nltk_en_words`. \n",
    "\n",
    "Then use [scipy.spatial.distance.cdist](https://docs.scipy.org/doc/scipy/reference/generated/scipy.spatial.distance.cdist.html#scipy.spatial.distance.cdist)) to compute a matrix of shape `(len(test_set), len(nltk_en_words))` which contains all distances `dist(w,w')`, where `w` is a misspelled word and `w'` is a word in `nltk_en_words`. You can then use this matrix to find the correction with minimal distance to the mispelled word. \n",
    "\n",
    "**Note** this can take a while even if you do this as efficiently as possible."
   ]
  },
  {
   "cell_type": "code",
   "execution_count": 35,
   "metadata": {},
   "outputs": [
    {
     "name": "stdout",
     "output_type": "stream",
     "text": [
      "metric: cosine, accuracy: 44.45\n",
      "metric: euclidean, accuracy: 40.12\n",
      "metric: jaccard, accuracy: 32.97\n",
      "metric: hamming, accuracy: 36.22\n"
     ]
    }
   ],
   "source": [
    "# Use these to associate words with matrix dimensions\n",
    "word2id = {w:i for i, w in enumerate(nltk_en_words)}\n",
    "id2word = nltk_en_words\n",
    "\n",
    "# your code here\n",
    "from scipy.spatial.distance import cdist\n",
    "\n"
   ]
  },
  {
   "cell_type": "code",
   "execution_count": 10,
   "metadata": {},
   "outputs": [],
   "source": [
    "### Review:"
   ]
  },
  {
   "cell_type": "markdown",
   "metadata": {},
   "source": [
    "#### 1.4 optional \n",
    "rubric={accuracy:1}\n",
    "\n",
    "Though tf-idf is typically used for words, we are going to try applying it here to characters. Use the list of English words to derive an idf measure for each character (ie, your *documents* are actually *words*), and then modify your representation function so it is tf-idf weighted (you must do this manually, using the equation from the lecture). Evaluate the result for your best distance measure from above (it is okay to copy and modify that code)."
   ]
  },
  {
   "cell_type": "code",
   "execution_count": 40,
   "metadata": {},
   "outputs": [
    {
     "name": "stdout",
     "output_type": "stream",
     "text": [
      "metric: cosine, accuracy: 40.39\n"
     ]
    }
   ],
   "source": [
    "def tfidf_representation(word, idfs):\n",
    "    # your code here\n",
    "\n",
    "# your code here\n",
    "\n",
    "\n",
    "\n",
    "print(\"metric: %s, accuracy: %.2f\" % (\"cosine\", sum(min_ids == gold_word_ids) * 100 /len(min_ids)))"
   ]
  },
  {
   "cell_type": "code",
   "execution_count": 36,
   "metadata": {},
   "outputs": [
    {
     "data": {
      "text/plain": [
       "{'A': 0.00039077764751856197,\n",
       " 'a': 5.07627097134445e-06,\n",
       " 'l': 7.728572532653219e-06,\n",
       " 'i': 4.986635816013085e-06,\n",
       " 'm': 1.4540590057144519e-05,\n",
       " 'n': 6.326671348403464e-06,\n",
       " 'r': 6.239509824108218e-06,\n",
       " 'd': 1.4871878764444311e-05,\n",
       " 'v': 5.0464271295922484e-05,\n",
       " 'k': 6.405329233922624e-05,\n",
       " 'w': 7.392622163081245e-05,\n",
       " 'o': 5.880208394585504e-06,\n",
       " 'f': 4.2217249968337064e-05,\n",
       " 'c': 9.906482802345855e-06,\n",
       " 't': 6.611395401113359e-06,\n",
       " 'e': 4.265975009918392e-06,\n",
       " 'u': 1.1475127660795227e-05,\n",
       " 'b': 2.56160663968441e-05,\n",
       " 'h': 1.581827960391028e-05,\n",
       " 'y': 1.9401653020837375e-05,\n",
       " 's': 7.2918717505596514e-06,\n",
       " 'p': 1.3180092787853226e-05,\n",
       " 'g': 2.1703272853546315e-05,\n",
       " 'z': 0.00012150668286755772,\n",
       " 'x': 0.00014619883040935673,\n",
       " 'j': 0.0003727171077152441,\n",
       " 'q': 0.00027344818156959256,\n",
       " 'B': 0.0007168458781362007,\n",
       " 'C': 0.00040064102564102563,\n",
       " 'D': 0.0010526315789473684,\n",
       " 'E': 0.0010893246187363835,\n",
       " 'F': 0.0020920502092050207,\n",
       " 'G': 0.0009823182711198428,\n",
       " 'H': 0.0008787346221441124,\n",
       " 'I': 0.0020161290322580645,\n",
       " 'J': 0.002066115702479339,\n",
       " '-': 0.5,\n",
       " 'P': 0.00043649061545176777,\n",
       " 'K': 0.0018315018315018315,\n",
       " 'L': 0.0009319664492078285,\n",
       " 'M': 0.0005243838489774515,\n",
       " 'N': 0.001466275659824047,\n",
       " 'O': 0.0015873015873015873,\n",
       " 'Q': 0.012987012987012988,\n",
       " 'R': 0.0013966480446927375,\n",
       " 'S': 0.0004161464835622139,\n",
       " 'T': 0.0006341154090044388,\n",
       " 'U': 0.004807692307692308,\n",
       " 'V': 0.002770083102493075,\n",
       " 'W': 0.002967359050445104,\n",
       " 'X': 0.010869565217391304,\n",
       " 'Y': 0.007194244604316547,\n",
       " 'Z': 0.004347826086956522}"
      ]
     },
     "execution_count": 36,
     "metadata": {},
     "output_type": "execute_result"
    }
   ],
   "source": [
    "idfs"
   ]
  },
  {
   "cell_type": "code",
   "execution_count": 34,
   "metadata": {},
   "outputs": [
    {
     "data": {
      "text/plain": [
       "array([0.00000000e+00, 0.00000000e+00, 0.00000000e+00, 0.00000000e+00,\n",
       "       0.00000000e+00, 0.00000000e+00, 0.00000000e+00, 0.00000000e+00,\n",
       "       0.00000000e+00, 0.00000000e+00, 0.00000000e+00, 0.00000000e+00,\n",
       "       0.00000000e+00, 0.00000000e+00, 0.00000000e+00, 0.00000000e+00,\n",
       "       0.00000000e+00, 0.00000000e+00, 0.00000000e+00, 0.00000000e+00,\n",
       "       0.00000000e+00, 0.00000000e+00, 0.00000000e+00, 0.00000000e+00,\n",
       "       0.00000000e+00, 0.00000000e+00, 0.00000000e+00, 0.00000000e+00,\n",
       "       0.00000000e+00, 0.00000000e+00, 0.00000000e+00, 0.00000000e+00,\n",
       "       5.07627097e-06, 0.00000000e+00, 0.00000000e+00, 0.00000000e+00,\n",
       "       0.00000000e+00, 0.00000000e+00, 0.00000000e+00, 1.58182796e-05,\n",
       "       0.00000000e+00, 0.00000000e+00, 0.00000000e+00, 0.00000000e+00,\n",
       "       0.00000000e+00, 0.00000000e+00, 0.00000000e+00, 2.63601856e-05,\n",
       "       0.00000000e+00, 0.00000000e+00, 0.00000000e+00, 0.00000000e+00,\n",
       "       0.00000000e+00, 0.00000000e+00, 0.00000000e+00, 0.00000000e+00,\n",
       "       1.94016530e-05, 0.00000000e+00])"
      ]
     },
     "execution_count": 34,
     "metadata": {},
     "output_type": "execute_result"
    }
   ],
   "source": [
    "# frequency of c in the word * idf[c] \n",
    "tfidf_representation(\"happy\", idfs)"
   ]
  },
  {
   "attachments": {},
   "cell_type": "markdown",
   "metadata": {},
   "source": [
    "#### 1.5\n",
    "rubric={accuracy:2}\n",
    "\n",
    "Finally, let's try Levenshtein distance and see how that works. You can just use the built-in function from the Levenshtein module. No need to vectorize here.\n",
    "\n",
    "** \n",
    "```\n",
    "Levenshtein.distance(str1, str2)\n",
    "```\n",
    "where `str1` and `str2` are a word from misspelled and a word from the NLTK English words. "
   ]
  },
  {
   "cell_type": "code",
   "execution_count": 12,
   "metadata": {},
   "outputs": [
    {
     "name": "stdout",
     "output_type": "stream",
     "text": [
      "metric: Levenshtein, accuracy: 57.01\n"
     ]
    }
   ],
   "source": [
    "# your code here\n",
    "correct = 0\n",
    "total = 0\n",
    "\n",
    "print(\"metric: %s, accuracy: %.2f\" % (\"Levenshtein\", correct * 100.0 / len(test_set)))"
   ]
  },
  {
   "cell_type": "markdown",
   "metadata": {},
   "source": [
    "### Exercise 2: Clustering languages"
   ]
  },
  {
   "cell_type": "markdown",
   "metadata": {},
   "source": [
    "The Word Atlas of Language Stucture (WALS) has information about the syntactic and phonetic properties of the world's languages. We are going to see to what extent the languages cluster naturally into established language families based on their properties.\n"
   ]
  },
  {
   "attachments": {},
   "cell_type": "markdown",
   "metadata": {},
   "source": [
    "#### 2.1\n",
    "rubric={accuracy:2, peer-review:1}\n",
    "\n",
    "There are two files in the lab repo relevant to this exercise `WALS.csv` and `geodata.csv`. The file `WALS.csv` has syntactic (indicated by S) and phonetic (indicated by P) features for many of the world's languages: `\"1\"` means a language has this feature, \"`0`\" not. Most of the cells in the table are `\"--\"` which means unknown. Your first task is to avoid having unknown values in your final dataset by limiting the languages and features.\n",
    "\n",
    "** \n",
    "`WALS.csv`:\n",
    "```\n",
    "G_CODE, S_SVO,  S_SOV,  S_VSO,  S_VOS,  S_OVS,  S_OSV, ... \n",
    "...\n",
    "eng,    1.0,    0.0,    0.0,    0.0,    0.0,    0.0, ...,    --, --, --, --, ..., --\n",
    "```\n",
    "where `SVO|SOV|VOS|...` are for a subject (S), an object (O), and a verb (V), respectively. \n",
    "\n",
    "We'll start by creating a list of features called **`popular_features` which have known values (not `\"--\"`) for at least 600 languages**. You can do this however you like, but one way is to use pandas. \n",
    "\n",
    "\n",
    "**HINT 1:** The [`np.unique`](https://numpy.org/doc/stable/reference/generated/numpy.unique.html) function with the `return_counts=True` option could be useful. You should apply `np.counts` to individual columns in the WALS data frame. \n",
    "\n",
    "```\n",
    ">>> a = np.array([0, 3, 0, 1, 0, 1, 2, 1, 0, 0, 0, 0, 1, 3, 4])\n",
    ">>> unique, counts = np.unique(a, return_counts=True)\n",
    ">>> unique\n",
    "array([0, 1, 2, 3, 4])\n",
    ">>> counts \n",
    "array([7, 4, 1, 2, 1])\n",
    ">>> dict(zip(unique, counts))\n",
    "{0: 7, 1: 4, 2: 1, 3: 2, 4: 1}\n",
    ">>> Counter(a)\n",
    "Counter({0: 7, 1: 4, 3: 2, 2: 1, 4: 1})\n",
    ">>> \n",
    "```\n",
    "\n",
    "\n",
    "**HINT 2:** It's a good idea to use the `index_col` feature whan calling `pandas.read_csv`. The first column `G_CODE` in `geodata.csv` contains language codes.\n",
    "\n",
    "`pd.read_csv(\"WALS.csv\",index_col=0)`"
   ]
  },
  {
   "cell_type": "code",
   "execution_count": 13,
   "metadata": {
    "scrolled": true
   },
   "outputs": [],
   "source": [
    "import pandas as pd\n",
    "\n",
    "# your code here\n",
    "def feature_count(feat, df):\n",
    "    \"\"\" Return the count of languages in df, where feat has value \"0\" or \"1\" \"\"\"\n",
    "\n",
    "\n",
    "..."
   ]
  },
  {
   "cell_type": "code",
   "execution_count": 14,
   "metadata": {},
   "outputs": [],
   "source": [
    "### Review"
   ]
  },
  {
   "cell_type": "markdown",
   "metadata": {},
   "source": [
    "An assertion to check your code."
   ]
  },
  {
   "cell_type": "code",
   "execution_count": 15,
   "metadata": {},
   "outputs": [
    {
     "name": "stdout",
     "output_type": "stream",
     "text": [
      "Success!\n"
     ]
    }
   ],
   "source": [
    "assert len(popular_features) == 65\n",
    "print(\"Success!\")"
   ]
  },
  {
   "attachments": {},
   "cell_type": "markdown",
   "metadata": {},
   "source": [
    "#### 2.2\n",
    "rubric={accuracy:2,quality:1,peer-review:1}\n",
    "\n",
    "Next, we'll filter out all languages which have unknown values `\"--\"` for any of the features in `popular_features`. \n",
    "\n",
    "You should create a 2d numpy array `data` which consists of the data for the languages and features you have extracted, plus a Python list `languages` which has languages you have selected in the order they appear in the numpy array; for the latter, you should also convert the 3-letter language code from `WALS.csv` to the full name of the language using the information in `geodata.csv`. The language code in `geodata.csv` is found in the column `\"G_CODE\"` and the full name in the column `\"G_NAME\"`.\n",
    "\n",
    "**Note** After filtering out languages with unknown values, please convert string values `\"0\"` and `\"1\"` into numerical `0` and `1` in the `data` table. \n",
    "\n",
    "**\n",
    "`geodata.csv`:\n",
    "```\n",
    "G_CODE,G_FAMILY,G_ISO_CODE_2,G_LATITUDE,G_LONGITUDE,G_NAME\n",
    "...\n",
    "enf,44414-44488-106887-106899-44493-44494,--,69.9829,88.2121,\"Enets, Forest\"\n",
    "eng,104971-105053-105172-105343-105554-105787-106006-106207-106393-36816,en,53.0,-1.0,English\n",
    "enh,44414-44488-106887-106899-44493-44495,--,70.1626,83.7405,\"Enets, Tundra\"\n",
    "...    \n",
    "```"
   ]
  },
  {
   "cell_type": "code",
   "execution_count": 16,
   "metadata": {},
   "outputs": [],
   "source": [
    "# your code here\n"
   ]
  },
  {
   "cell_type": "markdown",
   "metadata": {},
   "source": [
    "Assertions to check your code."
   ]
  },
  {
   "cell_type": "code",
   "execution_count": 17,
   "metadata": {},
   "outputs": [
    {
     "name": "stdout",
     "output_type": "stream",
     "text": [
      "Success!\n"
     ]
    }
   ],
   "source": [
    "assert len(languages) == 56\n",
    "assert data.shape == (56,65)\n",
    "print(\"Success!\")"
   ]
  },
  {
   "attachments": {},
   "cell_type": "markdown",
   "metadata": {},
   "source": [
    "#### 2.3\n",
    "rubric= {accuracy:2, peer-review:1}\n",
    "\n",
    "Do k-means clustering of this dataset for k for 10, 20, and 30, and print out the resulting groupings of languages together with the first listed language family code in `geocode.csv` (e.g. 104971 for English). \n",
    "\n",
    "**NOTE:** Set the` random_state` of `Kmeans` to `0` so you get deterministic output."
   ]
  },
  {
   "attachments": {},
   "cell_type": "markdown",
   "metadata": {},
   "source": [
    "```\n",
    "    lang family code\n",
    "     |\n",
    "eng,[104971]-105053-105172-105343-105554-105787-106006-106207-106393-36816,en,53.0,-1.0,English\n",
    "\n",
    "```\n",
    "\n"
   ]
  },
  {
   "cell_type": "code",
   "execution_count": 18,
   "metadata": {},
   "outputs": [
    {
     "name": "stdout",
     "output_type": "stream",
     "text": [
      "Cluster count: 10\n",
      "0\tLoniu\t106869\n",
      "0\tNgizim\t104949\n",
      "0\tNuaulu, North\t106869\n",
      "0\tSango\t104955\n",
      "0\tSulka\t36242\n",
      "\n",
      "1\tAwtuw\t104998\n",
      "1\tKewa, East\t104989\n",
      "1\tMian\t104989\n",
      "1\tNaga, Ao\t105000\n",
      "1\tNaga, Chang\t105000\n",
      "\n",
      "2\tAneityum\t106869\n",
      "2\tGude\t104949\n",
      "2\tTennet\t34525\n",
      "2\tZapotec, Isthmus\t104992\n",
      "\n",
      "3\tChechen\t35856\n",
      "3\tMansi\t44414\n",
      "3\tSomali\t104949\n",
      "\n",
      "4\tAbkhaz\t36529\n",
      "4\tBurushaski\t36566\n",
      "4\tJapanese\t34806\n",
      "4\tKamayurá\t105004\n",
      "4\tKham, Gamale\t105000\n",
      "4\tLezgi\t35856\n",
      "4\tTurkish\t105005\n",
      "4\tUbykh\t36529\n",
      "4\tYukaghir, Southern\t34801\n",
      "\n",
      "5\tAukan\t104971\n",
      "5\tFutuna-Aniwa\t106869\n",
      "5\tIaai\t106869\n",
      "5\tSonghay, Koyra Chiini\t28858\n",
      "5\tTigak\t106869\n",
      "5\tValman\t104988\n",
      "5\tVietnamese\t104956\n",
      "5\tYoruba\t104955\n",
      "\n",
      "6\tFulfulde, Adamawa\t104955\n",
      "6\tIraqw\t104949\n",
      "6\tKanuri, Central\t28884\n",
      "6\tKenuzi-Dongola\t29019\n",
      "6\tMaba\t36287\n",
      "6\tRunga\t36287\n",
      "\n",
      "7\tGumawana\t106869\n",
      "7\tSlavey, North\t44798\n",
      "\n",
      "8\tAlbanian, Tosk\t104971\n",
      "8\tBulgarian\t104971\n",
      "8\tChontal, Tabasco\t104983\n",
      "8\tCornish\t104971\n",
      "8\tEnglish\t104971\n",
      "8\tItalian\t104971\n",
      "8\tKoromfé\t104955\n",
      "8\tSipakapense\t104983\n",
      "8\tSpanish\t104971\n",
      "8\tTiwi\t44545\n",
      "\n",
      "9\tChin, Bawm\t105000\n",
      "9\tChin, Haka\t105000\n",
      "9\tCitak, Tamnim\t104989\n",
      "9\tSiroi\t104989\n",
      "\n",
      "Cluster count: 20\n",
      "0\tGude\t104949\n",
      "\n",
      "1\tGumawana\t106869\n",
      "1\tSlavey, North\t44798\n",
      "\n",
      "2\tBurushaski\t36566\n",
      "2\tKamayurá\t105004\n",
      "2\tKham, Gamale\t105000\n",
      "2\tLezgi\t35856\n",
      "2\tTurkish\t105005\n",
      "2\tUbykh\t36529\n",
      "2\tYukaghir, Southern\t34801\n",
      "\n",
      "3\tAukan\t104971\n",
      "3\tFutuna-Aniwa\t106869\n",
      "3\tIaai\t106869\n",
      "3\tSonghay, Koyra Chiini\t28858\n",
      "3\tTigak\t106869\n",
      "3\tVietnamese\t104956\n",
      "3\tYoruba\t104955\n",
      "\n",
      "4\tJapanese\t34806\n",
      "4\tKewa, East\t104989\n",
      "4\tNaga, Chang\t105000\n",
      "\n",
      "5\tAlbanian, Tosk\t104971\n",
      "5\tBulgarian\t104971\n",
      "5\tChontal, Tabasco\t104983\n",
      "5\tCornish\t104971\n",
      "5\tEnglish\t104971\n",
      "5\tItalian\t104971\n",
      "5\tSpanish\t104971\n",
      "\n",
      "6\tCitak, Tamnim\t104989\n",
      "6\tSiroi\t104989\n",
      "\n",
      "7\tNuaulu, North\t106869\n",
      "\n",
      "8\tFulfulde, Adamawa\t104955\n",
      "8\tIraqw\t104949\n",
      "8\tKanuri, Central\t28884\n",
      "8\tMaba\t36287\n",
      "\n",
      "9\tKoromfé\t104955\n",
      "9\tTiwi\t44545\n",
      "9\tValman\t104988\n",
      "\n",
      "10\tChechen\t35856\n",
      "10\tMansi\t44414\n",
      "\n",
      "11\tSipakapense\t104983\n",
      "11\tZapotec, Isthmus\t104992\n",
      "\n",
      "12\tSulka\t36242\n",
      "\n",
      "13\tAwtuw\t104998\n",
      "13\tMian\t104989\n",
      "13\tNaga, Ao\t105000\n",
      "\n",
      "14\tAbkhaz\t36529\n",
      "14\tKenuzi-Dongola\t29019\n",
      "14\tRunga\t36287\n",
      "\n",
      "15\tLoniu\t106869\n",
      "15\tNgizim\t104949\n",
      "15\tSango\t104955\n",
      "\n",
      "16\tTennet\t34525\n",
      "\n",
      "17\tChin, Bawm\t105000\n",
      "17\tChin, Haka\t105000\n",
      "\n",
      "18\tSomali\t104949\n",
      "\n",
      "19\tAneityum\t106869\n",
      "\n",
      "Cluster count: 30\n",
      "0\tAukan\t104971\n",
      "0\tSonghay, Koyra Chiini\t28858\n",
      "0\tYoruba\t104955\n",
      "\n",
      "1\tUbykh\t36529\n",
      "\n",
      "2\tAlbanian, Tosk\t104971\n",
      "2\tBulgarian\t104971\n",
      "2\tChontal, Tabasco\t104983\n",
      "2\tCornish\t104971\n",
      "2\tEnglish\t104971\n",
      "2\tItalian\t104971\n",
      "2\tSpanish\t104971\n",
      "\n",
      "3\tIraqw\t104949\n",
      "3\tKanuri, Central\t28884\n",
      "3\tKenuzi-Dongola\t29019\n",
      "3\tMaba\t36287\n",
      "\n",
      "4\tCitak, Tamnim\t104989\n",
      "\n",
      "5\tAwtuw\t104998\n",
      "5\tKewa, East\t104989\n",
      "5\tNaga, Chang\t105000\n",
      "\n",
      "6\tLoniu\t106869\n",
      "6\tNgizim\t104949\n",
      "\n",
      "7\tKoromfé\t104955\n",
      "7\tValman\t104988\n",
      "\n",
      "8\tJapanese\t34806\n",
      "8\tTurkish\t105005\n",
      "\n",
      "9\tChechen\t35856\n",
      "9\tMansi\t44414\n",
      "\n",
      "10\tAneityum\t106869\n",
      "\n",
      "11\tFutuna-Aniwa\t106869\n",
      "11\tIaai\t106869\n",
      "11\tTigak\t106869\n",
      "11\tVietnamese\t104956\n",
      "\n",
      "12\tSomali\t104949\n",
      "\n",
      "13\tZapotec, Isthmus\t104992\n",
      "\n",
      "14\tChin, Bawm\t105000\n",
      "14\tChin, Haka\t105000\n",
      "\n",
      "15\tBurushaski\t36566\n",
      "15\tKham, Gamale\t105000\n",
      "15\tLezgi\t35856\n",
      "15\tYukaghir, Southern\t34801\n",
      "\n",
      "16\tAbkhaz\t36529\n",
      "16\tRunga\t36287\n",
      "\n",
      "17\tSulka\t36242\n",
      "\n",
      "18\tSiroi\t104989\n",
      "\n",
      "19\tTennet\t34525\n",
      "\n",
      "20\tGude\t104949\n",
      "\n",
      "21\tFulfulde, Adamawa\t104955\n",
      "\n",
      "22\tGumawana\t106869\n",
      "\n",
      "23\tSlavey, North\t44798\n",
      "\n",
      "24\tKamayurá\t105004\n",
      "\n",
      "25\tTiwi\t44545\n",
      "\n",
      "26\tMian\t104989\n",
      "26\tNaga, Ao\t105000\n",
      "\n",
      "27\tSango\t104955\n",
      "\n",
      "28\tNuaulu, North\t106869\n",
      "\n",
      "29\tSipakapense\t104983\n",
      "\n"
     ]
    }
   ],
   "source": [
    "# your code here\n",
    "from collections import defaultdict\n",
    "\n",
    "\n"
   ]
  },
  {
   "cell_type": "markdown",
   "metadata": {},
   "source": [
    "#### 2.4\n",
    "rubric= {reasoning:2}\n",
    "\n",
    "Based on what you see in this output, what do you think a good k is for this dataset, in terms of forming clusters that correspond to major language families? To answer this question coherently, you'll likely need to look up the languages on Wikipedia to find out the names of the language families they belong to. Justify your answer by pointing our relatively \"pure\", complete clusters, and other values of k where language families are collapsed or split."
   ]
  },
  {
   "cell_type": "raw",
   "metadata": {},
   "source": [
    "YOUR ANSWER HERE\n"
   ]
  },
  {
   "cell_type": "markdown",
   "metadata": {},
   "source": [
    "#### 2.5 optional\n",
    "rubric= {accuracy:1}\n",
    "\n",
    "Pick a relatively consistent language cluster and use the centriods (`KMeans.cluster_centers_`) to identify a small set of positive features (no more than 10) which distinguish it relative to the other clusters. That is, the centroid of this cluster should a relatively high value for this feature relative to the centriods of other clusters."
   ]
  },
  {
   "cell_type": "code",
   "execution_count": 19,
   "metadata": {},
   "outputs": [
    {
     "name": "stdout",
     "output_type": "stream",
     "text": [
      "S_NUMERAL_AFTER_NOUN\n",
      "S_ADPOSITION_AFTER_NOUN\n",
      "S_SOV\n",
      "S_OBJECT_BEFORE_VERB\n",
      "S_POLARQ_MARK_FINAL\n",
      "S_TEND_PREFIX\n",
      "S_POSSESSOR_BEFORE_NOUN\n",
      "S_NEGATIVE_WORD_AFTER_OBJECT\n",
      "S_NEGATIVE_AFFIX\n",
      "S_DEMONSTRATIVE_WORD_AFTER_NOUN\n"
     ]
    }
   ],
   "source": [
    "# your code here\n",
    "\n"
   ]
  },
  {
   "cell_type": "markdown",
   "metadata": {},
   "source": [
    "#### 2.6\n",
    "rubric={accuracy:1}\n",
    "\n",
    "Now, create an agglomerative hierachical clustering of this data using [sklearn.cluster.AgglomerativeClustering](https://scikit-learn.org/stable/modules/generated/sklearn.cluster.AgglomerativeClustering.html), naming the clustering object `clustering`. \n",
    "\n",
    "Note it doesn't matter how many clusters you choose (i.e. it's okay to leave `n_clusters` to the default value 2), since we aren't going to use the label output directly. Use \"ward\" (the default) as your linkage metric."
   ]
  },
  {
   "cell_type": "code",
   "execution_count": 20,
   "metadata": {},
   "outputs": [
    {
     "data": {
      "text/html": [
       "<style>#sk-container-id-1 {color: black;background-color: white;}#sk-container-id-1 pre{padding: 0;}#sk-container-id-1 div.sk-toggleable {background-color: white;}#sk-container-id-1 label.sk-toggleable__label {cursor: pointer;display: block;width: 100%;margin-bottom: 0;padding: 0.3em;box-sizing: border-box;text-align: center;}#sk-container-id-1 label.sk-toggleable__label-arrow:before {content: \"▸\";float: left;margin-right: 0.25em;color: #696969;}#sk-container-id-1 label.sk-toggleable__label-arrow:hover:before {color: black;}#sk-container-id-1 div.sk-estimator:hover label.sk-toggleable__label-arrow:before {color: black;}#sk-container-id-1 div.sk-toggleable__content {max-height: 0;max-width: 0;overflow: hidden;text-align: left;background-color: #f0f8ff;}#sk-container-id-1 div.sk-toggleable__content pre {margin: 0.2em;color: black;border-radius: 0.25em;background-color: #f0f8ff;}#sk-container-id-1 input.sk-toggleable__control:checked~div.sk-toggleable__content {max-height: 200px;max-width: 100%;overflow: auto;}#sk-container-id-1 input.sk-toggleable__control:checked~label.sk-toggleable__label-arrow:before {content: \"▾\";}#sk-container-id-1 div.sk-estimator input.sk-toggleable__control:checked~label.sk-toggleable__label {background-color: #d4ebff;}#sk-container-id-1 div.sk-label input.sk-toggleable__control:checked~label.sk-toggleable__label {background-color: #d4ebff;}#sk-container-id-1 input.sk-hidden--visually {border: 0;clip: rect(1px 1px 1px 1px);clip: rect(1px, 1px, 1px, 1px);height: 1px;margin: -1px;overflow: hidden;padding: 0;position: absolute;width: 1px;}#sk-container-id-1 div.sk-estimator {font-family: monospace;background-color: #f0f8ff;border: 1px dotted black;border-radius: 0.25em;box-sizing: border-box;margin-bottom: 0.5em;}#sk-container-id-1 div.sk-estimator:hover {background-color: #d4ebff;}#sk-container-id-1 div.sk-parallel-item::after {content: \"\";width: 100%;border-bottom: 1px solid gray;flex-grow: 1;}#sk-container-id-1 div.sk-label:hover label.sk-toggleable__label {background-color: #d4ebff;}#sk-container-id-1 div.sk-serial::before {content: \"\";position: absolute;border-left: 1px solid gray;box-sizing: border-box;top: 0;bottom: 0;left: 50%;z-index: 0;}#sk-container-id-1 div.sk-serial {display: flex;flex-direction: column;align-items: center;background-color: white;padding-right: 0.2em;padding-left: 0.2em;position: relative;}#sk-container-id-1 div.sk-item {position: relative;z-index: 1;}#sk-container-id-1 div.sk-parallel {display: flex;align-items: stretch;justify-content: center;background-color: white;position: relative;}#sk-container-id-1 div.sk-item::before, #sk-container-id-1 div.sk-parallel-item::before {content: \"\";position: absolute;border-left: 1px solid gray;box-sizing: border-box;top: 0;bottom: 0;left: 50%;z-index: -1;}#sk-container-id-1 div.sk-parallel-item {display: flex;flex-direction: column;z-index: 1;position: relative;background-color: white;}#sk-container-id-1 div.sk-parallel-item:first-child::after {align-self: flex-end;width: 50%;}#sk-container-id-1 div.sk-parallel-item:last-child::after {align-self: flex-start;width: 50%;}#sk-container-id-1 div.sk-parallel-item:only-child::after {width: 0;}#sk-container-id-1 div.sk-dashed-wrapped {border: 1px dashed gray;margin: 0 0.4em 0.5em 0.4em;box-sizing: border-box;padding-bottom: 0.4em;background-color: white;}#sk-container-id-1 div.sk-label label {font-family: monospace;font-weight: bold;display: inline-block;line-height: 1.2em;}#sk-container-id-1 div.sk-label-container {text-align: center;}#sk-container-id-1 div.sk-container {/* jupyter's `normalize.less` sets `[hidden] { display: none; }` but bootstrap.min.css set `[hidden] { display: none !important; }` so we also need the `!important` here to be able to override the default hidden behavior on the sphinx rendered scikit-learn.org. See: https://github.com/scikit-learn/scikit-learn/issues/21755 */display: inline-block !important;position: relative;}#sk-container-id-1 div.sk-text-repr-fallback {display: none;}</style><div id=\"sk-container-id-1\" class=\"sk-top-container\"><div class=\"sk-text-repr-fallback\"><pre>AgglomerativeClustering()</pre><b>In a Jupyter environment, please rerun this cell to show the HTML representation or trust the notebook. <br />On GitHub, the HTML representation is unable to render, please try loading this page with nbviewer.org.</b></div><div class=\"sk-container\" hidden><div class=\"sk-item\"><div class=\"sk-estimator sk-toggleable\"><input class=\"sk-toggleable__control sk-hidden--visually\" id=\"sk-estimator-id-1\" type=\"checkbox\" checked><label for=\"sk-estimator-id-1\" class=\"sk-toggleable__label sk-toggleable__label-arrow\">AgglomerativeClustering</label><div class=\"sk-toggleable__content\"><pre>AgglomerativeClustering()</pre></div></div></div></div></div>"
      ],
      "text/plain": [
       "AgglomerativeClustering()"
      ]
     },
     "execution_count": 20,
     "metadata": {},
     "output_type": "execute_result"
    }
   ],
   "source": [
    "# your code here\n"
   ]
  },
  {
   "cell_type": "markdown",
   "metadata": {},
   "source": [
    "#### 2.7\n",
    "rubric={accuracy:2,quality:1,peer-review:1}\n",
    "\n",
    "Write a function to calculate the specific list of languages associated with each node of the full clustering hierarchy induced in **2.6**; You should solve this with recursion, in just a few lines of code.\n",
    "\n",
    "**HINT**: You should complete `get_cluster`, which recursively calls itself. There are two cases:\n",
    "\n",
    "* If `index < len(leaves)`, then the cluster is a list containing a single language `[leaves[index]]` (base case for recursion).\n",
    "* If instead `index >= len(leaves)`, the cluster consists of two subnodes which are listed in **clustering.children_[index - len(languages)]**. You should return the concatenation of their clusters. "
   ]
  },
  {
   "cell_type": "code",
   "execution_count": 21,
   "metadata": {
    "scrolled": false
   },
   "outputs": [
    {
     "name": "stdout",
     "output_type": "stream",
     "text": [
      "['Abkhaz']\n",
      "['Albanian, Tosk']\n",
      "['Aneityum']\n",
      "['Chin, Bawm']\n",
      "['Burushaski']\n",
      "['Bulgarian']\n",
      "['Chechen']\n",
      "['Chontal, Tabasco']\n",
      "['Chin, Haka']\n",
      "['Cornish']\n",
      "['Aukan']\n",
      "['English']\n",
      "['Fulfulde, Adamawa']\n",
      "['Futuna-Aniwa']\n",
      "['Gude']\n",
      "['Gumawana']\n",
      "['Iaai']\n",
      "['Iraqw']\n",
      "['Italian']\n",
      "['Japanese']\n",
      "['Kamayurá']\n",
      "['Koromfé']\n",
      "['Kham, Gamale']\n",
      "['Songhay, Koyra Chiini']\n",
      "['Kewa, East']\n",
      "['Awtuw']\n",
      "['Kanuri, Central']\n",
      "['Kenuzi-Dongola']\n",
      "['Lezgi']\n",
      "['Loniu']\n",
      "['Maba']\n",
      "['Mansi']\n",
      "['Mian']\n",
      "['Naga, Chang']\n",
      "['Ngizim']\n",
      "['Naga, Ao']\n",
      "['Nuaulu, North']\n",
      "['Sipakapense']\n",
      "['Runga']\n",
      "['Sango']\n",
      "['Slavey, North']\n",
      "['Somali']\n",
      "['Spanish']\n",
      "['Siroi']\n",
      "['Sulka']\n",
      "['Tennet']\n",
      "['Tigak']\n",
      "['Tiwi']\n",
      "['Citak, Tamnim']\n",
      "['Turkish']\n",
      "['Ubykh']\n",
      "['Valman']\n",
      "['Vietnamese']\n",
      "['Yoruba']\n",
      "['Yukaghir, Southern']\n",
      "['Zapotec, Isthmus']\n",
      "['Italian', 'Spanish']\n",
      "['Burushaski', 'Kham, Gamale']\n",
      "['Tigak', 'Vietnamese']\n",
      "['Futuna-Aniwa', 'Tigak', 'Vietnamese']\n",
      "['Chin, Bawm', 'Chin, Haka']\n",
      "['Kanuri, Central', 'Maba']\n",
      "['Turkish', 'Yukaghir, Southern']\n",
      "['Bulgarian', 'Chontal, Tabasco']\n",
      "['Chechen', 'Mansi']\n",
      "['Mian', 'Naga, Ao']\n",
      "['Aukan', 'Iaai']\n",
      "['Loniu', 'Ngizim']\n",
      "['Songhay, Koyra Chiini', 'Yoruba']\n",
      "['Japanese', 'Lezgi']\n",
      "['English', 'Bulgarian', 'Chontal, Tabasco']\n",
      "['Abkhaz', 'Runga']\n",
      "['Koromfé', 'Valman']\n",
      "['Kewa, East', 'Awtuw']\n",
      "['Naga, Chang', 'Kewa, East', 'Awtuw']\n",
      "['Kamayurá', 'Kenuzi-Dongola']\n",
      "['Italian', 'Spanish', 'English', 'Bulgarian', 'Chontal, Tabasco']\n",
      "['Iraqw', 'Kanuri, Central', 'Maba']\n",
      "['Albanian, Tosk', 'Cornish']\n",
      "['Burushaski', 'Kham, Gamale', 'Turkish', 'Yukaghir, Southern']\n",
      "['Abkhaz', 'Runga', 'Kamayurá', 'Kenuzi-Dongola']\n",
      "['Nuaulu, North', 'Loniu', 'Ngizim']\n",
      "['Futuna-Aniwa', 'Tigak', 'Vietnamese', 'Aukan', 'Iaai']\n",
      "['Sipakapense', 'Zapotec, Isthmus']\n",
      "['Siroi', 'Citak, Tamnim']\n",
      "['Japanese', 'Lezgi', 'Burushaski', 'Kham, Gamale', 'Turkish', 'Yukaghir, Southern']\n",
      "['Mian', 'Naga, Ao', 'Naga, Chang', 'Kewa, East', 'Awtuw']\n",
      "['Gumawana', 'Slavey, North']\n",
      "['Ubykh', 'Japanese', 'Lezgi', 'Burushaski', 'Kham, Gamale', 'Turkish', 'Yukaghir, Southern']\n",
      "['Sango', 'Nuaulu, North', 'Loniu', 'Ngizim']\n",
      "['Tiwi', 'Koromfé', 'Valman']\n",
      "['Songhay, Koyra Chiini', 'Yoruba', 'Futuna-Aniwa', 'Tigak', 'Vietnamese', 'Aukan', 'Iaai']\n",
      "['Aneityum', 'Gude']\n",
      "['Fulfulde, Adamawa', 'Iraqw', 'Kanuri, Central', 'Maba']\n",
      "['Italian', 'Spanish', 'English', 'Bulgarian', 'Chontal, Tabasco', 'Albanian, Tosk', 'Cornish']\n",
      "['Chin, Bawm', 'Chin, Haka', 'Siroi', 'Citak, Tamnim']\n",
      "['Somali', 'Chechen', 'Mansi']\n",
      "['Tennet', 'Aneityum', 'Gude']\n",
      "['Sulka', 'Sango', 'Nuaulu, North', 'Loniu', 'Ngizim']\n",
      "['Sipakapense', 'Zapotec, Isthmus', 'Tennet', 'Aneityum', 'Gude']\n",
      "['Gumawana', 'Slavey, North', 'Chin, Bawm', 'Chin, Haka', 'Siroi', 'Citak, Tamnim']\n",
      "['Tiwi', 'Koromfé', 'Valman', 'Italian', 'Spanish', 'English', 'Bulgarian', 'Chontal, Tabasco', 'Albanian, Tosk', 'Cornish']\n",
      "['Abkhaz', 'Runga', 'Kamayurá', 'Kenuzi-Dongola', 'Fulfulde, Adamawa', 'Iraqw', 'Kanuri, Central', 'Maba']\n",
      "['Ubykh', 'Japanese', 'Lezgi', 'Burushaski', 'Kham, Gamale', 'Turkish', 'Yukaghir, Southern', 'Somali', 'Chechen', 'Mansi']\n",
      "['Mian', 'Naga, Ao', 'Naga, Chang', 'Kewa, East', 'Awtuw', 'Abkhaz', 'Runga', 'Kamayurá', 'Kenuzi-Dongola', 'Fulfulde, Adamawa', 'Iraqw', 'Kanuri, Central', 'Maba']\n",
      "['Songhay, Koyra Chiini', 'Yoruba', 'Futuna-Aniwa', 'Tigak', 'Vietnamese', 'Aukan', 'Iaai', 'Tiwi', 'Koromfé', 'Valman', 'Italian', 'Spanish', 'English', 'Bulgarian', 'Chontal, Tabasco', 'Albanian, Tosk', 'Cornish']\n",
      "['Sipakapense', 'Zapotec, Isthmus', 'Tennet', 'Aneityum', 'Gude', 'Songhay, Koyra Chiini', 'Yoruba', 'Futuna-Aniwa', 'Tigak', 'Vietnamese', 'Aukan', 'Iaai', 'Tiwi', 'Koromfé', 'Valman', 'Italian', 'Spanish', 'English', 'Bulgarian', 'Chontal, Tabasco', 'Albanian, Tosk', 'Cornish']\n",
      "['Sulka', 'Sango', 'Nuaulu, North', 'Loniu', 'Ngizim', 'Gumawana', 'Slavey, North', 'Chin, Bawm', 'Chin, Haka', 'Siroi', 'Citak, Tamnim']\n",
      "['Ubykh', 'Japanese', 'Lezgi', 'Burushaski', 'Kham, Gamale', 'Turkish', 'Yukaghir, Southern', 'Somali', 'Chechen', 'Mansi', 'Mian', 'Naga, Ao', 'Naga, Chang', 'Kewa, East', 'Awtuw', 'Abkhaz', 'Runga', 'Kamayurá', 'Kenuzi-Dongola', 'Fulfulde, Adamawa', 'Iraqw', 'Kanuri, Central', 'Maba']\n",
      "['Sipakapense', 'Zapotec, Isthmus', 'Tennet', 'Aneityum', 'Gude', 'Songhay, Koyra Chiini', 'Yoruba', 'Futuna-Aniwa', 'Tigak', 'Vietnamese', 'Aukan', 'Iaai', 'Tiwi', 'Koromfé', 'Valman', 'Italian', 'Spanish', 'English', 'Bulgarian', 'Chontal, Tabasco', 'Albanian, Tosk', 'Cornish', 'Sulka', 'Sango', 'Nuaulu, North', 'Loniu', 'Ngizim', 'Gumawana', 'Slavey, North', 'Chin, Bawm', 'Chin, Haka', 'Siroi', 'Citak, Tamnim']\n",
      "['Ubykh', 'Japanese', 'Lezgi', 'Burushaski', 'Kham, Gamale', 'Turkish', 'Yukaghir, Southern', 'Somali', 'Chechen', 'Mansi', 'Mian', 'Naga, Ao', 'Naga, Chang', 'Kewa, East', 'Awtuw', 'Abkhaz', 'Runga', 'Kamayurá', 'Kenuzi-Dongola', 'Fulfulde, Adamawa', 'Iraqw', 'Kanuri, Central', 'Maba', 'Sipakapense', 'Zapotec, Isthmus', 'Tennet', 'Aneityum', 'Gude', 'Songhay, Koyra Chiini', 'Yoruba', 'Futuna-Aniwa', 'Tigak', 'Vietnamese', 'Aukan', 'Iaai', 'Tiwi', 'Koromfé', 'Valman', 'Italian', 'Spanish', 'English', 'Bulgarian', 'Chontal, Tabasco', 'Albanian, Tosk', 'Cornish', 'Sulka', 'Sango', 'Nuaulu, North', 'Loniu', 'Ngizim', 'Gumawana', 'Slavey, North', 'Chin, Bawm', 'Chin, Haka', 'Siroi', 'Citak, Tamnim']\n"
     ]
    }
   ],
   "source": [
    "def get_cluster(clustering,leaves,index):\n",
    "    ''' \n",
    "    return a list of leaves corresponding to the cluster at position index \n",
    "    from an agglomerative clustering\n",
    "    \n",
    "    clustering -- An fitted AgglomerativeClustering object\n",
    "    leaves -- the list of leaf nodes that have been clustered\n",
    "    index -- the index corresponding to the desired cluster, should be a number in the range \n",
    "    (0, cluster.n_leaves_ +len(clusterer.children_))\n",
    "    \n",
    "    Returns: A cluster.\n",
    "    '''\n",
    "    cluster = []\n",
    "    #your code here\n",
    "\n",
    "\n",
    "\n",
    "    #your code here\n",
    "\n",
    "\n",
    "def get_clusters(clustering, leaves):\n",
    "    clusters = []\n",
    "    for i in range(clustering.n_leaves_ + len(clustering.children_)):\n",
    "        clusters.append(get_cluster(clustering,languages,i))\n",
    "    return clusters\n",
    "\n",
    "clusters = get_clusters(clustering, languages)\n",
    "for cluster in clusters:\n",
    "    print(cluster)"
   ]
  },
  {
   "cell_type": "markdown",
   "metadata": {},
   "source": [
    "Assertions to check your code."
   ]
  },
  {
   "cell_type": "code",
   "execution_count": 22,
   "metadata": {},
   "outputs": [],
   "source": [
    "assert len(clusters) == 111\n",
    "assert len(sum(clusters,[])) == 405"
   ]
  },
  {
   "attachments": {},
   "cell_type": "markdown",
   "metadata": {},
   "source": [
    "#### 2.8 optional\n",
    "rubric={accuracy:1,efficiency=1}\n",
    "\n",
    "Assignment 2.7 gives a simple way to compute the language clusters, but this is not the most efficient way. Because of the for-loop in `get_clusters`, many clusters will be computed multiple times. In fact, we end up calling `get_clusters` 699 times, when it would be sufficient to call the function a single time for each cluster we generate, i.e. 111 times in this case.\n",
    "\n",
    "Complete the recursive function `get_clusters_fast` which returns all clusters without resorting to a for-loop. \n",
    "\n",
    "**HINT**: Your function should start at the root nodes and descend recursively toward the leaves. At each stage, you should return, not only the cluster corresponding to the current node, but also all clusters corresponding to its children.\n",
    "\n",
    "**NOTE**: Whereas `get_cluster` returns a single cluster, `get_clusters_fast` needs to return a list of clusters."
   ]
  },
  {
   "cell_type": "code",
   "execution_count": 37,
   "metadata": {},
   "outputs": [
    {
     "name": "stdout",
     "output_type": "stream",
     "text": [
      "['Ubykh', 'Japanese', 'Lezgi', 'Burushaski', 'Kham, Gamale', 'Turkish', 'Yukaghir, Southern', 'Somali', 'Chechen', 'Mansi', 'Mian', 'Naga, Ao', 'Naga, Chang', 'Kewa, East', 'Awtuw', 'Abkhaz', 'Runga', 'Kamayurá', 'Kenuzi-Dongola', 'Fulfulde, Adamawa', 'Iraqw', 'Kanuri, Central', 'Maba', 'Sipakapense', 'Zapotec, Isthmus', 'Tennet', 'Aneityum', 'Gude', 'Songhay, Koyra Chiini', 'Yoruba', 'Futuna-Aniwa', 'Tigak', 'Vietnamese', 'Aukan', 'Iaai', 'Tiwi', 'Koromfé', 'Valman', 'Italian', 'Spanish', 'English', 'Bulgarian', 'Chontal, Tabasco', 'Albanian, Tosk', 'Cornish', 'Sulka', 'Sango', 'Nuaulu, North', 'Loniu', 'Ngizim', 'Gumawana', 'Slavey, North', 'Chin, Bawm', 'Chin, Haka', 'Siroi', 'Citak, Tamnim']\n",
      "['Ubykh', 'Japanese', 'Lezgi', 'Burushaski', 'Kham, Gamale', 'Turkish', 'Yukaghir, Southern', 'Somali', 'Chechen', 'Mansi', 'Mian', 'Naga, Ao', 'Naga, Chang', 'Kewa, East', 'Awtuw', 'Abkhaz', 'Runga', 'Kamayurá', 'Kenuzi-Dongola', 'Fulfulde, Adamawa', 'Iraqw', 'Kanuri, Central', 'Maba']\n",
      "['Ubykh', 'Japanese', 'Lezgi', 'Burushaski', 'Kham, Gamale', 'Turkish', 'Yukaghir, Southern', 'Somali', 'Chechen', 'Mansi']\n",
      "['Ubykh', 'Japanese', 'Lezgi', 'Burushaski', 'Kham, Gamale', 'Turkish', 'Yukaghir, Southern']\n",
      "['Ubykh']\n",
      "['Japanese', 'Lezgi', 'Burushaski', 'Kham, Gamale', 'Turkish', 'Yukaghir, Southern']\n",
      "['Japanese', 'Lezgi']\n",
      "['Japanese']\n",
      "['Lezgi']\n",
      "['Burushaski', 'Kham, Gamale', 'Turkish', 'Yukaghir, Southern']\n",
      "['Burushaski', 'Kham, Gamale']\n",
      "['Burushaski']\n",
      "['Kham, Gamale']\n",
      "['Turkish', 'Yukaghir, Southern']\n",
      "['Turkish']\n",
      "['Yukaghir, Southern']\n",
      "['Somali', 'Chechen', 'Mansi']\n",
      "['Somali']\n",
      "['Chechen', 'Mansi']\n",
      "['Chechen']\n",
      "['Mansi']\n",
      "['Mian', 'Naga, Ao', 'Naga, Chang', 'Kewa, East', 'Awtuw', 'Abkhaz', 'Runga', 'Kamayurá', 'Kenuzi-Dongola', 'Fulfulde, Adamawa', 'Iraqw', 'Kanuri, Central', 'Maba']\n",
      "['Mian', 'Naga, Ao', 'Naga, Chang', 'Kewa, East', 'Awtuw']\n",
      "['Mian', 'Naga, Ao']\n",
      "['Mian']\n",
      "['Naga, Ao']\n",
      "['Naga, Chang', 'Kewa, East', 'Awtuw']\n",
      "['Naga, Chang']\n",
      "['Kewa, East', 'Awtuw']\n",
      "['Kewa, East']\n",
      "['Awtuw']\n",
      "['Abkhaz', 'Runga', 'Kamayurá', 'Kenuzi-Dongola', 'Fulfulde, Adamawa', 'Iraqw', 'Kanuri, Central', 'Maba']\n",
      "['Abkhaz', 'Runga', 'Kamayurá', 'Kenuzi-Dongola']\n",
      "['Abkhaz', 'Runga']\n",
      "['Abkhaz']\n",
      "['Runga']\n",
      "['Kamayurá', 'Kenuzi-Dongola']\n",
      "['Kamayurá']\n",
      "['Kenuzi-Dongola']\n",
      "['Fulfulde, Adamawa', 'Iraqw', 'Kanuri, Central', 'Maba']\n",
      "['Fulfulde, Adamawa']\n",
      "['Iraqw', 'Kanuri, Central', 'Maba']\n",
      "['Iraqw']\n",
      "['Kanuri, Central', 'Maba']\n",
      "['Kanuri, Central']\n",
      "['Maba']\n",
      "['Sipakapense', 'Zapotec, Isthmus', 'Tennet', 'Aneityum', 'Gude', 'Songhay, Koyra Chiini', 'Yoruba', 'Futuna-Aniwa', 'Tigak', 'Vietnamese', 'Aukan', 'Iaai', 'Tiwi', 'Koromfé', 'Valman', 'Italian', 'Spanish', 'English', 'Bulgarian', 'Chontal, Tabasco', 'Albanian, Tosk', 'Cornish', 'Sulka', 'Sango', 'Nuaulu, North', 'Loniu', 'Ngizim', 'Gumawana', 'Slavey, North', 'Chin, Bawm', 'Chin, Haka', 'Siroi', 'Citak, Tamnim']\n",
      "['Sipakapense', 'Zapotec, Isthmus', 'Tennet', 'Aneityum', 'Gude', 'Songhay, Koyra Chiini', 'Yoruba', 'Futuna-Aniwa', 'Tigak', 'Vietnamese', 'Aukan', 'Iaai', 'Tiwi', 'Koromfé', 'Valman', 'Italian', 'Spanish', 'English', 'Bulgarian', 'Chontal, Tabasco', 'Albanian, Tosk', 'Cornish']\n",
      "['Sipakapense', 'Zapotec, Isthmus', 'Tennet', 'Aneityum', 'Gude']\n",
      "['Sipakapense', 'Zapotec, Isthmus']\n",
      "['Sipakapense']\n",
      "['Zapotec, Isthmus']\n",
      "['Tennet', 'Aneityum', 'Gude']\n",
      "['Tennet']\n",
      "['Aneityum', 'Gude']\n",
      "['Aneityum']\n",
      "['Gude']\n",
      "['Songhay, Koyra Chiini', 'Yoruba', 'Futuna-Aniwa', 'Tigak', 'Vietnamese', 'Aukan', 'Iaai', 'Tiwi', 'Koromfé', 'Valman', 'Italian', 'Spanish', 'English', 'Bulgarian', 'Chontal, Tabasco', 'Albanian, Tosk', 'Cornish']\n",
      "['Songhay, Koyra Chiini', 'Yoruba', 'Futuna-Aniwa', 'Tigak', 'Vietnamese', 'Aukan', 'Iaai']\n",
      "['Songhay, Koyra Chiini', 'Yoruba']\n",
      "['Songhay, Koyra Chiini']\n",
      "['Yoruba']\n",
      "['Futuna-Aniwa', 'Tigak', 'Vietnamese', 'Aukan', 'Iaai']\n",
      "['Futuna-Aniwa', 'Tigak', 'Vietnamese']\n",
      "['Futuna-Aniwa']\n",
      "['Tigak', 'Vietnamese']\n",
      "['Tigak']\n",
      "['Vietnamese']\n",
      "['Aukan', 'Iaai']\n",
      "['Aukan']\n",
      "['Iaai']\n",
      "['Tiwi', 'Koromfé', 'Valman', 'Italian', 'Spanish', 'English', 'Bulgarian', 'Chontal, Tabasco', 'Albanian, Tosk', 'Cornish']\n",
      "['Tiwi', 'Koromfé', 'Valman']\n",
      "['Tiwi']\n",
      "['Koromfé', 'Valman']\n",
      "['Koromfé']\n",
      "['Valman']\n",
      "['Italian', 'Spanish', 'English', 'Bulgarian', 'Chontal, Tabasco', 'Albanian, Tosk', 'Cornish']\n",
      "['Italian', 'Spanish', 'English', 'Bulgarian', 'Chontal, Tabasco']\n",
      "['Italian', 'Spanish']\n",
      "['Italian']\n",
      "['Spanish']\n",
      "['English', 'Bulgarian', 'Chontal, Tabasco']\n",
      "['English']\n",
      "['Bulgarian', 'Chontal, Tabasco']\n",
      "['Bulgarian']\n",
      "['Chontal, Tabasco']\n",
      "['Albanian, Tosk', 'Cornish']\n",
      "['Albanian, Tosk']\n",
      "['Cornish']\n",
      "['Sulka', 'Sango', 'Nuaulu, North', 'Loniu', 'Ngizim', 'Gumawana', 'Slavey, North', 'Chin, Bawm', 'Chin, Haka', 'Siroi', 'Citak, Tamnim']\n",
      "['Sulka', 'Sango', 'Nuaulu, North', 'Loniu', 'Ngizim']\n",
      "['Sulka']\n",
      "['Sango', 'Nuaulu, North', 'Loniu', 'Ngizim']\n",
      "['Sango']\n",
      "['Nuaulu, North', 'Loniu', 'Ngizim']\n",
      "['Nuaulu, North']\n",
      "['Loniu', 'Ngizim']\n",
      "['Loniu']\n",
      "['Ngizim']\n",
      "['Gumawana', 'Slavey, North', 'Chin, Bawm', 'Chin, Haka', 'Siroi', 'Citak, Tamnim']\n",
      "['Gumawana', 'Slavey, North']\n",
      "['Gumawana']\n",
      "['Slavey, North']\n",
      "['Chin, Bawm', 'Chin, Haka', 'Siroi', 'Citak, Tamnim']\n",
      "['Chin, Bawm', 'Chin, Haka']\n",
      "['Chin, Bawm']\n",
      "['Chin, Haka']\n",
      "['Siroi', 'Citak, Tamnim']\n",
      "['Siroi']\n",
      "['Citak, Tamnim']\n"
     ]
    }
   ],
   "source": [
    "def get_clusters_fast(clustering,leaves,index):\n",
    "    ''' \n",
    "    Return all clusters corresponding to subnodes of index and the cluster corresponding to index itself.\n",
    "    \n",
    "    clustering -- An fitted AgglomerativeClustering object\n",
    "    leaves -- the list of leaf nodes that have been clustered\n",
    "    index -- the index corresponding to the desired cluster, should be a number in the range \n",
    "    (0, cluster.n_leaves_ +len(clusterer.children_))\n",
    "    \n",
    "    Returns: A list of clusters.\n",
    "    '''\n",
    "    clusters = []\n",
    "    \n",
    "    #your code here\n",
    "    \n",
    "    #your code here\n",
    "\n",
    "\n",
    "root_index = len(languages) + len(clustering.children_) - 1\n",
    "clusters = get_clusters_fast(clustering,languages, root_index)\n",
    "\n",
    "for cluster in clusters:\n",
    "    print(cluster)"
   ]
  },
  {
   "cell_type": "markdown",
   "metadata": {},
   "source": [
    "Assertions to check your code."
   ]
  },
  {
   "cell_type": "code",
   "execution_count": 38,
   "metadata": {},
   "outputs": [],
   "source": [
    "assert len(clusters) == 111\n",
    "assert len(sum(clusters,[])) == 405"
   ]
  },
  {
   "cell_type": "markdown",
   "metadata": {},
   "source": [
    "We can now check that `get_clusters_fast` is faster than `get_clusters`:"
   ]
  },
  {
   "cell_type": "code",
   "execution_count": 25,
   "metadata": {},
   "outputs": [
    {
     "name": "stdout",
     "output_type": "stream",
     "text": [
      "CPU times: user 3.7 s, sys: 219 ms, total: 3.91 s\n",
      "Wall time: 3.52 s\n"
     ]
    }
   ],
   "source": [
    "%%time\n",
    "for i in range(10000):\n",
    "    get_clusters(clustering, languages)"
   ]
  },
  {
   "cell_type": "code",
   "execution_count": 26,
   "metadata": {},
   "outputs": [
    {
     "name": "stdout",
     "output_type": "stream",
     "text": [
      "CPU times: user 786 ms, sys: 7.76 ms, total: 794 ms\n",
      "Wall time: 804 ms\n"
     ]
    }
   ],
   "source": [
    "%%time\n",
    "for i in range(10000):\n",
    "    get_clusters_fast(clustering, languages, root_index)"
   ]
  },
  {
   "cell_type": "markdown",
   "metadata": {},
   "source": [
    "#### 2.9 optional\n",
    "rubric={viz:1}\n",
    "\n",
    "Create a dendogram that reflects the the top of hierarchy you've created, but with some of the details at the bottom of the tree omitted (meaning that it is okay to collapse some languages into a single leaf node). \n",
    "\n",
    "You should modify the code from the lecture, and you will use the function you just wrote in two ways. First, you should use it to give appropriate values for the `no_of_observations` parameter. Second, you should create a `leaf_label_func` (see the [scipy docs](https://docs.scipy.org/doc/scipy-0.14.0/reference/generated/scipy.cluster.hierarchy.dendrogram.html) for an example) that will, provide a label consisting of all the language under that node. You should set the `truncate_mode` option to `\"lastp\"`, `leaf_rotation` to 90, and play with the $p$ for the dendogram as well as `ylim` for matplotlib (to set the y axis range) until you are satisfied that you have a fairly nice-looking dendogram."
   ]
  },
  {
   "cell_type": "code",
   "execution_count": 39,
   "metadata": {},
   "outputs": [
    {
     "data": {
      "image/png": "[encoded data removed]",
      "text/plain": [
       "<Figure size 640x480 with 1 Axes>"
      ]
     },
     "metadata": {},
     "output_type": "display_data"
    }
   ],
   "source": [
    "# your code here\n",
    "from matplotlib import pyplot as plt\n",
    "\n",
    "plt.title('Language Clustering Dendrogram')"
   ]
  },
  {
   "attachments": {},
   "cell_type": "markdown",
   "metadata": {},
   "source": [
    "**\n",
    "```\n",
    "['English']\n",
    "['English', 'Bulgarian', 'Chontal, Tabasco']\n",
    "['Italian', 'Spanish', 'English', 'Bulgarian', 'Chontal, Tabasco']\n",
    "['Italian', 'Spanish', 'English', 'Bulgarian', 'Chontal, Tabasco', 'Albanian, Tosk', 'Cornish']\n",
    "...\n",
    "```\n",
    "![Clustering](cluster.png)"
   ]
  },
  {
   "cell_type": "code",
   "execution_count": null,
   "metadata": {},
   "outputs": [],
   "source": []
  }
 ],
 "metadata": {
  "kernelspec": {
   "display_name": "Python 3",
   "language": "python",
   "name": "python3"
  },
  "language_info": {
   "codemirror_mode": {
    "name": "ipython",
    "version": 3
   },
   "file_extension": ".py",
   "mimetype": "text/x-python",
   "name": "python",
   "nbconvert_exporter": "python",
   "pygments_lexer": "ipython3",
   "version": "3.9.6"
  },
  "vscode": {
   "interpreter": {
    "hash": "20bf69066c0dd38d51965b69d5e1b6e387082e3198ba56e97997ac55f4e50ad0"
   }
  }
 },
 "nbformat": 4,
 "nbformat_minor": 2
}
