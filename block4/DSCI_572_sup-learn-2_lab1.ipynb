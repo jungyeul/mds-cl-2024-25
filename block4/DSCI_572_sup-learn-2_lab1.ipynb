{
 "cells": [
  {
   "attachments": {},
   "cell_type": "markdown",
   "id": "c29c908e",
   "metadata": {},
   "source": [
    "# DSCI 563 Lab 1: Tensor manipulation & building Neural Networks\n",
    "\n",
    "### Assignment Topics\n",
    "* Introduction to Neural Nets, (Feed Forward-NNs / Multi-layer Perceptrons)\n",
    "* Operations on tensor\n",
    "* Linearities, non-linearities and loss functions\n",
    "\n",
    "### Software Requirements\n",
    "* Python (>=3.6)\n",
    "* PyTorch (>=1.2.0)\n",
    "* Jupyter (latest)\n",
    "* Scikit Learn (>=0.23.2)\n",
    "* Skorch (>=0.9)\n",
    "\n",
    "## Getting started\n",
    "\n",
    "Run the following code:"
   ]
  },
  {
   "cell_type": "code",
   "execution_count": 4,
   "id": "afe1588e",
   "metadata": {},
   "outputs": [
    {
     "name": "stdout",
     "output_type": "stream",
     "text": [
      "cpu\n"
     ]
    }
   ],
   "source": [
    "# Run this to import the required libraries \n",
    "import numpy as np\n",
    "import torch\n",
    "import torch.nn as nn\n",
    "from sklearn.datasets import load_digits  \n",
    "import matplotlib.pyplot as plt\n",
    "import sklearn.metrics\n",
    "\n",
    "# We'll use double values in our tensors\n",
    "torch.set_default_dtype(torch.float64)\n",
    "\n",
    "# Checks if GPU is available, otherwise use CPU.\n",
    "device = torch.device(\"cuda\" if torch.cuda.is_available() else \"cpu\") \n",
    "torch.backends.cudnn.deterministic=True\n",
    "print(device)"
   ]
  },
  {
   "cell_type": "markdown",
   "id": "910efa93",
   "metadata": {},
   "source": [
    "## Tidy Submission\n",
    "rubric={mechanics:1}\n",
    "\n",
    "To get the marks for tidy submission:\n",
    "\n",
    "* Submit the assignment by filling in this jupyter notebook with your answers embedded\n",
    "* Be sure to follow the [general lab instructions](https://ubc-mds.github.io/resources_pages/general_lab_instructions)"
   ]
  },
  {
   "attachments": {},
   "cell_type": "markdown",
   "id": "159d68ca",
   "metadata": {},
   "source": [
    "## Assignment 1\n",
    "\n",
    "Short exercises with numpy arrays. You will create and manipulate arrays in various ways.\n",
    "\n",
    "### Assignment 1.1\n",
    "rubric={accuracy:1}\n",
    "\n",
    "Create the following numpy arrays `a` and `b`. Compute their matrix product (`@` or `np.dot()`) and print the result.\n",
    "\n",
    "```\n",
    "a: [[1 3]\n",
    "    [5 2]\n",
    "    [8 3]]\n",
    "    \n",
    "b: [[0 1 0]\n",
    "    [0 0 1]]\n",
    "```"
   ]
  },
  {
   "cell_type": "code",
   "execution_count": 2,
   "id": "86bc5d42",
   "metadata": {},
   "outputs": [
    {
     "name": "stdout",
     "output_type": "stream",
     "text": [
      "[[1 3]\n",
      " [5 2]\n",
      " [8 3]]\n",
      "[[0 1 0]\n",
      " [0 0 1]]\n",
      "[[0 1 3]\n",
      " [0 5 2]\n",
      " [0 8 3]]\n",
      "[[0 1 3]\n",
      " [0 5 2]\n",
      " [0 8 3]]\n"
     ]
    }
   ],
   "source": [
    "# your code here\n",
    "\n",
    "# cheatsheet\n",
    "print(a)\n",
    "print(b)\n",
    "print(a @ b)\n",
    "print(np.dot(a, b))"
   ]
  },
  {
   "cell_type": "markdown",
   "id": "e49cec3e",
   "metadata": {},
   "source": [
    "### Assignment 1.2\n",
    "rubric={accuracy:1}\n",
    "\n",
    "Create a numpy array `a`:\n",
    "\n",
    "```\n",
    "a: [[1 2]\n",
    "    [3 4]]\n",
    "```\n",
    "\n",
    "Create a matrix `b` such that the matrix product of `a` and `b` is:\n",
    "\n",
    "```\n",
    "[[ 1  2 -2 -1]\n",
    " [ 3  4 -4 -3]]\n",
    "```"
   ]
  },
  {
   "cell_type": "code",
   "execution_count": 39,
   "id": "b2e971da",
   "metadata": {},
   "outputs": [
    {
     "data": {
      "text/plain": [
       "True"
      ]
     },
     "execution_count": 39,
     "metadata": {},
     "output_type": "execute_result"
    }
   ],
   "source": [
    "# your code here\n",
    "a = \n",
    "b = \n",
    "c = a@b\n",
    "\n",
    "# cheatsheet\n",
    "from numpy.linalg import inv\n",
    "# b = (inverse of a) @ c\n",
    "np.allclose(a@b,c)"
   ]
  },
  {
   "attachments": {},
   "cell_type": "markdown",
   "id": "d472e030",
   "metadata": {},
   "source": [
    "### Assignment 1.3\n",
    "rubric={accuracy:1}\n",
    "\n",
    "Compute the Hadamard product of `a` with itself using numpy operations (`*` or `np.multiply()`):\n",
    "\n",
    "```\n",
    "a: [[1 2]\n",
    "    [3 4]]\n",
    "```"
   ]
  },
  {
   "cell_type": "code",
   "execution_count": 5,
   "id": "877b94e1",
   "metadata": {},
   "outputs": [
    {
     "name": "stdout",
     "output_type": "stream",
     "text": [
      "[[ 1  4]\n",
      " [ 9 16]]\n"
     ]
    },
    {
     "data": {
      "text/plain": [
       "array([[ 1,  4],\n",
       "       [ 9, 16]])"
      ]
     },
     "execution_count": 5,
     "metadata": {},
     "output_type": "execute_result"
    }
   ],
   "source": [
    "# Hadamard product = element-wise \n",
    "# Your code here\n",
    "\n",
    "a = np.array([[1,2],[3,4]])\n"
   ]
  },
  {
   "cell_type": "markdown",
   "id": "a76deec2",
   "metadata": {},
   "source": [
    "### Assignment 1.4\n",
    "rubric={acuracy:1}\n",
    "\n",
    "Initialize a 3 x 3 array `a` with random floating point elements sampled uniformly from the range $[-2, 4]$. Print `a`. \n",
    "\n",
    "(There exist a few different ways to solve this assignment)"
   ]
  },
  {
   "cell_type": "code",
   "execution_count": 44,
   "id": "78a05993",
   "metadata": {},
   "outputs": [
    {
     "name": "stdout",
     "output_type": "stream",
     "text": [
      "[[ 3.04529228  2.75583449  1.00301083]\n",
      " [ 3.30172844 -0.4739906  -0.44980771]\n",
      " [ 2.54719578  0.16255242  0.9045189 ]]\n"
     ]
    }
   ],
   "source": [
    "# https://numpy.org/doc/stable/reference/random/generated/numpy.random.uniform.html\n",
    "# random.uniform(low=0.0, high=1.0, size=None) where size = [3,3]\n",
    "\n",
    "\n",
    "# https://numpy.org/doc/stable/reference/random/generated/numpy.random.random.html \n",
    "# Return random floats in the half-open interval [0.0, 1.0): 0.0 included and 1.0 exculed \n",
    "# x*0 + y = -2; x*1 + y = 4\n",
    "# a = x * np.random.random((3,3)) - y\n",
    "\n",
    "# print(a)"
   ]
  },
  {
   "cell_type": "markdown",
   "id": "903a90a4",
   "metadata": {},
   "source": [
    "### Assignment 1.5\n",
    "rubric={accuracy:2}\n",
    "\n",
    "Compute the matrix product of the following matrices manually using loops. Check that your answer is correct by comparing to the matrix product compute by numpy.\n",
    "\n",
    "```\n",
    "a: [[0.  1.  0.5]\n",
    "    [1.5 2.  0. ]]\n",
    "    \n",
    "b = [[1 1]\n",
    "     [0 1],\n",
    "     [1 0]]\n",
    "```"
   ]
  },
  {
   "cell_type": "code",
   "execution_count": 7,
   "id": "46fdcd6e",
   "metadata": {},
   "outputs": [
    {
     "name": "stdout",
     "output_type": "stream",
     "text": [
      "[[0.5 1. ]\n",
      " [1.5 3.5]]\n",
      "[[0.5 1. ]\n",
      " [1.5 3.5]]\n"
     ]
    },
    {
     "data": {
      "text/plain": [
       "True"
      ]
     },
     "execution_count": 7,
     "metadata": {},
     "output_type": "execute_result"
    }
   ],
   "source": [
    "a = np.array([[0,1,0.5],[1.5,2,0]])\n",
    "b = np.array([[1,1],[0,1],[1,0]])\n",
    "\n",
    "c = np.zeros((a.shape[0],b.shape[1]))\n",
    "\n",
    "# your code here\n",
    "\n",
    "\n",
    "# your code here\n",
    "            \n",
    "print(c)\n",
    "print(a @ b)\n",
    "(c == a@b).all()"
   ]
  },
  {
   "cell_type": "markdown",
   "id": "673647a7",
   "metadata": {},
   "source": [
    "## Assignment 2\n",
    "\n",
    "Short exercises with pytoch arrays. You will create and manipulate arrays in various ways.\n",
    "\n",
    "### Assignment 2.1\n",
    "rubric={accuracy:1}\n",
    "\n",
    "Choose all elements in the middle column of the following tensor:"
   ]
  },
  {
   "cell_type": "code",
   "execution_count": 47,
   "id": "d6f376a7",
   "metadata": {},
   "outputs": [
    {
     "data": {
      "text/plain": [
       "tensor([[ 0.5000,  0.1000,  2.0000],\n",
       "        [ 1.0000,  2.0000,  3.0000],\n",
       "        [-1.0000,  0.2000,  0.1000]])"
      ]
     },
     "execution_count": 47,
     "metadata": {},
     "output_type": "execute_result"
    }
   ],
   "source": [
    "x = torch.tensor([[0.5, 0.1, 2  ],\n",
    "                  [1,   2,   3  ],\n",
    "                  [-1,  0.2, 0.1]])\n",
    "x"
   ]
  },
  {
   "attachments": {},
   "cell_type": "markdown",
   "id": "4372f8ce",
   "metadata": {},
   "source": [
    "```\n",
    "                    |\n",
    "                    V\n",
    "tensor([[ 0.5000,  0.1000,  2.0000],\n",
    "        [ 1.0000,  2.0000,  3.0000],        \n",
    "        [-1.0000,  0.2000,  0.1000]])\n",
    "```"
   ]
  },
  {
   "cell_type": "code",
   "execution_count": 46,
   "id": "ae6048bb",
   "metadata": {},
   "outputs": [
    {
     "name": "stdout",
     "output_type": "stream",
     "text": [
      "tensor([0.1000, 2.0000, 0.2000])\n"
     ]
    }
   ],
   "source": [
    "# your code here\n"
   ]
  },
  {
   "cell_type": "markdown",
   "id": "175804e8",
   "metadata": {},
   "source": [
    "### Assignment 2.2\n",
    "rubric={accuracy:1}\n",
    "\n",
    "Choose all elements on the first and third row and in the second and third column of tensor `x`.\n",
    "\n",
    "(Hint: The result will have four elements. It may be a good idea to do this in two steps)"
   ]
  },
  {
   "attachments": {},
   "cell_type": "markdown",
   "id": "3edcf8ce",
   "metadata": {},
   "source": [
    "```\n",
    "                    |           |\n",
    "                    V           V\n",
    "tensor([[ 0.5000,  0.1000,  2.0000],            <-\n",
    "        [ 1.0000,  2.0000,  3.0000],\n",
    "        [-1.0000,  0.2000,  0.1000]])           <-\n",
    "```"
   ]
  },
  {
   "cell_type": "code",
   "execution_count": 10,
   "id": "f67601c8",
   "metadata": {},
   "outputs": [
    {
     "name": "stdout",
     "output_type": "stream",
     "text": [
      "tensor([[0.1000, 2.0000],\n",
      "        [0.2000, 0.1000]])\n"
     ]
    }
   ],
   "source": [
    "# your code here\n"
   ]
  },
  {
   "cell_type": "markdown",
   "id": "e6bf32eb",
   "metadata": {},
   "source": [
    "### Assignment 2.3\n",
    "rubric={accuracy:1}\n",
    "\n",
    "Initialize a 2 x 3 x 4 tensor `s` and a 4 x 2 tensor `t`. Compute the product of `s` with `t`. Print the size of the tensor. It should be 2 x 3 x 2."
   ]
  },
  {
   "cell_type": "code",
   "execution_count": 11,
   "id": "389294bd",
   "metadata": {},
   "outputs": [
    {
     "name": "stdout",
     "output_type": "stream",
     "text": [
      "torch.Size([2, 3, 2])\n"
     ]
    }
   ],
   "source": [
    "# https://pytorch.org/docs/stable/generated/torch.rand.html\n",
    "\n",
    "print((s@t).size())"
   ]
  },
  {
   "cell_type": "markdown",
   "id": "081ee665",
   "metadata": {},
   "source": [
    "### Assignment 2.4 \n",
    "rubric={accuracy:1}\n",
    "\n",
    "You are given the following tensors `s` and `t` of size 3:"
   ]
  },
  {
   "cell_type": "code",
   "execution_count": 48,
   "id": "8dd6e4a8",
   "metadata": {},
   "outputs": [],
   "source": [
    "s = torch.tensor([1,2,3])\n",
    "t = torch.tensor([1,2,3])"
   ]
  },
  {
   "cell_type": "markdown",
   "id": "0ca15fd8",
   "metadata": {},
   "source": [
    "If you compute the matrix product of `s` and `t`, you'll get a scalar, that is, tensor of size 1. However, there is another way to multiply two tensors of size 3 and get a tensor of size 3 x 3 as result.\n",
    "\n",
    "First use the `unsqueeze` operation to transform `s` into a 3 x 1 tensor and `t` to a 1 x 3 tensor. Then compute the matrix product of `s` and `t`. Print the product tensor and its size."
   ]
  },
  {
   "cell_type": "code",
   "execution_count": 49,
   "id": "ec5d055f",
   "metadata": {},
   "outputs": [
    {
     "name": "stdout",
     "output_type": "stream",
     "text": [
      "tensor([[1],\n",
      "        [2],\n",
      "        [3]])\n",
      "tensor([[1, 2, 3]])\n"
     ]
    }
   ],
   "source": []
  },
  {
   "attachments": {},
   "cell_type": "markdown",
   "id": "e68cf528",
   "metadata": {},
   "source": [
    "![unsqueeze](unsqueeze.png)"
   ]
  },
  {
   "cell_type": "code",
   "execution_count": 13,
   "id": "0d1b5537",
   "metadata": {},
   "outputs": [
    {
     "name": "stdout",
     "output_type": "stream",
     "text": [
      "tensor([[1, 2, 3],\n",
      "        [2, 4, 6],\n",
      "        [3, 6, 9]])\n",
      "torch.Size([3, 3])\n"
     ]
    }
   ],
   "source": [
    "u = \n",
    "print(u)\n",
    "print(u.size())"
   ]
  },
  {
   "cell_type": "markdown",
   "id": "055fa717",
   "metadata": {},
   "source": [
    "### Assignment 2.5\n",
    "rubric={accuracy:2}\n",
    "\n",
    "You are given the following tensor `t`:"
   ]
  },
  {
   "cell_type": "code",
   "execution_count": 52,
   "id": "8d3291ee",
   "metadata": {},
   "outputs": [],
   "source": [
    "t = torch.rand(3,3,4)"
   ]
  },
  {
   "attachments": {},
   "cell_type": "markdown",
   "id": "537b1499",
   "metadata": {},
   "source": [
    "Transpose (`transpose`) axes 2 and 3 of `t` and save the result as t_tr. Check that `t[0,1,2] == t_tr[0,2,1]`.\n",
    "https://pytorch.org/docs/stable/generated/torch.transpose.html"
   ]
  },
  {
   "cell_type": "code",
   "execution_count": 55,
   "id": "54dc36eb",
   "metadata": {},
   "outputs": [
    {
     "name": "stdout",
     "output_type": "stream",
     "text": [
      "tensor([[[0.7929, 0.2575, 0.6029, 0.1876],\n",
      "         [0.8466, 0.4568, 0.7253, 0.7253],\n",
      "         [0.3712, 0.9726, 0.1285, 0.5960]],\n",
      "\n",
      "        [[0.7019, 0.2524, 0.7976, 0.9000],\n",
      "         [0.0971, 0.1821, 0.3148, 0.3473],\n",
      "         [0.4190, 0.4985, 0.2488, 0.6088]],\n",
      "\n",
      "        [[0.0333, 0.1104, 0.8923, 0.9407],\n",
      "         [0.9960, 0.3496, 0.1304, 0.4333],\n",
      "         [0.8031, 0.6851, 0.4028, 0.1947]]])\n",
      "tensor([[[0.7929, 0.8466, 0.3712],\n",
      "         [0.2575, 0.4568, 0.9726],\n",
      "         [0.6029, 0.7253, 0.1285],\n",
      "         [0.1876, 0.7253, 0.5960]],\n",
      "\n",
      "        [[0.7019, 0.0971, 0.4190],\n",
      "         [0.2524, 0.1821, 0.4985],\n",
      "         [0.7976, 0.3148, 0.2488],\n",
      "         [0.9000, 0.3473, 0.6088]],\n",
      "\n",
      "        [[0.0333, 0.9960, 0.8031],\n",
      "         [0.1104, 0.3496, 0.6851],\n",
      "         [0.8923, 0.1304, 0.4028],\n",
      "         [0.9407, 0.4333, 0.1947]]])\n",
      "torch.Size([3, 3, 4])\n",
      "torch.Size([3, 4, 3])\n"
     ]
    }
   ],
   "source": [
    "print(t)\n",
    "t_tr = \n",
    "print(t_tr)\n",
    "\n",
    "print(t.size())\n",
    "print(t_tr.size())"
   ]
  },
  {
   "cell_type": "code",
   "execution_count": 56,
   "id": "b269ece6",
   "metadata": {},
   "outputs": [],
   "source": [
    "assert(t[0,1,2] == t_tr[0,2,1])"
   ]
  },
  {
   "attachments": {},
   "cell_type": "markdown",
   "id": "0a7a8155",
   "metadata": {},
   "source": [
    "## Assignment 3\n",
    "\n",
    "In this final obligatory assignment, we'll build a pytorch multi-layer perceptron for digit classification. The digits we'll classify are simple 8-by-8 pixel grayscale images like the one below (representing the digit 0):\n",
    "\n",
    "<img src=\"zero.png\" alt=\"Zero\" style=\"width: 100px;\"/>\n",
    "\n",
    "We will train neural networks to associate each picture with a digit label (0, 1, 2, 3, 4, 5, 6, 7 ,8 or 9).\n",
    "\n",
    "### Assignment 3.1\n",
    "rubric={accuracy:5, quality:1}\n",
    "\n",
    "We'll start by reading a dataset of digit images and their gold standard digit labels. This dataset is the [Optical Recognition of Handwritten Digits Data Set](https://archive.ics.uci.edu/ml/datasets/Optical+Recognition+of+Handwritten+Digits) which is included in the sklearn library. \n",
    "\n",
    "1. First, use the **[`load_digits`](https://scikit-learn.org/stable/modules/generated/sklearn.datasets.load_digits.html)** function from sklearn with argument **`return_X_y=True`** to read the data into a matrix `X` and vector `y` of shape 1787 x 64 and 1797, respectively. Print the shape of `X` and `y` to make sure that they are correct.\n",
    "\n",
    "2. Then, use the pyplot **[`imshow`](https://matplotlib.org/stable/api/_as_gen/matplotlib.pyplot.imshow.html)** function to plot the ten first digits in `X` as **8 x 8 grayscale images** (`(8,8)` and `camp='gray'`). Before you plot an example `x`, you will need to call [`reshape()`](https://numpy.org/doc/stable/reference/generated/numpy.reshape.html) to transform it from a 64-dimensional vector into an 8 x 8 image.\n",
    "\n",
    "3. Finally, assign the 1000 first examples in `X` and `y` into a training set (`train_X` and `train_y`), the 400 following examples into a development set (`dev_X` and `dev_y`) and the final 397 examples into a test set (`test_X` and `test_y`). Because we're using pytorch models, you will need to transform every example in `train_X`, `dev_X` and `test_X` into a torch tensor. Do this using the command: \n",
    "    `torch.tensor([x])` for all elements in  `train_X`, `dev_X` and `test_X` \n",
    "\n"
   ]
  },
  {
   "cell_type": "code",
   "execution_count": 16,
   "id": "86e10959",
   "metadata": {},
   "outputs": [
    {
     "name": "stdout",
     "output_type": "stream",
     "text": [
      "(1797, 64)\n",
      "(1797,)\n"
     ]
    },
    {
     "data": {
      "image/png": "[encoded data removed]",
      "text/plain": [
       "<Figure size 640x480 with 1 Axes>"
      ]
     },
     "metadata": {},
     "output_type": "display_data"
    },
    {
     "name": "stdout",
     "output_type": "stream",
     "text": [
      "0\n"
     ]
    },
    {
     "data": {
      "image/png": "[encoded data removed]",
      "text/plain": [
       "<Figure size 640x480 with 1 Axes>"
      ]
     },
     "metadata": {},
     "output_type": "display_data"
    },
    {
     "name": "stdout",
     "output_type": "stream",
     "text": [
      "1\n"
     ]
    },
    {
     "data": {
      "image/png": "[encoded data removed]",
      "text/plain": [
       "<Figure size 640x480 with 1 Axes>"
      ]
     },
     "metadata": {},
     "output_type": "display_data"
    },
    {
     "name": "stdout",
     "output_type": "stream",
     "text": [
      "2\n"
     ]
    },
    {
     "data": {
      "image/png": "[encoded data removed]",
      "text/plain": [
       "<Figure size 640x480 with 1 Axes>"
      ]
     },
     "metadata": {},
     "output_type": "display_data"
    },
    {
     "name": "stdout",
     "output_type": "stream",
     "text": [
      "3\n"
     ]
    },
    {
     "data": {
      "image/png": "[encoded data removed]",
      "text/plain": [
       "<Figure size 640x480 with 1 Axes>"
      ]
     },
     "metadata": {},
     "output_type": "display_data"
    },
    {
     "name": "stdout",
     "output_type": "stream",
     "text": [
      "4\n"
     ]
    },
    {
     "data": {
      "image/png": "[encoded data removed]",
      "text/plain": [
       "<Figure size 640x480 with 1 Axes>"
      ]
     },
     "metadata": {},
     "output_type": "display_data"
    },
    {
     "name": "stdout",
     "output_type": "stream",
     "text": [
      "5\n"
     ]
    },
    {
     "data": {
      "image/png": "[encoded data removed]",
      "text/plain": [
       "<Figure size 640x480 with 1 Axes>"
      ]
     },
     "metadata": {},
     "output_type": "display_data"
    },
    {
     "name": "stdout",
     "output_type": "stream",
     "text": [
      "6\n"
     ]
    },
    {
     "data": {
      "image/png": "[encoded data removed]",
      "text/plain": [
       "<Figure size 640x480 with 1 Axes>"
      ]
     },
     "metadata": {},
     "output_type": "display_data"
    },
    {
     "name": "stdout",
     "output_type": "stream",
     "text": [
      "7\n"
     ]
    },
    {
     "data": {
      "image/png": "[encoded data removed]",
      "text/plain": [
       "<Figure size 640x480 with 1 Axes>"
      ]
     },
     "metadata": {},
     "output_type": "display_data"
    },
    {
     "name": "stdout",
     "output_type": "stream",
     "text": [
      "8\n"
     ]
    },
    {
     "data": {
      "image/png": "[encoded data removed]",
      "text/plain": [
       "<Figure size 640x480 with 1 Axes>"
      ]
     },
     "metadata": {},
     "output_type": "display_data"
    },
    {
     "name": "stdout",
     "output_type": "stream",
     "text": [
      "9\n"
     ]
    },
    {
     "name": "stderr",
     "output_type": "stream",
     "text": [
      "/var/folders/n9/3r6hrp015t9d1n6m8l36t0yh0000gn/T/ipykernel_52243/3011978203.py:22: UserWarning: Creating a tensor from a list of numpy.ndarrays is extremely slow. Please consider converting the list to a single numpy.ndarray with numpy.array() before converting to a tensor. (Triggered internally at /Users/runner/work/pytorch/pytorch/pytorch/torch/csrc/utils/tensor_new.cpp:233.)\n",
      "  train_X = [torch.tensor([x]) for x in train_X]\n"
     ]
    }
   ],
   "source": [
    "# your code here\n"
   ]
  },
  {
   "attachments": {},
   "cell_type": "markdown",
   "id": "4cbada5e",
   "metadata": {},
   "source": [
    "### Assingment 3.2\n",
    "rubric={accuracy:7, quality:1}\n",
    "\n",
    "Next, we'll define a `DigitClassifier` class which represents a multi-layer perceptron. This perceptron should have take 64-dimensional vectors as input (these represent the 8x8 grayscale images that we just loaded). The model will then classify the input vector into one of 10 possible digit labels (0 to 9). \n",
    "\n",
    "The model will take a 1 x 64 tensor as input and produce a 1 x 10 tensor as output. The layers of the model are the following (in order from input to output) `64` $\\rightarrow$ `10`:\n",
    "\n",
    "1. Linear layer 1 containing 20 neurons `nn.Linear(64, 20)`\n",
    "1. Relu non-linearity 1                 `nn.ReLu()`\n",
    "1. Linear layer 2 containing 20 neurons \n",
    "1. Relu non-linearity 2\n",
    "1. Linear layer 3 containing 10 neurons \n",
    "1. Softmax layer\n",
    "\n",
    "Implement the `DigitClassifier` class as a subclass of `torch.nn.Module`. You will need to implement both the `__init__` and `forward` method.\n",
    "\n",
    "Additionally, implement a test which checks that the input (`t_in (1,64)`) and output (`t_out (1,10)` ) dimension of the class are correct and that the output is a probability distribution.\n",
    "\n",
    "(Hint: The [`item`](https://pytorch.org/docs/stable/generated/torch.Tensor.item.html) member function can be useful here. The sum of the probabilities in the model output might not be exactly 1, but it should be very close)"
   ]
  },
  {
   "cell_type": "code",
   "execution_count": 9,
   "id": "6cbd6168",
   "metadata": {},
   "outputs": [
    {
     "name": "stdout",
     "output_type": "stream",
     "text": [
      "tensor([[0.0860, 0.0883, 0.0986, 0.1166, 0.1000, 0.0969, 0.0966, 0.1026, 0.0947,\n",
      "         0.1197]], grad_fn=<SoftmaxBackward0>)\n",
      "tensor(1., grad_fn=<SumBackward0>)\n",
      "1.0\n"
     ]
    }
   ],
   "source": [
    "# your code here\n",
    "\n",
    "    \n",
    "# TEST\n",
    "\n",
    "print(t_out)\n",
    "print(t_out.sum())\n",
    "print(t_out.sum().item())\n",
    "assert(abs(t_out.sum().item() - 1) < 0.00001)"
   ]
  },
  {
   "cell_type": "markdown",
   "id": "c1648fc1",
   "metadata": {},
   "source": [
    "### Assignment 3.3\n",
    "rubric={accuracy:3,quality:1}\n",
    "\n",
    "You are given the following function for model training. Don't worry if you don't understand it yet, we will talk about model training next week.  "
   ]
  },
  {
   "cell_type": "code",
   "execution_count": 18,
   "id": "a510daf3",
   "metadata": {},
   "outputs": [],
   "source": [
    "def train(model, train_X, train_y, dev_X, dev_y,epochs,quiet=False):\n",
    "    loss_function = nn.NLLLoss()\n",
    "    sgd = torch.optim.SGD(model.parameters(), lr=0.001)\n",
    "    for epoch in range(epochs):\n",
    "        tot_loss = 0\n",
    "        for x, y in zip(train_X, train_y):\n",
    "            model.zero_grad()\n",
    "            sys_y = model(x).log()\n",
    "            loss = loss_function(sys_y, torch.tensor([y]))\n",
    "            loss.backward()\n",
    "            sgd.step()\n",
    "            tot_loss += loss\n",
    "        if not quiet:\n",
    "            print(f\"Epoch {epoch+1} loss: {tot_loss/len(train_y)}\")"
   ]
  },
  {
   "attachments": {},
   "cell_type": "markdown",
   "id": "7b8002a1",
   "metadata": {},
   "source": [
    "Initialize a `DigitClassifier` object and use the `train` function to train it for `20` epochs. The function prints a loss every epoch, it should generally decrease through training (though it can jump up and down a bit).\n",
    "\n",
    "At the end of training, your loss should be clearly < 1. If your loss remains at a higher level, there is probably something wrong with your `DigitClassifier` impelementation."
   ]
  },
  {
   "cell_type": "code",
   "execution_count": 19,
   "id": "c15ffd74",
   "metadata": {},
   "outputs": [
    {
     "name": "stdout",
     "output_type": "stream",
     "text": [
      "Epoch 1 loss: 1.6417761495977028\n",
      "Epoch 2 loss: 0.6085767373892348\n",
      "Epoch 3 loss: 0.3124294191478744\n",
      "Epoch 4 loss: 0.21110985982443298\n",
      "Epoch 5 loss: 0.16215794721701715\n",
      "Epoch 6 loss: 0.13250300901097936\n",
      "Epoch 7 loss: 0.11159877388076307\n",
      "Epoch 8 loss: 0.09526516402351504\n",
      "Epoch 9 loss: 0.08364483098386552\n",
      "Epoch 10 loss: 0.07359422663429814\n",
      "Epoch 11 loss: 0.06493279200273948\n",
      "Epoch 12 loss: 0.05873458770274056\n",
      "Epoch 13 loss: 0.05227344911786918\n",
      "Epoch 14 loss: 0.04679762443893968\n",
      "Epoch 15 loss: 0.042597737032525666\n",
      "Epoch 16 loss: 0.03857533361248277\n",
      "Epoch 17 loss: 0.03513576757364881\n",
      "Epoch 18 loss: 0.03202134146733514\n",
      "Epoch 19 loss: 0.029512470073989425\n",
      "Epoch 20 loss: 0.02739978154288312\n"
     ]
    }
   ],
   "source": []
  },
  {
   "attachments": {},
   "cell_type": "markdown",
   "id": "4af7b200",
   "metadata": {},
   "source": [
    "You should now implement a `classify (data, model)` function. It takes two arguments:\n",
    "\n",
    "1. `data` a list of 1 x 64 dimensional tensors, and\n",
    "1. `model` a `DigitClassifier` object. \n",
    "\n",
    "The function classifies the examples in `data` using `model` and returns a list of class labels, that is, numbers between 0 and 9.\n",
    "\n",
    "** `model(x)`'s output where `x` is the current instance of data: \n",
    "```\n",
    "tensor([[0.0860, 0.0883, 0.0986, 0.1166, 0.1000, 0.0969, 0.0966, 0.1026, 0.0947,\n",
    "         0.1197]], grad_fn=<SoftmaxBackward0>)\n",
    "```\n",
    "\n",
    "You need `argmax()` to find a result\n",
    "\n",
    "\n",
    "Note: You should return a list of numbers, not a list of torch tensors."
   ]
  },
  {
   "cell_type": "code",
   "execution_count": 20,
   "id": "a9375330",
   "metadata": {},
   "outputs": [],
   "source": [
    "# your code here\n"
   ]
  },
  {
   "cell_type": "markdown",
   "id": "733c1a73",
   "metadata": {},
   "source": [
    "Next, implement a function `get_acc` which takes two arguments:\n",
    "\n",
    "1. `y` a list of system predictions generated by `classify`, and\n",
    "1. `gold_y` a list of gold standard correct labels.\n",
    "\n",
    "Your function should compute the accuracy of the predictions in `y` with regard to the gold standard labels in `gold_y`. You can either do this yourself or utilize the function [`accuracy_score`](https://scikit-learn.org/stable/modules/generated/sklearn.metrics.accuracy_score.html) from sklearn."
   ]
  },
  {
   "cell_type": "code",
   "execution_count": 21,
   "id": "241abeda",
   "metadata": {},
   "outputs": [],
   "source": []
  },
  {
   "cell_type": "markdown",
   "id": "895fe465",
   "metadata": {},
   "source": [
    "Finally, classify `dev_X` using your digit classifier and evaluate the accuracy with regard to `dev_y`. You accruacy should be > 90%. Otherwise, something is wrong. "
   ]
  },
  {
   "cell_type": "code",
   "execution_count": 22,
   "id": "a4c5d930",
   "metadata": {},
   "outputs": [
    {
     "name": "stdout",
     "output_type": "stream",
     "text": [
      "0.9375\n"
     ]
    }
   ],
   "source": []
  },
  {
   "cell_type": "markdown",
   "id": "0f3eeda7",
   "metadata": {},
   "source": [
    "### Assignment 3.4\n",
    "rubric={accuracy:3}\n",
    "\n",
    "Pytorch offers a convenient shorthand [`nn.Sequential`](https://pytorch.org/docs/stable/generated/torch.nn.Sequential.html) for defining MLPs and other straightforward neural architectures. Use `nn.Sequential` to create an equivalent model tou your `DigitClassifier` class. \n",
    "\n",
    "Use the `train` function to train the sequential model. Then use your `classify` and `get_acc` functions to make sure that the classification accuracy of the `nn.Sequential` model is on par with your custom-made `DigitClassifier` model (on the development set). "
   ]
  },
  {
   "cell_type": "code",
   "execution_count": 23,
   "id": "3e1faeaa",
   "metadata": {},
   "outputs": [],
   "source": [
    "seq_model = nn.Sequential(...)"
   ]
  },
  {
   "cell_type": "code",
   "execution_count": 24,
   "id": "da1a0dc1",
   "metadata": {},
   "outputs": [
    {
     "name": "stdout",
     "output_type": "stream",
     "text": [
      "Epoch 1 loss: 1.7609065214428117\n",
      "Epoch 2 loss: 0.7148267512396365\n",
      "Epoch 3 loss: 0.34380507218704875\n",
      "Epoch 4 loss: 0.217940583533648\n",
      "Epoch 5 loss: 0.1613649322324957\n",
      "Epoch 6 loss: 0.1317404998996496\n",
      "Epoch 7 loss: 0.11294865550014845\n",
      "Epoch 8 loss: 0.09890905573370935\n",
      "Epoch 9 loss: 0.08739565857254997\n",
      "Epoch 10 loss: 0.07734124418181033\n",
      "Epoch 11 loss: 0.06865681099709102\n",
      "Epoch 12 loss: 0.060855999689093256\n",
      "Epoch 13 loss: 0.05403205515539745\n",
      "Epoch 14 loss: 0.047866399030114914\n",
      "Epoch 15 loss: 0.042192584281326904\n",
      "Epoch 16 loss: 0.03701907434721252\n",
      "Epoch 17 loss: 0.03296354257201128\n",
      "Epoch 18 loss: 0.02954466785574752\n",
      "Epoch 19 loss: 0.02724098959315567\n",
      "Epoch 20 loss: 0.02442263582644243\n",
      "0.94\n"
     ]
    }
   ],
   "source": []
  },
  {
   "attachments": {},
   "cell_type": "markdown",
   "id": "717b1dc7",
   "metadata": {},
   "source": [
    "## Assignment 4 \n",
    "\n",
    "In this optional assignment, we'll investigate how the number of neurons affects classification performance. Depending on your computer, it can take a considerable time to run all the experiments for this assignment.\n",
    "\n",
    "### Assignment 4.1 Optional\n",
    "rubric={accuracy:5}\n",
    "\n",
    "In your definition of the `nn.Sequential` and `DigitClassifier` models above, you used hidden layer size 20 in all but the final layer of the network. Let's see what happens when you vary the hidden layer size between 5 and 15. \n",
    "\n",
    "For each layer size `n`, train 10 models with different random initialization and evaluate accuracy on the development data. This will give you 10 independent accuracy measurements for every `n`. Store the classification accuracies for each `n` and print out the average accuracy across your ten models for each `n`.\n",
    "\n",
    "Perform a statistical significance test to measure whether the accuracy of the models for `n == 15` is statistically different from the accuracy for `n == 5` at the 99% significance level. You are free to choose the significance test (e.g. t-test would be an appropriate choice). \n",
    "\n",
    "\n",
    "- `scipy.stats.ttest_ind(a,b)` calculates the T-test for the means of two independent samples (`a` and `b`) of scores: https://docs.scipy.org/doc/scipy/reference/generated/scipy.stats.ttest_ind.html\n",
    "\n",
    "\n",
    "\n",
    "```"
   ]
  },
  {
   "cell_type": "code",
   "execution_count": 25,
   "id": "c13fedea",
   "metadata": {},
   "outputs": [
    {
     "name": "stdout",
     "output_type": "stream",
     "text": [
      "5: 0.681\n",
      "6: 0.81325\n",
      "7: 0.867\n",
      "8: 0.8887499999999999\n",
      "9: 0.90625\n",
      "10: 0.90075\n",
      "11: 0.91875\n",
      "12: 0.924\n",
      "13: 0.9349999999999998\n",
      "14: 0.9194999999999999\n",
      "15: 0.9369999999999999\n"
     ]
    }
   ],
   "source": []
  },
  {
   "cell_type": "code",
   "execution_count": 6,
   "id": "b8044b16",
   "metadata": {},
   "outputs": [],
   "source": [
    "from scipy.stats import ttest_ind\n",
    "\n",
    "# If a p-value reported from a t test is less than 0.05, then that result is said to be statistically significant... "
   ]
  },
  {
   "cell_type": "markdown",
   "id": "61416af3",
   "metadata": {},
   "source": [
    "### Assignment 4.2 Optional\n",
    "rubric={acuracy:1}\n",
    "\n",
    "If you train for 50 epochs instead of 20, is the difference between `n==5` and `n==15` significant?"
   ]
  },
  {
   "cell_type": "code",
   "execution_count": 27,
   "id": "f1c7380e",
   "metadata": {},
   "outputs": [
    {
     "name": "stdout",
     "output_type": "stream",
     "text": [
      "5: 0.8425\n",
      "15: 0.94725\n"
     ]
    },
    {
     "data": {
      "text/plain": [
       "Ttest_indResult(statistic=-13.127266175517413, pvalue=1.1737998426732803e-10)"
      ]
     },
     "execution_count": 27,
     "metadata": {},
     "output_type": "execute_result"
    }
   ],
   "source": []
  },
  {
   "cell_type": "code",
   "execution_count": null,
   "id": "7c60d8a5",
   "metadata": {},
   "outputs": [],
   "source": []
  }
 ],
 "metadata": {
  "kernelspec": {
   "display_name": "Python 3",
   "language": "python",
   "name": "python3"
  },
  "language_info": {
   "codemirror_mode": {
    "name": "ipython",
    "version": 3
   },
   "file_extension": ".py",
   "mimetype": "text/x-python",
   "name": "python",
   "nbconvert_exporter": "python",
   "pygments_lexer": "ipython3",
   "version": "3.9.6 (default, Oct 18 2022, 12:41:40) \n[Clang 14.0.0 (clang-1400.0.29.202)]"
  },
  "vscode": {
   "interpreter": {
    "hash": "20bf69066c0dd38d51965b69d5e1b6e387082e3198ba56e97997ac55f4e50ad0"
   }
  }
 },
 "nbformat": 4,
 "nbformat_minor": 5
}
