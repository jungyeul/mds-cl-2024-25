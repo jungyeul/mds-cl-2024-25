{
 "cells": [
  {
   "cell_type": "markdown",
   "metadata": {},
   "source": [
    "# DSCI 563 Lab Assignment 3: Blogs (Cheat sheet)"
   ]
  },
  {
   "cell_type": "markdown",
   "metadata": {},
   "source": [
    "## Assignment Objectives"
   ]
  },
  {
   "cell_type": "markdown",
   "metadata": {},
   "source": [
    "In this assignment you will\n",
    "- Convert a unlabeled blog corpus into a BOW representation\n",
    "- Test whether dimensionality reduction with SVD preserves corpus variation in the context of clustering \n",
    "- Explore the corpus using the topics produced by an LDA topic model"
   ]
  },
  {
   "cell_type": "markdown",
   "metadata": {},
   "source": [
    "## Getting Started"
   ]
  },
  {
   "cell_type": "markdown",
   "metadata": {},
   "source": [
    "Run the code below to access relevant modules (you can add to this as needed)"
   ]
  },
  {
   "cell_type": "code",
   "execution_count": 2,
   "metadata": {},
   "outputs": [],
   "source": [
    "import numpy as np\n",
    "from scipy.stats import zscore\n",
    "import matplotlib.pyplot as plt\n",
    "from sklearn.cluster import MiniBatchKMeans\n",
    "from sklearn.metrics import adjusted_rand_score\n",
    "from sklearn.decomposition import TruncatedSVD,LatentDirichletAllocation\n",
    "from sklearn.preprocessing import normalize\n",
    "import zipfile\n",
    "import re\n",
    "from nltk import word_tokenize\n",
    "from collections import Counter, defaultdict\n",
    "from sklearn.feature_extraction.text import CountVectorizer\n",
    "from random import seed\n",
    "\n",
    "# Reproducibility\n",
    "np.random.seed(0)\n",
    "seed(0)"
   ]
  },
  {
   "cell_type": "markdown",
   "metadata": {},
   "source": [
    "## Tidy Submission\n",
    "\n",
    "rubric={mechanics:1}"
   ]
  },
  {
   "cell_type": "markdown",
   "metadata": {},
   "source": [
    "To get the marks for tidy submission:\n",
    "\n",
    "- Submit the assignment by filling in this jupyter notebook with your answers embedded\n",
    "- Be sure to follow the [general lab instructions](https://ubc-mds.github.io/resources_pages/general_lab_instructions)\n",
    "- Except you should not put the data in your lab repo, instead define the `path_to_data` below "
   ]
  },
  {
   "attachments": {},
   "cell_type": "markdown",
   "metadata": {},
   "source": [
    "### Part 0: Prepare the corpus\n",
    "\n",
    "#### Assignment 0.1\n",
    "rubric={accuracy:3,efficiency:1, quality:1}\n",
    "\n",
    "A zipped text file containing 8752 blog posts that we will use for this lab is provided in the data directory [here](https://github.com/jungyeul/mds-cl-2023-24/blob/main/block4/blogposts.zip). Download the zip-file but **don't push the data to github** (when grading your lab, the TA will otherwise end up with hundreds of megabytes of unwanted data, when pulling all the student repos). Update the `PATH_TO_DATA` variable below:"
   ]
  },
  {
   "cell_type": "code",
   "execution_count": 2,
   "metadata": {},
   "outputs": [],
   "source": [
    "PATH_TO_DATA = \"blogposts.zip\" # change this!"
   ]
  },
  {
   "attachments": {},
   "cell_type": "markdown",
   "metadata": {},
   "source": [
    "In order to read the data, you should initialize a `ZipFile` object provided in the [zipfile]() module. You should first initialize a `ZipFile` object for the `blogposts.zip`. You can then use the member function `ZipFile.open()` to open the file `blogposts.txt` which is part of the zip archive `blogposts.zip`. You can then the the data in the usual way using the `read()` member function of the file object. \n",
    "\n",
    "**Note** that `read()` will return a `bytes` object, not a string. You will need to [decode](https://stackabuse.com/convert-bytes-to-string-in-python/) the data into `utf-8`. Since the data in `blogposts.txt` is not entirely clean, you will need to use the option `errors=\"ignore\"`, when decoding. Otherwise, you'll get a `UnicodeDecodeError` error. \n",
    "\n",
    "using the  in the file into a variable `data`. \n",
    "\n",
    "After reading the data, you should convert it into a scipy sparse matrix format (i.e. the output of Scikit Learn vectorizers) where each row is a text and each column the count of words in the corpus. Each post is enclosed in an XML `<post>` tag which should not be include. For efficiency and quality, **we strongly recommend you extract the individual text strings corresponding to each text using `re.finditer` and `MatchObject.group` methods**. \n",
    "\n",
    "Your final representation vectors should:\n",
    "\n",
    "- Be bag of words\n",
    "- Be collapsed to all lowercase\n",
    "- Have no punctuation\n",
    "- Have no words that appear in less than 5 different texts:  `min_df=10` in `CountVectorizer`\n",
    "- Have no words that appear in more than 10% of the texts: `max_df=0.2`\n",
    "\n",
    "The Scikit-learn [CountVectorizer](https://scikit-learn.org/stable/modules/generated/sklearn.feature_extraction.text.CountVectorizer.html) is a good choice for doing this (it has options for all of the above), though you don't have to use it if you prefer to do something else. \n",
    "\n",
    "`CountVectorizer`:\n",
    "- `max_dffloat` in range `[0.0, 1.0]` or `int, default=1.0`\n",
    "When building the vocabulary ignore terms that have a document frequency strictly higher than the given threshold (corpus-specific stop words). If float, the parameter represents a proportion of documents, integer absolute counts. This parameter is ignored if vocabulary is not None.  **Have no words that appear in more than 10% of the texts**\n",
    "- `min_dffloat` in range `[0.0, 1.0]` or `int, default=1`\n",
    "When building the vocabulary ignore terms that have a document frequency strictly lower than the given threshold. This value is also called cut-off in the literature. If float, the parameter represents a proportion of documents, integer absolute counts. This parameter is ignored if vocabulary is not None. **Have no words that appear in less than 5 different texts**\n",
    "\n",
    "Store your vectorized blog posts as a matrix `post_X`."
   ]
  },
  {
   "cell_type": "markdown",
   "metadata": {},
   "source": [
    "`blogposts.txt`:\n",
    "\n",
    "```\n",
    "<post n=\"0\">\n",
    "\\r\\n\\r\\n\\t \\r\\n         \n",
    "I recently lost my job. I sort of wanted to lose it actually. Kind of like a relationship that no longer works. Im looking for a job now that doesnt involve much responsibility. too bad the nearest hot topics is at least 2 hours away. I wouldnt have to dress up for the job interview. when no one else is at home I like to play \"setting sun\" by the chemical brothers thru one blown speaker really loud while I perfect my robot dance. it keeps my neighbours on theyre toes. Im convinced one of my neighbours is actually a pirate.he has a beard,swords and exotic birds.he's an eyepatch away from pillaging the neighbourhood. I special ordered my monochrome black chuck taylor hi-tops, for job interviews and work.hard to find vegan work shoes. ... and the little girl washing dishes is my niece when she was about 3. I love that pic, you can read into it on so many different levels. a heavily photoshopped version is going to be used in flyers and as a single sleeve. and the pic of me was taken in riverside CA in a motel before the NOFX show and before the Absinthe started to kick in. thats Joe X. seated behind me and an Absinthe bottle by my hand. marta,please send some raNdom pics for me to put on here.\n",
    "\\r\\n     \\r\\n\\r\\n    \\r\\n\n",
    "</post>\n",
    "```\n",
    "\n",
    "\n",
    "utf-8 vs. iso 8859-15 (ASCII-based standard character encodings):\n",
    "```\n",
    "open(\"blogposts.txt\")\n",
    "                                                                      # of doc  # of vocab\n",
    "corpus = f.read().decode(\"utf-8\",errors=\"ignore\")  -->  X_init.shape = (8752, 23345)\n",
    "corpus = f.read().decode(\"iso 8859-15\")            -->  X_init.shape = (8752, 23576)\n",
    "```\n",
    "\n",
    "\n",
    "`match.group(1)` vs. `match.group(0)`:\n",
    "```\n",
    "pattern = re.compile(r'<post n=NUM> (TEXT) </post>') \n",
    "for match in re.finditer(pattern, corpus):\n",
    "    match.group(1).strip() vs. match.group(0).strip()\n",
    "```"
   ]
  },
  {
   "cell_type": "code",
   "execution_count": 3,
   "metadata": {},
   "outputs": [
    {
     "name": "stdout",
     "output_type": "stream",
     "text": [
      "group()\t\t Isaac Newton,\n",
      "group(0)\t Isaac Newton,\n",
      "group(1)\t Isaac\n",
      "group(2)\t Newton\n",
      "group(1,2)\t ('Isaac', 'Newton')\n"
     ]
    }
   ],
   "source": [
    "# https://docs.python.org/3/library/re.html\n",
    "\n",
    "m = re.match(r\"(\\w+) (\\w+),\", \"Isaac Newton, physicist\")\n",
    "\n",
    "#'Isaac Newton'\n",
    "print('group()\\t\\t', m.group())       # The entire match, defaults to 0\n",
    "#'Isaac Newton'\n",
    "print('group(0)\\t', m.group(0))       # The entire match\n",
    "\n",
    "\n",
    "#'Isaac'\n",
    "print('group(1)\\t', m.group(1))       # The first parenthesized subgroup.\n",
    "\n",
    "#'Newton'\n",
    "print('group(2)\\t', m.group(2))       # The second parenthesized subgroup.\n",
    "\n",
    "#('Isaac', 'Newton')\n",
    "print('group(1,2)\\t', m.group(1, 2))    # Multiple arguments give us a tuple."
   ]
  },
  {
   "attachments": {},
   "cell_type": "markdown",
   "metadata": {},
   "source": []
  },
  {
   "cell_type": "code",
   "execution_count": 4,
   "metadata": {},
   "outputs": [],
   "source": [
    "from sklearn.feature_extraction.text import CountVectorizer\n",
    "\n",
    "# your code here\n"
   ]
  },
  {
   "cell_type": "markdown",
   "metadata": {},
   "source": [
    "Print out the shape of your matrix when you're done. You should end up with a sparse matrix with 8752 rows and about 23345 columns (it is okay if the second number is not exactly the same, but it should be close!):"
   ]
  },
  {
   "cell_type": "code",
   "execution_count": 5,
   "metadata": {},
   "outputs": [
    {
     "name": "stdout",
     "output_type": "stream",
     "text": [
      "Success\n"
     ]
    }
   ],
   "source": [
    "assert post_X.shape[0] == 8752\n",
    "# assert 23000 < post_X.shape[1] and post_X.shape[1] < 24000  \n",
    "print(\"Success\")"
   ]
  },
  {
   "cell_type": "markdown",
   "metadata": {},
   "source": [
    "### Part 1: Clustering with dimensionality reduced vectors"
   ]
  },
  {
   "cell_type": "markdown",
   "metadata": {},
   "source": [
    "#### 1.1\n",
    "rubric={accuracy:1}\n",
    "\n",
    "L2 normalize the matrix `post_X` from Exercise 1 using [`sklearn.preprocessing.normalize`](https://scikit-learn.org/stable/modules/generated/sklearn.preprocessing.normalize.html). Make sure that you are normalizing w.r.t. to the correct axis. **Hint** there are 8752 blog posts. \n",
    "\n",
    "You should preserve the original count matrix for later, so don't overwrite it. Instead store the normalized matrix as `post_X_norm`."
   ]
  },
  {
   "cell_type": "code",
   "execution_count": 6,
   "metadata": {},
   "outputs": [],
   "source": [
    "from sklearn.preprocessing import normalize\n",
    "\n",
    "# your code here\n",
    "# use  `normalize` using `post_X`; "
   ]
  },
  {
   "cell_type": "markdown",
   "metadata": {},
   "source": [
    "Assertion to check your code:"
   ]
  },
  {
   "cell_type": "code",
   "execution_count": 4,
   "metadata": {},
   "outputs": [],
   "source": [
    "# post_X_norm[0]                    --> sparse matrix \n",
    "\n",
    "# post_X_norm[0].A                  --> array([[0., 0., 0., ..., 0., 0., 0.]])\n",
    "# NOTE: a.toarray() or a.A \n",
    "\n",
    "# np.linalg.norm(post_X_norm[0].A)  --> return l2 norm by default"
   ]
  },
  {
   "cell_type": "code",
   "execution_count": 7,
   "metadata": {},
   "outputs": [
    {
     "name": "stdout",
     "output_type": "stream",
     "text": [
      "Success!\n"
     ]
    }
   ],
   "source": [
    "assert np.abs(np.linalg.norm(post_X_norm[0].A) - 1) < 0.0001\n",
    "print(\"Success!\")"
   ]
  },
  {
   "cell_type": "markdown",
   "metadata": {},
   "source": [
    "#### 1.2\n",
    "\n",
    "rubric={accuracy:2,viz:1}\n",
    "\n",
    "Next, use the elbow method to identify a good *k* to cluster your blog data using k-means. With this much data, you will need to use [MiniBatchKMeans](https://scikit-learn.org/stable/modules/generated/sklearn.cluster.MiniBatchKMeans.html#sklearn.cluster.MiniBatchKMeans) instead of regular KMeans for this. You can increase the batch size to get a smoother curve, 500 should work well. You'll want to explore larger values of $k$ than the example in the clustering lecture, though don't go any higher than 100. You can use the code from the clustering lecture, with appropriate modifications."
   ]
  },
  {
   "attachments": {},
   "cell_type": "markdown",
   "metadata": {},
   "source": [
    "- `batch_size = 500`\n",
    "- `n_clusters = k` where $2 \\leq k\\leq 50$: `kmeanses = MiniBatchKMeans(n_clusters=k,batch_size=500,random_state=0).` \n",
    "- `inertia_` is defined as the sum of square distances of samples to their nearest neighbor: `kmeanses.inertia_`"
   ]
  },
  {
   "cell_type": "code",
   "execution_count": 8,
   "metadata": {},
   "outputs": [
    {
     "data": {
      "image/png": "[encoded data removed]",
      "text/plain": [
       "<Figure size 1440x1584 with 1 Axes>"
      ]
     },
     "metadata": {
      "needs_background": "light"
     },
     "output_type": "display_data"
    }
   ],
   "source": [
    "# your code here\n",
    "def plot_inertia(kmeanses,start,end):\n",
    "    ''' plot the inertia of the provided set of k-means which should correspond to the range of\n",
    "    k values provided by start and end. No return value'''\n",
    "    ...\n",
    "\n",
    "# start = 2\n",
    "# end = 50\n",
    "    \n",
    "# kmeanses = []\n",
    "# for k in range(start,end):\n",
    "#     kmeanses.append(MiniBatchKMeans(n_clusters = k,batch_size=500,random_state=0).fit(post_X_norm))\n",
    "\n",
    "# plot_inertia(kmeanses,start,end)"
   ]
  },
  {
   "cell_type": "markdown",
   "metadata": {},
   "source": [
    "#### 1.3\n",
    "rubric={accuracy:2,quality:1}\n",
    "\n",
    "In this exercise you're going to be comparing different clusterings of the dataset to see if they are consistent, using the **adjusted rand index** (https://scikit-learn.org/stable/modules/generated/sklearn.metrics.adjusted_rand_score.html) (ARI).  Note that the ARI is not really comparable across different numbers of clusters, so you'll have to stick to a single $k$ for the rest of this exercise, based on what you saw in 1.2. \n",
    "\n",
    "First, you're going to be looking at the consistency of clustering across different random iterations of k-means with the same data and parameters. You should run at least 10 different runs of k-means, exhaustively calculate the pairwise ARI for the resulting label set, and print out an average. It would be a good idea to use a function here, especially since you'll need to do this again later.\n",
    "\n",
    "In order to compare two different clusterings, you should feed in the `labels_` arrays from different clusterings to the `adjusted_rand_score` function."
   ]
  },
  {
   "attachments": {},
   "cell_type": "markdown",
   "metadata": {},
   "source": [
    "- using a single $k$\n",
    "- `labels_`: `MiniBatchKMeans(n_clusters=k, batch_size=50, max_no_improvement=50,random_state=i).fit(X).labels_`\n",
    "- at least 10 different runs of k-means, exhaustively calculate the *pairwise* ARI for the resulting label set: `adjusted_rand_score(r0,r1),adjusted_rand_score(r0,r2), adjusted_rand_score(r0,r3), ..., adjusted_rand_score(r2,r3),adjusted_rand_score(r2,r4), ..., adjusted_rand_score(r7,r8), ..., adjusted_rand_score(r8,r9)`\n",
    "- print out an average\n",
    "\n",
    "\n",
    "*The Rand index or Rand measure (named after William M. Rand) in statistics is a measure of the similarity between two data clusterings.* (source: https://en.wikipedia.org/wiki/Rand_index)\n",
    "\n",
    "\n",
    "ARI is a symmetric measure: `adjusted_rand_score(a, b) == adjusted_rand_score(b, a)`"
   ]
  },
  {
   "cell_type": "code",
   "execution_count": 9,
   "metadata": {},
   "outputs": [
    {
     "name": "stdout",
     "output_type": "stream",
     "text": [
      "Mean ARI: 0.2412055991173277\n"
     ]
    }
   ],
   "source": [
    "from sklearn.metrics import adjusted_rand_score\n",
    "\n",
    "K=30 # number of cluster (you can decide the different number)\n",
    "\n",
    "# your code here\n",
    "def get_ari(n, X):\n",
    "    kmeanses = []\n",
    "    ...\n",
    "\n",
    "    aris = []\n",
    "    ...\n",
    "\n",
    "    return sum(aris)/len(aris)\n",
    "\n",
    "print(\"Mean ARI:\",get_ari(10, post_X_norm)) # 10 = random state; (1..10)"
   ]
  },
  {
   "cell_type": "markdown",
   "metadata": {},
   "source": [
    "#### 1.4 (Optional)\n",
    "rubric={reasoning:1}\n",
    "\n",
    "There are a few hyperparameters for [`MiniBatchKMeans`](https://scikit-learn.org/stable/modules/generated/sklearn.cluster.MiniBatchKMeans.html#sklearn.cluster.MiniBatchKMeans) which will influence clustering performance: e.g. `max_no_improvement`.\n",
    "\n",
    "Test a few of the parameters of the $k$-means (other than $k$), trying to improve the consistency calculations from 1.3 (you should get to `> 0.4`) and discuss any major effects in the markdown box below. Keep the best scoring parameters in your final version; you'll be using them for the result of this exercise."
   ]
  },
  {
   "cell_type": "raw",
   "metadata": {},
   "source": [
    "YOUR ANSWER HERE\n"
   ]
  },
  {
   "cell_type": "markdown",
   "metadata": {},
   "source": [
    "#### 1.5 (Optional)\n",
    "rubric= {reasoning:1}\n",
    "\n",
    "Write a function that gives you lists of posts for a given clustering of the data. Using the parameters you choose above, do a run of k-means, select a cluster of medium size (it shouldn't be the largest or the smallest), print out the list of post ids, and inspect texts from that cluster (at least 5) until you can identify some commonality among posts in the cluster. If you can't make any sense of the cluster, try another one; it might also help to compare the cluster you pick with another. Write your conclusion in the box below, providing some examples of the language from different posts."
   ]
  },
  {
   "cell_type": "code",
   "execution_count": null,
   "metadata": {},
   "outputs": [],
   "source": [
    "# your code here\n"
   ]
  },
  {
   "cell_type": "raw",
   "metadata": {},
   "source": [
    "YOUR ANSWER HERE\n"
   ]
  },
  {
   "cell_type": "markdown",
   "metadata": {},
   "source": [
    "#### 1.6\n",
    "rubric= {accuracy:1}\n",
    "\n",
    "Now use truncated singular value decomposition to lower the dimensionality of the dataset, with k=500. You should use the original data matrix `post_X` here. Store the resulting `np.array` as `post_X_500`."
   ]
  },
  {
   "attachments": {},
   "cell_type": "markdown",
   "metadata": {},
   "source": [
    "`TruncatedSVD` https://scikit-learn.org/stable/modules/generated/sklearn.decomposition.TruncatedSVD.html: `n_components = 500`\n",
    "\n",
    "<!-- Desired dimensionality of output data. Must be strictly less than the number of features. The default value is useful for visualisation. For LSA, a value of 100 is recommended. -->"
   ]
  },
  {
   "cell_type": "markdown",
   "metadata": {},
   "source": []
  },
  {
   "cell_type": "code",
   "execution_count": 5,
   "metadata": {},
   "outputs": [],
   "source": [
    "# your code here\n",
    "svd = TruncatedSVD(...) \n",
    "# then, fit_transform()"
   ]
  },
  {
   "cell_type": "markdown",
   "metadata": {},
   "source": [
    "#### 1.7\n",
    "rubric= {accuracy:1}\n",
    "\n",
    "Plot the singular values of `post_X_500`, and pick a sensible new dimensionality, n, n < k, based on what you see (using again the elbow method)"
   ]
  },
  {
   "cell_type": "markdown",
   "metadata": {},
   "source": [
    "- plot the singular values (`singular_values_`) where $k=500$\n",
    "- pick a sensible new dimensionality $n$ where  $n < k$\n",
    "\n",
    "**The singular value decomposition (SVD) of an $m \\times n$ matrix $\\mathbf{M}$ is a factorization of the form  ${\\displaystyle \\mathbf {U\\Sigma V^{*}} }$, \n",
    "where the diagonal entries ${\\displaystyle \\sigma _{i}=\\Sigma _{ii}}$ of $\\mathbf{\\Sigma}$ are known as the singular values of $\\mathbf {M}$**"
   ]
  },
  {
   "cell_type": "code",
   "execution_count": 11,
   "metadata": {},
   "outputs": [
    {
     "data": {
      "image/png": "[encoded data removed]",
      "text/plain": [
       "<Figure size 1440x1584 with 1 Axes>"
      ]
     },
     "metadata": {
      "needs_background": "light"
     },
     "output_type": "display_data"
    }
   ],
   "source": [
    "# your code here\n",
    "\n",
    "# svd.singular_values_\n",
    "def plot_svd(svd):\n",
    "    ...\n",
    "    plt.plot(range(len(svd.singular_values_)),svd.singular_values_ , '-o');\n",
    "\n",
    "plot_svd(svd)"
   ]
  },
  {
   "cell_type": "markdown",
   "metadata": {},
   "source": [
    "#### 1.8\n",
    "rubric= {accuracy:3,quality:1, efficiency:1}\n",
    "\n",
    "At this point, you have two matrix representations of the data:\n",
    "\n",
    "1. Original BOW representation (`post_X_norm`)\n",
    "2. SVD with k=500 (`post_X_500`)\n",
    "\n",
    "You will now create two more matrix representations of the data:\n",
    "\n",
    "3. SVD with k=n, where $n$ is based on your elbow analysis from 1.7 (this will have $n$ columns) **`post_X_0_to_n`**\n",
    "4. SVD version using the columns between $n$ and 500. (this will have 500 - $n$ columns) **`post_X_n_to_500`**\n",
    "\n",
    "You can create 3 and 4 just by slicing `post_X_500`, **you don't need to run TruncatedSVD again.**\n",
    "\n",
    "Then, do the same kind of consistency analysis you did in 1.3, but this time using each of matrices 2, 3, and 4. Again, you are creating 10 clusterings for each, and then exhaustively pairing those 10 with each other and checking their consistency using the adjusted rand score.\n",
    "\n",
    "Your final experiment here will involve testing the clustering label consistency between 1 (the original dataset) and each of the three other matrices. Instead of exhaustively pairing a list of clusterings derived from a single representation (as you did in 1.3 and directly above) to check how consistent the clusterings are, you will be exhaustively pairing two lists of 10 clusterings, one list of clusterings derived using Matrix 1 (i.e. the original representation), and one of clusterings from one of the other three matrices (in 1.3 you were doing comparisons analogous to \"pdist\", whereas here you are doing something analogous to \"cdist\"). \n",
    "\n",
    "This should result in 3 average consistency values, one for each of matrices 2, 3, and 3, which you should take as a measure of how well each representation is able to preserve the information in the original for the purposes of clustering. With the results for 2, 3, and 4 for the internal consistency testing, you should be displaying a total of 6 numbers here, make sure you clearly identify which is which! For full points, use functions, and try to avoid redoing the same clustering again and again."
   ]
  },
  {
   "cell_type": "markdown",
   "metadata": {},
   "source": [
    "![ARI](ari.png)"
   ]
  },
  {
   "cell_type": "code",
   "execution_count": 12,
   "metadata": {
    "scrolled": true
   },
   "outputs": [
    {
     "name": "stdout",
     "output_type": "stream",
     "text": [
      "Internal consistency:\n",
      "Mean ARI 0-500: 0.40476322922222124\n",
      "Mean ARI 0-n: 0.40662565675209567\n",
      "Mean ARI n-500: 0.11565950967337822\n",
      "\n",
      "Consistency with original matrix X_norm:\n",
      "Mean pairwise ARI 0-500: 0.22411167928519402\n",
      "Mean pairwise ARI 0-n: 0.029953040289766763\n",
      "Mean pairwise ARI n-500: 0.008391580298367741\n",
      "\n"
     ]
    }
   ],
   "source": [
    "# your code here\n",
    "def get_pairwise_ari(n, X1, X2):\n",
    "    ...\n",
    "\n",
    "    return sum(aris)/len(aris)\n",
    "\n",
    "\n",
    "\n",
    "print(\"Internal consistency:\")\n",
    "print(\"Mean ARI 0-500:\",get_ari(10, post_X_500))\n",
    "print(\"Mean ARI 0-50:\",get_ari(10, post_X_0_to_50))\n",
    "print(\"Mean ARI 50-500:\",get_ari(10, post_X_50_to_500))\n",
    "print()\n",
    "\n",
    "print(\"Consistency with original matrix X_norm:\")\n",
    "print(\"Mean pairwise ARI 0-500:\",get_pairwise_ari(10, post_X_500, post_X_norm))\n",
    "print(\"Mean pairwise ARI 0-50:\",get_pairwise_ari(10, post_X_0_to_50, post_X_norm))\n",
    "print(\"Mean pairwise ARI 50-500:\",get_pairwise_ari(10, post_X_50_to_500, post_X_norm))\n",
    "print()\n"
   ]
  },
  {
   "cell_type": "markdown",
   "metadata": {},
   "source": [
    "#### 1.9\n",
    "rubric= {reasoning:2}\n",
    "\n",
    "Interpret the relative performance of the three vector representations based on what you understand about SVD. In particular, you should discuss whether your choice of k from 1.7 (using the elbow method) seems to be a good one, in terms of preserving the information contained in the original document representation."
   ]
  },
  {
   "cell_type": "raw",
   "metadata": {},
   "source": [
    "YOUR ANSWER HERE\n"
   ]
  },
  {
   "cell_type": "markdown",
   "metadata": {},
   "source": [
    "### Part 2: Topic modelling\n",
    "\n",
    "\n",
    "#### 2.1\n",
    "rubric={accuracy:1}\n",
    "\n",
    "Using the blog data, build an LDA model with 100 topics. Use online learning, and set the verbosity option to 2 and evaluate_every to 1, so the you can see the process of training and the perplexity after each iteration. Increase the total number of iterations and run again if perplexity has not converged (you can say it has coveraged if there is less than a 5 point drop in perplexity in the final iteration). This will take a while, so work on something else while you wait....\n"
   ]
  },
  {
   "attachments": {},
   "cell_type": "markdown",
   "metadata": {},
   "source": [
    "Blei, D. M., Ng, A. Y., & Jordan, M. I. (2003). Latent Dirichlet Allocation. *Journal of Machine Learning Research*, 3(4–5), 993–1022.\n",
    "\n",
    "For `post_X`:\n",
    "- `LatentDirichletAllocation`: https://scikit-learn.org/stable/modules/generated/sklearn.decomposition.LatentDirichletAllocation.html\n",
    "- 100 topics `n_components`,\n",
    "- use `\"online\"` as a `learning_method`\n",
    "- `verbosity` option = **0**, otherwise, it prints A LOT. \n",
    "- `evaluate_every` = 1\n",
    "\n"
   ]
  },
  {
   "cell_type": "code",
   "execution_count": 6,
   "metadata": {},
   "outputs": [],
   "source": [
    "# your code here, takes time to run... (>13min)\n",
    "\n",
    "lda = LatentDirichletAllocation(...)"
   ]
  },
  {
   "attachments": {},
   "cell_type": "markdown",
   "metadata": {},
   "source": [
    "#### 2.2\n",
    "rubric={accuracy:3}\n",
    "\n",
    "For each topic in the model, print out the topic number (0 to 99), the sum of the corresponding row of `components_ (lda.components_)` (the total psuedo counts for that topic), and the 15 words which have the highest number of psuedocounts (in components_) for that topic, high count word first. **Hint:** the CountVectorizer that you built in Part 0 will be needed here, because you can use it to translate feature index numbers into words. \n",
    "\n",
    "You should **exclude topic words which have a psuedocount of less than 5**. It's possible that some topics end up with an empty list of words after filtering filter step, but that's okay."
   ]
  },
  {
   "cell_type": "code",
   "execution_count": 14,
   "metadata": {},
   "outputs": [
    {
     "name": "stdout",
     "output_type": "stream",
     "text": [
      "Topic number: 0, 1743.7076053572612\n",
      "['earnings', 'waking', 'hawaiian', 'whitney', 'sleeping', 'reserves', 'decide', 'spouses', 'unreal', 'wakes', 'wake', 'alarm', 'cop', 'roommate', 'oil']\n",
      "Topic number: 1, 440.1539446375031\n",
      "['mfa', 'rearranged', 'storefront', 'gamut', 'twinge', 'disruptive', 'kkz', 'dw', 'creatively', 'bert', 'strained', 'catering', 'samples', 'su', 'dh']\n",
      "Topic number: 2, 233.4500025959183\n",
      "[]\n",
      "Topic number: 3, 123997.5974547193\n",
      "['experience', 'sense', 'list', 'personal', 'important', 'upon', 'art', 'given', 'sort', 'paper', 'form', 'earth', 'simple', 'level', 'children']\n",
      "Topic number: 4, 274.0810993979361\n",
      "['ante', 'memoirs', 'sanchez', 'railroad']\n",
      "Topic number: 5, 674.0413243279248\n",
      "['fixation', 'blvd', 'hostage', 'shuffled', 'fireman', 'digit', 'hurried', 'zoe', 'cadet', 'nasa', 'mikey', 'spidey', 'auditorium', 'jill', 'tyler']\n",
      "Topic number: 6, 13628.576146515303\n",
      "['weapons', 'peace', 'absinthe', 'vietnam', 'evil', 'michael', 'fighting', 'union', 'history', 'soldiers', 'army', 'president', 'military', 'attack', 'war']\n",
      "Topic number: 7, 361.000381712486\n",
      "['dumass', 'dems', 'retaliation', 'brainwashed', 'assassination', 'uss', 'cck', 'underway', 'thas', 'cole']\n",
      "Topic number: 8, 33721.836157128404\n",
      "['link', 'project', 'software', 'page', 'website', 'mail', 'information', 'web', 'email', 'internet', 'computer', 'http', 'www', 'site', 'com']\n",
      "Topic number: 9, 717.037361014467\n",
      "['mesa', 'plum', 'scotty', 'doh', 'energies', 'ditching', 'johann', 'welsh', 'w00t', 'o_o', 'alana', 'docs', 'calculus', 'xd', 'julie']\n",
      "Topic number: 10, 233.45000258914143\n",
      "[]\n",
      "Topic number: 11, 2879.9852373716603\n",
      "['yada', 'winner', 'athens', 'gold', 'racial', 'wives', 'quot', 'tiger', 'olympics', 'greece', 'olympic', 'greek', 'en', 'king', 'games']\n",
      "Topic number: 12, 3059.843839124422\n",
      "['catherine', 'block', 'hugh', 'speaking', 'gt', 'nj', 'lt', 'tiffany', 'annie', 'string', 'thank', 'bt', 'anna', 'josh', 'mr']\n",
      "Topic number: 13, 15333.434453321612\n",
      "['heaven', 'sin', 'worship', 'youth', 'prayer', 'son', 'pray', 'father', 'bible', 'faith', 'christ', 'lord', 'christian', 'jesus', 'church']\n",
      "Topic number: 14, 1557.9002019546692\n",
      "['airline', 'aboard', 'alyssa', 'ward', 'abraham', 'carrier', 'canvas', 'isaac', 'newton', 'lincoln', 'cowboy', 'bla', 'neil', 'fly', 'flight']\n",
      "Topic number: 15, 7090.878095323333\n",
      "['final', 'sport', 'tournament', 'games', 'against', 'coach', 'sports', 'teams', 'played', 'player', 'season', 'players', 'match', 'win', 'team']\n",
      "Topic number: 16, 4711.39058527274\n",
      "['linda', 'bubbles', 'animals', 'track', 'pet', 'ting', 'training', 'animal', 'puppy', 'owner', 'dear', 'cats', 'dogs', 'bike', 'dog']\n",
      "Topic number: 17, 546.3285676147954\n",
      "['rustic', 'moodiness', 'violet', 'shockingly', 'pretzels', 'gordy', '2500', '56k', 'mets', 'mare', 'condescending', 'colleen', 'raid', 'andy']\n",
      "Topic number: 18, 233.4500027470057\n",
      "[]\n",
      "Topic number: 19, 168660.51203247733\n",
      "['window', 'walked', 'body', 'road', 'running', 'feet', 'dream', 'floor', 'walking', 'sitting', 'hit', 'cold', 'hands', 'light', 'door']\n",
      "Topic number: 20, 8228.91354221862\n",
      "['cds', 'concert', 'fred', 'radio', 'sang', 'lyrics', 'listen', 'bands', 'singing', 'album', 'sing', 'rock', 'songs', 'band', 'song']\n",
      "Topic number: 21, 608.644601512774\n",
      "['perseverance', 'holed', 'brooding', 'allure', 'inthe', 'molded', 'shifty', 'psychologically', 'quirky', 'charley', 'jian', 'shaving', 'ling', 'eugene', 'convention']\n",
      "Topic number: 22, 3617.883647395513\n",
      "['cud', 'ti', 'eu', 'ur', 'te', '2day', 'gurl', 'wud', 'itz', 'tu', 'ta', 'wuz', 'angel', 'de', 'da']\n",
      "Topic number: 23, 266.7635590989635\n",
      "['roxie', 'salle', 'journaling']\n",
      "Topic number: 24, 3971.0960538786544\n",
      "['iv', 'signal', 'yadda', 'ted', 'grace', 'stead', 'healing', 'starbucks', 'wes', 'depression', 'shadow', 'shell', 'clock', 'jason', 'coffee']\n",
      "Topic number: 25, 15460.789986037329\n",
      "['government', 'insurance', 'property', 'health', 'office', 'paid', 'state', 'employees', 'cost', 'dollars', 'tax', 'party', 'court', 'pay', 'law']\n",
      "Topic number: 26, 115608.2974388472\n",
      "['south', 'st', 'french', 'star', 'favorite', 'english', 'york', 'local', 'trip', 'four', 'summer', 'country', 'town', 'john', 'city']\n",
      "Topic number: 27, 38774.46448455307\n",
      "['nation', 'power', 'states', 'news', 'iraq', 'vote', 'against', 'political', 'president', 'kerry', 'america', 'government', 'american', 'country', 'bush']\n",
      "Topic number: 28, 255.7723517116949\n",
      "['ned', 'injection']\n",
      "Topic number: 29, 51044.96814939107\n",
      "['le', 'wad', 'noe', 'tat', 'abt', 'juz', 'wif', 'cos', 'wat', 'coz', 'mi', 'tt', 'dun', 'haha', 'den']\n",
      "Topic number: 30, 263.8690270973036\n",
      "['brethren', 'homo']\n",
      "Topic number: 31, 602.545610831977\n",
      "['yyyymm', 'sourc', 'persons_voyages', 'to_char', 'sign_off_date', 'ods', 'identifiers', 'beaumont', 'identifier', 'teck', 'pv2', 'pv', 'persons_code', 'source_code', 'tiff']\n",
      "Topic number: 32, 18770.57643245888\n",
      "['27', '12', '23', '24', '18', '21', '17', '25', '13', '19', '15', '22', '14', '143', '16']\n",
      "Topic number: 33, 631.8828394043596\n",
      "['kev', 'buffer', 'recite', 'discern', 'wadever', 'vincent', 'varied', 'partake', 'underestimate', 'edinburgh', 'stalls', 'overlooked', 'thanking', 'stall', 'monster']\n",
      "Topic number: 34, 978.3282932689286\n",
      "['marley', 'simone', 'mute', 'blondie', 'campground', 'af', 'campsite', 'chic', 'radiation', 'greta', 'sn', 'christine', 'brittany', 'camping', 'tent']\n",
      "Topic number: 35, 477.1565577353852\n",
      "['vapor', 'sinned', 'pleasent', 'suzie', 'seperation', 'firefly', 'crimson', 'livin', 'billy']\n",
      "Topic number: 36, 2251.100461084908\n",
      "['robinson', 'sg', 'harper', 'happiest', 'kristi', 'yrs', 'scout', 'samantha', 'mummy', 'addiction', 'essay', 'lee', 'courage', 'mrs', 'tom']\n",
      "Topic number: 37, 5232.2404328616\n",
      "['racist', 'subway', 'officers', 'crime', 'channel', 'london', 'jo', 'tv', 'news', 'radio', 'white', 'station', 'police', 'black', 'train']\n",
      "Topic number: 38, 233.4500025645635\n",
      "[]\n",
      "Topic number: 39, 240.39918559984935\n",
      "['whiter']\n",
      "Topic number: 40, 43437.5332129307\n",
      "['ppl', 'ur', 'kinda', 'hehe', 'yea', 'bored', 'ya', 'lol', 'wanna', 'haha', 'thats', 'douche', 'cuz', 'cant', 'didnt']\n",
      "Topic number: 41, 786.3831196864118\n",
      "['homerun', 'rhyming', 'hells', 'blurted', 'alli', 'bloggie', 'iono', 'isnt', 'rebekah', 'missy', 'kc', 'allison', 'theyre', 'yall', 'brandon']\n",
      "Topic number: 42, 244.1106768446615\n",
      "['nurtured']\n",
      "Topic number: 43, 4480.574569429703\n",
      "['monsters', 'secrets', 'phoenix', 'book', 'magic', 'title', 'tara', 'alien', 'evil', 'pieces', 'fiction', 'creatures', 'potter', 'harry', 'adam']\n",
      "Topic number: 44, 4380.7961482525725\n",
      "['boston', 'cory', 'supportive', 'nomar', 'red', 'todd', 'francisco', 'san', 'charlie', 'sam', 'dr', 'ben', 'sox', 'david', 'gay']\n",
      "Topic number: 45, 233.45000266131947\n",
      "[]\n",
      "Topic number: 46, 47087.853803274156\n",
      "['perhaps', 'history', 'teacher', 'character', 'language', 'fear', 'young', 'death', 'sense', 'english', 'mother', 'writing', 'child', 'books', 'book']\n",
      "Topic number: 47, 2665.363117992528\n",
      "['hal', 'tapi', 'gw', 'juss', 'kan', 'nd', 'yg', 'dah', 'tak', 'ye', 'yu', 'cus', 'mah', 'aku', 'dan']\n",
      "Topic number: 48, 255.89668387991352\n",
      "['yap']\n",
      "Topic number: 49, 11474.603175335\n",
      "['ass', 'ho', 'poker', 'drinks', 'bottle', 'alcohol', 'que', 'river', 'wine', 'drunk', 'drinking', 'drink', 'beer', 'bar', 'water']\n",
      "Topic number: 50, 14347.18077159919\n",
      "['ooh', 'meat', 'add', 'sugar', 'cup', 'fire', 'rice', 'bread', 'ain', 'cheese', 'milk', 'chicken', 'sp', 'burn', 'bag']\n",
      "Topic number: 51, 256.9889390083781\n",
      "['oughta', 'bree', 'breathtaking']\n",
      "Topic number: 52, 12062.992925778695\n",
      "['science', 'mobile', 'dave', 'battery', 'condition', 'technology', 'created', 'phones', 'emily', 'brain', 'exam', 'laptop', 'power', 'space', 'cell']\n",
      "Topic number: 53, 3107.3684973344107\n",
      "['25', 'hazel', '45', '06', 'infact', 'kris', '08', '07', '05', '01', '03', '02', '12', '00', 'pm']\n",
      "Topic number: 54, 259.5752214271817\n",
      "['newborn', 'bahz']\n",
      "Topic number: 55, 32360.898065622656\n",
      "['chocolate', 'nope', 'sex', 'wearing', 'shirt', 'brown', 'clothes', 'blue', 'black', 'shoes', 'number', 'wear', 'color', 'favorite', 'hair']\n",
      "Topic number: 56, 358.2450958001155\n",
      "['ususally', 'dispatch', 'literate', 'progresses', 'monologue', 'merlin', 'intimate']\n",
      "Topic number: 57, 1756.650536345925\n",
      "['antiques', 'thursdays', 'booklet', 'entrance', 'taiwan', 'faculty', 'aussie', 'seminar', 'taught', 'kong', 'hong', 'singapore', 'tickets', 'ticket', 'chinese']\n",
      "Topic number: 58, 3331.0430397406526\n",
      "['superman', 'nba', 'thn', 'mario', 'bu', 'nintendo', 'ai', 'ish', 'fan', 'video', 'matrix', 'yo', 'dvd', 'tht', 'la']\n",
      "Topic number: 59, 70542.22873113779\n",
      "['study', 'meeting', 'case', 'university', 'education', 'question', 'public', 'order', 'future', 'etc', 'student', 'program', 'college', 'students', 'group']\n",
      "Topic number: 60, 3660.4103825085335\n",
      "['walls', 'painted', 'moon', 'flowers', 'yard', 'doc', 'farmer', 'furniture', 'carpet', 'pig', 'nurse', 'surgery', 'paint', 'hospital', 'doctor']\n",
      "Topic number: 61, 361.545332266342\n",
      "['asl', 'intrusion', 'alternating', 'doughnut', 'opium', 'charcoal', 'sprinkling', 'orbital', 'kb', 'stoked', 'petting', 'bled', 'goldfish']\n",
      "Topic number: 62, 276.6482126413205\n",
      "['contaminated', 'bearded', 'hormone']\n",
      "Topic number: 63, 27940.154130591076\n",
      "['summer', 'peter', 'nick', 'ice', 'matt', 'mike', 'watched', 'ha', 'ryan', 'party', 'talked', 'played', 'anyways', 'awesome', 'lol']\n",
      "Topic number: 64, 233.4500027263109\n",
      "[]\n",
      "Topic number: 65, 456.790895395246\n",
      "['clarifying', 'reggie', 'yoko', 'alienation', 'scribbling', 'genious', 'fortnight', 'flushing', 'narrator', 'vatican', 'sd', 'beasts', 'poof', 'vanity', 'fundamental']\n",
      "Topic number: 66, 1228.9202055293138\n",
      "['isi', 'untuk', 'gameboy', 'bisa', 'populated', 'anglo', 'alligator', 'dengan', 'tidak', 'zelda', 'awakening', 's0', 'itu', 'dia', 'generation']\n",
      "Topic number: 67, 515.2065678800639\n",
      "['daisies', 'numero', 'prada', 'sherry', 'exhibited', 'crud', 'hurr', 'yeo', 'ust', 'lina', 'clapton', 'eric']\n",
      "Topic number: 68, 3722.641795842545\n",
      "['uhh', 'waving', 'nina', 'clown', 'papa', 'monica', 'butt', 'nicole', 'johnny', 'dude', 'dance', 'singer', 'alex', 'concert', 'stage']\n",
      "Topic number: 69, 233.4500026834676\n",
      "[]\n",
      "Topic number: 70, 250.6279293884638\n",
      "['niki']\n",
      "Topic number: 71, 403.262914655584\n",
      "['nauseated', 'lolly', 'kindda', 'quantum', 'geographical', 'ntu', 'tomorow', 'tw', 'appetite', 'packet']\n",
      "Topic number: 72, 11404.302442616068\n",
      "['os', 'system', 'linux', 'machine', 'mac', 'security', 'apple', 'drive', 'file', 'computer', 'files', 'store', 'camp', 'pc', 'windows']\n",
      "Topic number: 73, 8838.712583467845\n",
      "['mga', 'ka', 'hindi', 'si', 'lang', 'yang', 'di', 'mo', 'pa', 'ako', 'ng', 'ang', 'ko', 'sa', 'na']\n",
      "Topic number: 74, 256.40624025293585\n",
      "['zzzzz', 'aye']\n",
      "Topic number: 75, 917.1864033026139\n",
      "['nai', 'ze', 'bian', 'jd', 'hayden', 'zai', 'oli', 'kao', 'liner', 'lehx', 'ima', 'ga', 'hahas', 'wo', 'ni']\n",
      "Topic number: 76, 1383.2421886137047\n",
      "['spreads', 'across', 'minding', 'below', 'gain', 'ideas', 'posting', 'nashville', 'results', 'mj', 'holland', 'planet', 'experiment', 'arguments', 'answers']\n",
      "Topic number: 77, 1091.4750446741598\n",
      "['rubbed', 'bethany', 'exclaimed', 'tree', 'chai', 'proposals', 'belongings', 'carved', 'horizon', 'sped', 'possessions', 'branches', 'nursing', 'temple', 'valley']\n",
      "Topic number: 78, 1707.8846212014728\n",
      "['gardening', 'dryer', 'ninth', 'harvest', 'herbs', 'peppers', 'nursery', 'fruit', 'basil', 'tomatoes', 'tomato', 'plants', 'plant', 'garden', 'green']\n",
      "Topic number: 79, 239.43374174938938\n",
      "['stump']\n",
      "Topic number: 80, 13775.53881707111\n",
      "['photos', 'image', 'skin', 'healthy', 'camera', 'diet', 'female', 'male', 'photo', 'fat', 'body', 'woman', 'weight', 'men', 'women']\n",
      "Topic number: 81, 5840.492227985323\n",
      "['kelly', 'lit', 'began', 'opened', 'kitchen', 'red', 'sail', 'wa', 'door', 'style', 'tables', 'mary', 'truck', 'table', 'mark']\n",
      "Topic number: 82, 532.6051253208847\n",
      "['duplicate', 'kh', 'demonic', 'gramma', 'mince', 'tomolo', '__', 'tada', 'snoop', 'naruto', 'kasey', 'duper', 'jh', 'jade', 'raven']\n",
      "Topic number: 83, 4077.8196660586095\n",
      "['bell', 'dallas', 'diana', 'trees', 'angeles', 'cows', 'steven', 'wild', 'bridge', 'los', 'susan', 'zoo', 'award', 'animals', 'tree']\n",
      "Topic number: 84, 11288.42433861574\n",
      "['customers', 'companies', 'sell', 'cars', 'gas', 'bank', 'drivers', 'price', 'brian', 'card', 'customer', 'market', 'service', 'business', 'company']\n",
      "Topic number: 85, 1075.9780889877927\n",
      "['scribble', 'smiley', 'montgomery', 'multicultural', 'resigned', 'flaming', 'sw', 'indie', 'ruth', 'myra', 'wayne', 'thanked', 'welcome', 'portland', 'ian']\n",
      "Topic number: 86, 1401.271883317747\n",
      "['babes', 'franklin', 'sho', 'sculpture', 'fl', 'clubs', 'suzy', 'lori', 'wi', 'landscape', 'milwaukee', 'las', 'tips', 'vegas', 'tip']\n",
      "Topic number: 87, 2113.2854065515185\n",
      "['diva', 'editorial', 'lawrence', 'reporter', '8217', 'substitute', 'sections', 'begining', 'press', 'metro', 'assistant', 'production', 'contract', 'staff', 'section']\n",
      "Topic number: 88, 2274.4937834744997\n",
      "['sl', 'rows', 'cellphone', 'coward', 'carmen', 'suprise', 'mercedes', 'finishes', 'stitches', 'url', 'helen', 'column', 'nak', 'main', 'round']\n",
      "Topic number: 89, 261.7147847530772\n",
      "['yous', 'exiting', 'circa']\n",
      "Topic number: 90, 242.32676253347827\n",
      "['peggy']\n",
      "Topic number: 91, 400.7925976449909\n",
      "['staffs', 'chix', 'absorbing', 'lecturers', 'ee3', 'bul', 'nl', 'nbsp']\n",
      "Topic number: 92, 293.752997804944\n",
      "['westmoreland', 'outhouse', 'steed', 'crowed', 'kylie', 'rooster']\n",
      "Topic number: 93, 251.7149261163661\n",
      "['raindrops', 'caress']\n",
      "Topic number: 94, 2292.5300002812896\n",
      "['delhi', 'murray', 'bitterness', 'joked', 'bollywood', 'charlotte', 'ja', 'scene', 'baggage', 'ponder', 'joel', 'india', 'films', 'indian', 'film']\n",
      "Topic number: 95, 93013.59984030915\n",
      "['monday', 'walked', 'hotel', 'beach', 'woke', 'ate', 'ended', 'drive', 'trip', 'lunch', 'sunday', 'bus', 'friday', 'saturday', 'dinner']\n",
      "Topic number: 96, 383.61852744306225\n",
      "['schedual', 'comforter', '1pm', 'freinds', 'chi']\n",
      "Topic number: 97, 258516.52743305117\n",
      "['husband', 'boy', 'telling', 'married', 'girls', 'totally', 'wonder', 'brother', 'baby', 'mother', 'wants', 'fuck', 'okay', 'sister', 'fucking']\n",
      "Topic number: 98, 970.8275203433038\n",
      "['agriculture', 'built', 'pyramids', 'transaction', 'civilization', 'disability', 'surviving', 'budden', 'cb', 'survivor', 'sap', 'supports', 'fund', 'races', 'stated']\n",
      "Topic number: 99, 45743.73599069222\n",
      "['hold', 'cry', 'fear', 'often', 'soul', 'thoughts', 'trust', 'cannot', 'loved', 'feelings', 'self', 'hurt', 'yourself', 'pain', 'relationship']\n"
     ]
    },
    {
     "name": "stderr",
     "output_type": "stream",
     "text": [
      "/Users/jungyeul/Library/Python/3.8/lib/python/site-packages/sklearn/utils/deprecation.py:87: FutureWarning: Function get_feature_names is deprecated; get_feature_names is deprecated in 1.0 and will be removed in 1.2. Please use get_feature_names_out instead.\n",
      "  warnings.warn(msg, category=FutureWarning)\n"
     ]
    }
   ],
   "source": [
    "# your code here\n",
    "\n",
    "# see lecture6.ipynb for psuedocount"
   ]
  },
  {
   "cell_type": "markdown",
   "metadata": {},
   "source": [
    "#### 2.3\n",
    "rubric={raw:2}\n",
    "\n",
    "Next, pick an appropriate topic label for those topics from the list you just created that you judge to be a \"good\" topic. Look for topics where you can identify a clear theme in their words (it is okay if there a few words that don't make sense), and where the sum of psuedocounts is fairly high but not too high (There are always a few \"kitchen sink\" garbage topics). You should create a dictionary which maps from the label to the index: e.g. \n",
    "\n",
    "`topic_dict = {\"animals\":0, \"geography\":1, ...}`"
   ]
  },
  {
   "cell_type": "code",
   "execution_count": 8,
   "metadata": {},
   "outputs": [],
   "source": [
    "# your code here to make your dict \"manually\"\n",
    "\n",
    "topic_dict = {...}"
   ]
  },
  {
   "attachments": {},
   "cell_type": "markdown",
   "metadata": {},
   "source": [
    "#### 2.4\n",
    "rubric={accuracy:3,quality:1}\n",
    "\n",
    "Build a retrieval system which takes a list of topics like `[\"technology\", \"food\"]` (i.e. a query) and displays documents from your corpus which contain the desired set of topics. \n",
    "\n",
    "Your (main) function should take a list of topics, and the number of top-ranked matches you want to see. You should only **display texts whose topic proportions are 2 standard deviations above the topic proportion mean**, that is, a z-score greater than 2 for all topics in the query (`zscores >= 2`). Your function should return the count of all texts which meet this bar in addition to the actual results. \n",
    "\n",
    "The ranking of the displayed documents should be based on the z-score among the topics asked for, i.e. a higher z-score is better. When there are multiple topics in the same query, you should use the *lowest* z-score among the topic z-scores for comparison. E.g. let's say the query contains the topics `[\"technology\", \"food\"]`, and the z-score of `doc1` is 2.1 for `\"tecnhology\"` and 3.5 for `\"food\"`, and the z-score for `doc2` is 2.2 for `\"technology\"` and 2.3 for `\"food\"`. Then, `doc2` should be ranked higher in the results. (2.1 `<` 2.2)\n",
    "\n",
    "Print out a few examples that show that your retreival system is working, including at least one case with multiple topics.\n",
    "\n",
    "**Hint:** `scipy.stats.zscore` (https://docs.scipy.org/doc/scipy/reference/generated/scipy.stats.zscore.html), note that you should specify the axis or flatten your data into a 1-dimensional array."
   ]
  },
  {
   "cell_type": "code",
   "execution_count": 9,
   "metadata": {},
   "outputs": [],
   "source": [
    "from scipy.stats import zscore\n",
    "# A z-score measures exactly how many standard deviations above or below the mean a data point is.\n",
    "\n",
    "MIN_Z_SCORE=2\n",
    "\n",
    "# your code here\n",
    "def get_topics(post_X, data, topic_list, n_texts, topic_dict):\n",
    "    topic_set = set([topic_dict[t] for t in topic_list])\n",
    "    matches = []  # (min() of zscores, post)\n",
    "\n",
    "    X = lda.transform(post_X)\n",
    "    # for post, doc_vector in zip(data, post_X)\n",
    "    #     zscores = zscore( ... should be 1D)\n",
    "    #     find topic(s) where topic's zscores[i] >= MIN_Z_SCORE\n",
    "    #     if verify topics (zscores >= 2) are food and technology\n",
    "    #         then, matches.append((min() of zscore, pos))\n",
    "\n",
    "    matches.sort(reverse=True)\n",
    "\n",
    "    return len(matches), [post 'from' matches[:n_texts]]\n",
    "\n",
    "get_topics(post_X, posts, \"food technology\".split(), 3, topic_dict)\n",
    "\n"
   ]
  },
  {
   "cell_type": "markdown",
   "metadata": {},
   "source": [
    "#### 2.5 (Optional)\n",
    "rubric={accuracy:1}\n",
    "\n",
    "Modify your code above to print out the top 5 ranked words for each topic in the query for each result, and rerun your examples.\n",
    "\n",
    "**Hint:** the CountVectorizer that you built in Part 0 will be needed here, because you can use it to translate feature index numbers into words. "
   ]
  },
  {
   "cell_type": "code",
   "execution_count": null,
   "metadata": {},
   "outputs": [],
   "source": [
    "# your code here\n"
   ]
  },
  {
   "cell_type": "markdown",
   "metadata": {},
   "source": [
    "#### 2.6 (Optional)\n",
    "rubric={reasoning:1}\n",
    "\n",
    "Play around with your topic search engine using a diversity of topic combinations, and print out two results lists that you find which have at least one correct and one incorrect result (incorrect meaning that at least one of the topics cannot be applied properly to the passage). Explain why you think the incorrect results happened, with reference to the limitations of the LDA model or perhaps errors in your topic naming."
   ]
  },
  {
   "cell_type": "code",
   "execution_count": null,
   "metadata": {},
   "outputs": [],
   "source": [
    "# your code here\n"
   ]
  },
  {
   "cell_type": "raw",
   "metadata": {},
   "source": [
    "YOUR ANSWER HERE\n"
   ]
  }
 ],
 "metadata": {
  "kernelspec": {
   "display_name": "Python 3",
   "language": "python",
   "name": "python3"
  },
  "language_info": {
   "codemirror_mode": {
    "name": "ipython",
    "version": 3
   },
   "file_extension": ".py",
   "mimetype": "text/x-python",
   "name": "python",
   "nbconvert_exporter": "python",
   "pygments_lexer": "ipython3",
   "version": "3.9.6 (default, Oct 18 2022, 12:41:40) \n[Clang 14.0.0 (clang-1400.0.29.202)]"
  },
  "vscode": {
   "interpreter": {
    "hash": "20bf69066c0dd38d51965b69d5e1b6e387082e3198ba56e97997ac55f4e50ad0"
   }
  }
 },
 "nbformat": 4,
 "nbformat_minor": 2
}
