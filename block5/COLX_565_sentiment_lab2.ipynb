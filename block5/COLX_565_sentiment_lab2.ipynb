{
 "cells": [
  {
   "cell_type": "markdown",
   "metadata": {},
   "source": [
    "# COLX 565 Lab Assignment 2: Polarity and Aspects"
   ]
  },
  {
   "cell_type": "markdown",
   "metadata": {},
   "source": [
    "## Assignment Objectives"
   ]
  },
  {
   "cell_type": "markdown",
   "metadata": {},
   "source": [
    "In this assignment you will\n",
    "- Perform Exploratory analysis on a multi-tagged corpus for emotion and sentiment (Exercise 1)\n",
    "- Create a CNN-based classifier to predict sentiment from text (Exercise 2)\n",
    "- Create a multi-task learner that tries to jointly learn sentiment and emotion (Exercise 3)\n",
    "- Add on to the classifier using speech-extracted features. (Exercise 4)\n",
    "- Create an ensemble that combines the previously-trained models to predict sentiment and emotion. (Exercise 5 - Optional)"
   ]
  },
  {
   "cell_type": "markdown",
   "metadata": {},
   "source": [
    "## Getting Started"
   ]
  },
  {
   "cell_type": "markdown",
   "metadata": {},
   "source": [
    "Run the code below to access relevant modules (you can add to this as needed)"
   ]
  },
  {
   "cell_type": "code",
   "execution_count": 1,
   "metadata": {},
   "outputs": [],
   "source": [
    "#provided code\n",
    "import json\n",
    "from nltk import word_tokenize\n",
    "import numpy as np\n",
    "from sklearn.feature_extraction import DictVectorizer\n",
    "from sklearn.linear_model import LogisticRegression\n",
    "from sklearn.metrics import f1_score\n",
    "from collections import Counter, defaultdict\n",
    "import matplotlib.pyplot as plt\n",
    "import torch\n",
    "import pandas as pd\n",
    "import random\n",
    "import torch.nn as nn\n",
    "import torch.nn.functional as F\n",
    "import torchtext\n",
    "import torch.optim as optim\n",
    "from nltk import word_tokenize\n",
    "from torchtext.data.utils import get_tokenizer\n",
    "###from torchtext.data import Field, RawField, NestedField, TabularDataset,BucketIterator\n",
    "from torch.utils.data import Dataset, DataLoader, Sampler\n",
    "from torchtext.vocab import Vocab\n",
    "from torchdata.datapipes.iter import IterableWrapper, FileOpener\n",
    "from torchtext.vocab import build_vocab_from_iterator\n",
    "from torchtext.data.utils import get_tokenizer\n",
    "from torch.nn.utils.rnn import pad_sequence"
   ]
  },
  {
   "cell_type": "markdown",
   "metadata": {},
   "source": [
    "## Tidy Submission\n",
    "\n",
    "rubric={mechanics:1}"
   ]
  },
  {
   "cell_type": "markdown",
   "metadata": {},
   "source": [
    "To get the marks for tidy submission:\n",
    "\n",
    "- Submit the assignment by filling in this jupyter notebook with your answers embedded\n",
    "- Be sure to follow the [general lab instructions](https://ubc-mds.github.io/resources_pages/general_lab_instructions)\n",
    "- The corpus will be provided to you - don't include it in your submission. Modify the path below."
   ]
  },
  {
   "attachments": {},
   "cell_type": "markdown",
   "metadata": {},
   "source": [
    "### Exercise 1: Exploring the MELD Corpus\n",
    "rubric={accuracy:3, viz:1, reasoning:1}\n",
    "\n",
    "**MELD: A Multimodal Multi-Party Dataset for Emotion Recognition in Conversations (https://aclanthology.org/P19-1050) (Poria et al., *ACL 2019*)**\n",
    "\n",
    "![MELD](https://affective-meld.github.io/emotion_shift.jpeg \"MELD\")\n",
    "\n",
    "\n",
    "The MELD (Multimodal EmotionLines Dataset) is a corpus of short video snippets from the TV series \"Friends\".  Each line has been annotated with the speaker (one of about 250 different characters - although most of them only speak a few times), whether the sentiment in the line is positive, negative, or neutral, and the emotion carried in the line (one of 7 emotions: neutral, surprise, joy, anger, sadness, fear, or disgust).\n",
    "\n",
    "I've extracted the audio from the video files (if you're interested in how to do so, let me know), and provided you with both the annotations (which will serve as our \"y\" variables), and the sound and text data, which will serve as our \"x\" data.  Don't worry about the audio data at this point - just concentrate on the text data included in the csvs.\n",
    "\n",
    "We're first going to do some exploratory data analysis (EDA).  Load up the training data, and provide some information regarding interesting statistics.  You should calculate and graph:\n",
    "\n",
    "* the number of times that each of the 6 main characters (Monica, Chandler, Ross, Rachel, Phoebe, and Joey) speak.\n",
    "* what percentage of each of their speech is positive / neutral / negative\n",
    "* what percentage of each of their speech is associated with each of the 7 emotions\n",
    "\n",
    "To get full marks, you must also provide a short (one paragraph) written analysis of what you find."
   ]
  },
  {
   "cell_type": "markdown",
   "metadata": {},
   "source": [
    "### MELD dataset: https://github.com/declare-lab/MELD/tree/master/data/MELD"
   ]
  },
  {
   "cell_type": "code",
   "execution_count": 2,
   "metadata": {},
   "outputs": [
    {
     "name": "stdout",
     "output_type": "stream",
     "text": [
      "--2024-02-26 20:41:12--  https://raw.githubusercontent.com/declare-lab/MELD/master/data/MELD/train_sent_emo.csv\n",
      "Resolving raw.githubusercontent.com (raw.githubusercontent.com)... 185.199.110.133, 185.199.109.133, 185.199.111.133, ...\n",
      "Connecting to raw.githubusercontent.com (raw.githubusercontent.com)|185.199.110.133|:443... connected.\n",
      "HTTP request sent, awaiting response... 200 OK\n",
      "Length: 1119290 (1,1M) [text/plain]\n",
      "Saving to: ‘train_sent_emo.csv’\n",
      "\n",
      "train_sent_emo.csv  100%[===================>]   1,07M  7,07MB/s    in 0,2s    \n",
      "\n",
      "2024-02-26 20:41:12 (7,07 MB/s) - ‘train_sent_emo.csv’ saved [1119290/1119290]\n",
      "\n",
      "--2024-02-26 20:41:12--  https://raw.githubusercontent.com/declare-lab/MELD/master/data/MELD/dev_sent_emo.csv\n",
      "Resolving raw.githubusercontent.com (raw.githubusercontent.com)... 185.199.110.133, 185.199.109.133, 185.199.111.133, ...\n",
      "Connecting to raw.githubusercontent.com (raw.githubusercontent.com)|185.199.110.133|:443... connected.\n",
      "HTTP request sent, awaiting response... 200 OK\n",
      "Length: 121640 (119K) [text/plain]\n",
      "Saving to: ‘dev_sent_emo.csv’\n",
      "\n",
      "dev_sent_emo.csv    100%[===================>] 118,79K  --.-KB/s    in 0,02s   \n",
      "\n",
      "2024-02-26 20:41:13 (5,29 MB/s) - ‘dev_sent_emo.csv’ saved [121640/121640]\n",
      "\n",
      "--2024-02-26 20:41:13--  https://raw.githubusercontent.com/declare-lab/MELD/master/data/MELD/test_sent_emo.csv\n",
      "Resolving raw.githubusercontent.com (raw.githubusercontent.com)... 185.199.110.133, 185.199.109.133, 185.199.111.133, ...\n",
      "Connecting to raw.githubusercontent.com (raw.githubusercontent.com)|185.199.110.133|:443... connected.\n",
      "HTTP request sent, awaiting response... 200 OK\n",
      "Length: 294526 (288K) [text/plain]\n",
      "Saving to: ‘test_sent_emo.csv’\n",
      "\n",
      "test_sent_emo.csv   100%[===================>] 287,62K  --.-KB/s    in 0,05s   \n",
      "\n",
      "2024-02-26 20:41:13 (6,18 MB/s) - ‘test_sent_emo.csv’ saved [294526/294526]\n",
      "\n"
     ]
    }
   ],
   "source": [
    "!wget https://raw.githubusercontent.com/declare-lab/MELD/master/data/MELD/train_sent_emo.csv\n",
    "!wget https://raw.githubusercontent.com/declare-lab/MELD/master/data/MELD/dev_sent_emo.csv\n",
    "!wget https://raw.githubusercontent.com/declare-lab/MELD/master/data/MELD/test_sent_emo.csv"
   ]
  },
  {
   "cell_type": "code",
   "execution_count": 3,
   "metadata": {},
   "outputs": [],
   "source": [
    "#provided code\n",
    "data_dir = \"./\""
   ]
  },
  {
   "cell_type": "code",
   "execution_count": 4,
   "metadata": {},
   "outputs": [
    {
     "data": {
      "text/html": [
       "<div>\n",
       "<style scoped>\n",
       "    .dataframe tbody tr th:only-of-type {\n",
       "        vertical-align: middle;\n",
       "    }\n",
       "\n",
       "    .dataframe tbody tr th {\n",
       "        vertical-align: top;\n",
       "    }\n",
       "\n",
       "    .dataframe thead th {\n",
       "        text-align: right;\n",
       "    }\n",
       "</style>\n",
       "<table border=\"1\" class=\"dataframe\">\n",
       "  <thead>\n",
       "    <tr style=\"text-align: right;\">\n",
       "      <th></th>\n",
       "      <th>Sr No.</th>\n",
       "      <th>Utterance</th>\n",
       "      <th>Speaker</th>\n",
       "      <th>Emotion</th>\n",
       "      <th>Sentiment</th>\n",
       "      <th>Dialogue_ID</th>\n",
       "      <th>Utterance_ID</th>\n",
       "      <th>Season</th>\n",
       "      <th>Episode</th>\n",
       "      <th>StartTime</th>\n",
       "      <th>EndTime</th>\n",
       "    </tr>\n",
       "  </thead>\n",
       "  <tbody>\n",
       "    <tr>\n",
       "      <th>0</th>\n",
       "      <td>1</td>\n",
       "      <td>also I was the point person on my company’s tr...</td>\n",
       "      <td>Chandler</td>\n",
       "      <td>neutral</td>\n",
       "      <td>neutral</td>\n",
       "      <td>0</td>\n",
       "      <td>0</td>\n",
       "      <td>8</td>\n",
       "      <td>21</td>\n",
       "      <td>00:16:16,059</td>\n",
       "      <td>00:16:21,731</td>\n",
       "    </tr>\n",
       "    <tr>\n",
       "      <th>1</th>\n",
       "      <td>2</td>\n",
       "      <td>You must’ve had your hands full.</td>\n",
       "      <td>The Interviewer</td>\n",
       "      <td>neutral</td>\n",
       "      <td>neutral</td>\n",
       "      <td>0</td>\n",
       "      <td>1</td>\n",
       "      <td>8</td>\n",
       "      <td>21</td>\n",
       "      <td>00:16:21,940</td>\n",
       "      <td>00:16:23,442</td>\n",
       "    </tr>\n",
       "    <tr>\n",
       "      <th>2</th>\n",
       "      <td>3</td>\n",
       "      <td>That I did. That I did.</td>\n",
       "      <td>Chandler</td>\n",
       "      <td>neutral</td>\n",
       "      <td>neutral</td>\n",
       "      <td>0</td>\n",
       "      <td>2</td>\n",
       "      <td>8</td>\n",
       "      <td>21</td>\n",
       "      <td>00:16:23,442</td>\n",
       "      <td>00:16:26,389</td>\n",
       "    </tr>\n",
       "    <tr>\n",
       "      <th>3</th>\n",
       "      <td>4</td>\n",
       "      <td>So let’s talk a little bit about your duties.</td>\n",
       "      <td>The Interviewer</td>\n",
       "      <td>neutral</td>\n",
       "      <td>neutral</td>\n",
       "      <td>0</td>\n",
       "      <td>3</td>\n",
       "      <td>8</td>\n",
       "      <td>21</td>\n",
       "      <td>00:16:26,820</td>\n",
       "      <td>00:16:29,572</td>\n",
       "    </tr>\n",
       "    <tr>\n",
       "      <th>4</th>\n",
       "      <td>5</td>\n",
       "      <td>My duties?  All right.</td>\n",
       "      <td>Chandler</td>\n",
       "      <td>surprise</td>\n",
       "      <td>positive</td>\n",
       "      <td>0</td>\n",
       "      <td>4</td>\n",
       "      <td>8</td>\n",
       "      <td>21</td>\n",
       "      <td>00:16:34,452</td>\n",
       "      <td>00:16:40,917</td>\n",
       "    </tr>\n",
       "    <tr>\n",
       "      <th>...</th>\n",
       "      <td>...</td>\n",
       "      <td>...</td>\n",
       "      <td>...</td>\n",
       "      <td>...</td>\n",
       "      <td>...</td>\n",
       "      <td>...</td>\n",
       "      <td>...</td>\n",
       "      <td>...</td>\n",
       "      <td>...</td>\n",
       "      <td>...</td>\n",
       "      <td>...</td>\n",
       "    </tr>\n",
       "    <tr>\n",
       "      <th>9984</th>\n",
       "      <td>10474</td>\n",
       "      <td>You or me?</td>\n",
       "      <td>Chandler</td>\n",
       "      <td>neutral</td>\n",
       "      <td>neutral</td>\n",
       "      <td>1038</td>\n",
       "      <td>13</td>\n",
       "      <td>2</td>\n",
       "      <td>3</td>\n",
       "      <td>00:00:48,173</td>\n",
       "      <td>00:00:50,799</td>\n",
       "    </tr>\n",
       "    <tr>\n",
       "      <th>9985</th>\n",
       "      <td>10475</td>\n",
       "      <td>I got it. Uh, Joey, women don't have Adam's ap...</td>\n",
       "      <td>Ross</td>\n",
       "      <td>neutral</td>\n",
       "      <td>neutral</td>\n",
       "      <td>1038</td>\n",
       "      <td>14</td>\n",
       "      <td>2</td>\n",
       "      <td>3</td>\n",
       "      <td>00:00:51,009</td>\n",
       "      <td>00:00:53,594</td>\n",
       "    </tr>\n",
       "    <tr>\n",
       "      <th>9986</th>\n",
       "      <td>10476</td>\n",
       "      <td>You guys are messing with me, right?</td>\n",
       "      <td>Joey</td>\n",
       "      <td>surprise</td>\n",
       "      <td>positive</td>\n",
       "      <td>1038</td>\n",
       "      <td>15</td>\n",
       "      <td>2</td>\n",
       "      <td>3</td>\n",
       "      <td>00:01:00,518</td>\n",
       "      <td>00:01:03,520</td>\n",
       "    </tr>\n",
       "    <tr>\n",
       "      <th>9987</th>\n",
       "      <td>10477</td>\n",
       "      <td>Yeah.</td>\n",
       "      <td>All</td>\n",
       "      <td>neutral</td>\n",
       "      <td>neutral</td>\n",
       "      <td>1038</td>\n",
       "      <td>16</td>\n",
       "      <td>2</td>\n",
       "      <td>3</td>\n",
       "      <td>00:01:05,398</td>\n",
       "      <td>00:01:07,274</td>\n",
       "    </tr>\n",
       "    <tr>\n",
       "      <th>9988</th>\n",
       "      <td>10478</td>\n",
       "      <td>That was a good one. For a second there, I was...</td>\n",
       "      <td>Joey</td>\n",
       "      <td>joy</td>\n",
       "      <td>positive</td>\n",
       "      <td>1038</td>\n",
       "      <td>17</td>\n",
       "      <td>2</td>\n",
       "      <td>3</td>\n",
       "      <td>00:01:08,401</td>\n",
       "      <td>00:01:12,071</td>\n",
       "    </tr>\n",
       "  </tbody>\n",
       "</table>\n",
       "<p>9989 rows × 11 columns</p>\n",
       "</div>"
      ],
      "text/plain": [
       "      Sr No.                                          Utterance  \\\n",
       "0          1  also I was the point person on my company’s tr...   \n",
       "1          2                   You must’ve had your hands full.   \n",
       "2          3                            That I did. That I did.   \n",
       "3          4      So let’s talk a little bit about your duties.   \n",
       "4          5                             My duties?  All right.   \n",
       "...      ...                                                ...   \n",
       "9984   10474                                         You or me?   \n",
       "9985   10475  I got it. Uh, Joey, women don't have Adam's ap...   \n",
       "9986   10476               You guys are messing with me, right?   \n",
       "9987   10477                                              Yeah.   \n",
       "9988   10478  That was a good one. For a second there, I was...   \n",
       "\n",
       "              Speaker   Emotion Sentiment  Dialogue_ID  Utterance_ID  Season  \\\n",
       "0            Chandler   neutral   neutral            0             0       8   \n",
       "1     The Interviewer   neutral   neutral            0             1       8   \n",
       "2            Chandler   neutral   neutral            0             2       8   \n",
       "3     The Interviewer   neutral   neutral            0             3       8   \n",
       "4            Chandler  surprise  positive            0             4       8   \n",
       "...               ...       ...       ...          ...           ...     ...   \n",
       "9984         Chandler   neutral   neutral         1038            13       2   \n",
       "9985             Ross   neutral   neutral         1038            14       2   \n",
       "9986             Joey  surprise  positive         1038            15       2   \n",
       "9987              All   neutral   neutral         1038            16       2   \n",
       "9988             Joey       joy  positive         1038            17       2   \n",
       "\n",
       "      Episode     StartTime       EndTime  \n",
       "0          21  00:16:16,059  00:16:21,731  \n",
       "1          21  00:16:21,940  00:16:23,442  \n",
       "2          21  00:16:23,442  00:16:26,389  \n",
       "3          21  00:16:26,820  00:16:29,572  \n",
       "4          21  00:16:34,452  00:16:40,917  \n",
       "...       ...           ...           ...  \n",
       "9984        3  00:00:48,173  00:00:50,799  \n",
       "9985        3  00:00:51,009  00:00:53,594  \n",
       "9986        3  00:01:00,518  00:01:03,520  \n",
       "9987        3  00:01:05,398  00:01:07,274  \n",
       "9988        3  00:01:08,401  00:01:12,071  \n",
       "\n",
       "[9989 rows x 11 columns]"
      ]
     },
     "execution_count": 4,
     "metadata": {},
     "output_type": "execute_result"
    }
   ],
   "source": [
    "import pandas\n",
    "\n",
    "train_path = data_dir + \"train_sent_emo.csv\"\n",
    "train_data = pandas.read_csv(train_path)\n",
    "\n",
    "train_data"
   ]
  },
  {
   "cell_type": "code",
   "execution_count": 4,
   "metadata": {},
   "outputs": [
    {
     "name": "stdout",
     "output_type": "stream",
     "text": [
      "average sentence length (chars): 40.52838121934128\n",
      "average sentence length (words): 8.03543898288117\n",
      "number of utterances per f.r.i.e.n.d.s: [0.18167589694196967, 0.1756561521791476, 0.172766674692993, 0.15904165663375872, 0.15639296893811702, 0.15446665061401396]\n",
      "f.r.i.e.n.d.s: ['Joey', 'Ross', 'Rachel', 'Phoebe', 'Monica', 'Chandler']\n"
     ]
    },
    {
     "data": {
      "image/png": "[encoded data removed]",
      "text/plain": [
       "<Figure size 640x480 with 1 Axes>"
      ]
     },
     "metadata": {},
     "output_type": "display_data"
    },
    {
     "data": {
      "text/plain": [
       "<Figure size 640x480 with 0 Axes>"
      ]
     },
     "metadata": {},
     "output_type": "display_data"
    },
    {
     "name": "stdout",
     "output_type": "stream",
     "text": [
      "positive, negative, neutral = red, blue, green\n"
     ]
    },
    {
     "data": {
      "image/png": "[encoded data removed]",
      "text/plain": [
       "<Figure size 640x480 with 1 Axes>"
      ]
     },
     "metadata": {},
     "output_type": "display_data"
    },
    {
     "name": "stdout",
     "output_type": "stream",
     "text": [
      "surprise, fear, sadness, neutral, joy, anger, disgust = purple, yellow, blue, black, orange, red, green\n"
     ]
    },
    {
     "data": {
      "image/png": "[encoded data removed]",
      "text/plain": [
       "<Figure size 640x480 with 1 Axes>"
      ]
     },
     "metadata": {},
     "output_type": "display_data"
    },
    {
     "data": {
      "text/plain": [
       "<Figure size 640x480 with 0 Axes>"
      ]
     },
     "metadata": {},
     "output_type": "display_data"
    }
   ],
   "source": [
    "# your code;\n",
    "\n"
   ]
  },
  {
   "attachments": {},
   "cell_type": "markdown",
   "metadata": {},
   "source": [
    "Analysis: \n",
    "\n",
    "-- Your answer;"
   ]
  },
  {
   "attachments": {},
   "cell_type": "markdown",
   "metadata": {},
   "source": [
    "### Exercise 2: Sentiment prediction using text\n",
    "\n",
    "Now that you've gotten a feel for the data, it's time to build a classifier.\n",
    "\n",
    "There are multiple ways to build a sentiment analyser, but we're going to be using a convolutional neural network (CNN).  We'll take a look at CNNs in class, but the \"magic\" of CNNs lies in something called a \"convolutional\" layer.  A convolutional layer passes a window over the entire data example, and learns to extract information; the window is then moved slightly, and the same information is extracted again, and again, and again.\n",
    "\n",
    "For this task, we're going to be building a 1-dimensional convolutional layer of length 3.  This will move over words in the text, and then extract an embedding for those three words.  It will then shift one word, and extract an embedding from the next 3 words, etc.\n",
    "\n",
    "Example:\n",
    "\n",
    "I really like this movie.\n",
    "```\n",
    "                        |\n",
    "                        V\n",
    "\"I really like\"    -> [0.1,  0.5,  0.3] \n",
    "\"really like this\" -> [-0.2, -0.3, 0.4] \n",
    "\"like this movie\"  -> [-0.3, 0.1,  0.5] \n",
    "```\n",
    "\n",
    "After extracting n-2 embeddings for the sequence, we will apply a max-pooling layer, which will grab the maximum value from each column (we could also do mean-pooling, or 2x2 pooling, or any other type of pooling, but we'll stick with max pooling).\n",
    "\n",
    "Conv(\"I really like this movie\") = [0.1, 0.5, 0.5]\n",
    "\n",
    "You'll be provided with the CNN - you don't need to modify it in this exercise.\n",
    "\n",
    "Also provided below is code that uses torchtext to build a representation of the MELD corpus, both input tokens and labels. You also don't need to know how this works (you are exploring torchtext in more detail in other courses of this program). Note that this code requires that you have set your data_dir correctly, and it actually creates some intermediate files in that directory, so the directory must be writable."
   ]
  },
  {
   "attachments": {},
   "cell_type": "markdown",
   "metadata": {},
   "source": [
    "\n",
    "\n",
    "\n",
    "\n",
    "Images are from https://towardsdatascience.com/a-visualization-of-the-basic-elements-of-a-convolutional-neural-network-75fea30cd78d\n",
    "\n",
    "![Conv](https://miro.medium.com/v2/resize:fit:1000/1*YvlCSNzDEBGEWkZWNffPvw.gif)\n",
    "\n",
    "\n",
    "![Conv](https://miro.medium.com/v2/resize:fit:1000/1*WpOcRWlofm0Z0EDUTKefzg.gif)\n",
    "\n",
    "\n",
    "------------------------------\n",
    "\n",
    "![Max Pooling](https://miro.medium.com/v2/resize:fit:1000/1*LjXV6eQKTQcg-PJnBRE0VA.gif)\n",
    "\n"
   ]
  },
  {
   "cell_type": "markdown",
   "metadata": {},
   "source": [
    "#### Exercise 2.0: Prepare the data\n",
    "\n",
    "Pytorch requires that its data be in a very specific format - tensors of x values and y values that are then converted by the neural models into data we're interested in.   Data must first go through a pre-processing pipeline, including generating a vocabulary from the training data.  The following code converts the CSV provided into the appropriate data structure.  This code was modified from [here](https://github.com/andrei-radulescu-banu/stat453-deep-learning-ss21/blob/main/L15/packed_lstm.ipynb)."
   ]
  },
  {
   "cell_type": "markdown",
   "metadata": {},
   "source": [
    "The torchtext pipeline first wraps the file in an iterator, then opens it and parses it.  We add a final filter that limits the data to just the first and 4th columns (ie, text and sentiment).  No modifications needed here, but you'll need them in later sections."
   ]
  },
  {
   "cell_type": "code",
   "execution_count": 5,
   "metadata": {},
   "outputs": [
    {
     "name": "stdout",
     "output_type": "stream",
     "text": [
      "['also I was the point person on my company\\x92s transition from the KL-5 to GR-6 system.', 1]\n",
      "['Oh my God, he\\x92s lost it. He\\x92s totally lost it.', 2]\n"
     ]
    }
   ],
   "source": [
    "# provided code; \n",
    "\n",
    "### Code modified from https://github.com/andrei-radulescu-banu/stat453-deep-learning-ss21/blob/main/L15/packed_lstm.ipynb\n",
    "VOCABULARY_SIZE = 20000\n",
    "sentiments = {\"neutral\":\"1\", \"positive\":\"0\", \"negative\":\"2\"}\n",
    "    \n",
    "datapipe_train = IterableWrapper([\"/Users/jungyeul/Downloads/565_Lab_2_2023/train_sent_emo.csv\"])\n",
    "datapipe_train = FileOpener(datapipe_train, mode='b')  ### Open the file\n",
    "datapipe_train = datapipe_train.parse_csv(skip_lines=1) ### Parse, skipping the header\n",
    "datapipe_train = datapipe_train.map(lambda row: [row[1], int(sentiments[row[4]])]) ###Limit data to 1th column (text) and 4th column (sentiment)\n",
    "\n",
    "for sample in datapipe_train:\n",
    "     print(sample)\n",
    "     break\n",
    "\n",
    "datapipe_dev = IterableWrapper([\"/Users/jungyeul/Downloads/565_Lab_2_2023/dev_sent_emo.csv\"])\n",
    "datapipe_dev = FileOpener(datapipe_dev, mode='b')\n",
    "datapipe_dev = datapipe_dev.parse_csv(skip_lines=1)\n",
    "datapipe_dev = datapipe_dev.map(lambda row: [row[1], int(sentiments[row[4]])])\n",
    "\n",
    "for sample in datapipe_dev:\n",
    "    print(sample)\n",
    "    break"
   ]
  },
  {
   "cell_type": "markdown",
   "metadata": {},
   "source": [
    "After loading the data, we need to create a vocabulary:"
   ]
  },
  {
   "cell_type": "code",
   "execution_count": 6,
   "metadata": {},
   "outputs": [],
   "source": [
    "tokenizer = get_tokenizer(\"basic_english\")\n",
    "\n",
    "def yield_tokens(data_iter):\n",
    "    for text, _ in data_iter:\n",
    "        yield tokenizer(text)\n",
    "\n",
    "def get_vocab(train_datapipe):\n",
    "    vocab = build_vocab_from_iterator(yield_tokens(train_datapipe), specials=[\"<SOS>\", \"<EOS>\", \"<UNK>\", \"<PAD>\"], max_tokens=VOCABULARY_SIZE)\n",
    "    vocab.set_default_index(vocab[\"<UNK>\"])\n",
    "    return vocab"
   ]
  },
  {
   "cell_type": "code",
   "execution_count": 9,
   "metadata": {},
   "outputs": [
    {
     "name": "stdout",
     "output_type": "stream",
     "text": [
      "Vocabulary size:  6018\n"
     ]
    }
   ],
   "source": [
    "vocab = get_vocab(datapipe_train)\n",
    "print(\"Vocabulary size: \", len(vocab))\n",
    "# PADDING_VALUE=vocab['<PAD>']\n",
    "# vocab['<UNK>']"
   ]
  },
  {
   "cell_type": "markdown",
   "metadata": {},
   "source": [
    "We're now going to define a short function that transforms a sequence of words into vocab:"
   ]
  },
  {
   "cell_type": "code",
   "execution_count": 10,
   "metadata": {},
   "outputs": [],
   "source": [
    "def text_transform(input_seq, vocab):\n",
    "    seq = [vocab[token] for token in tokenizer(input_seq)]\n",
    "    seq = [vocab[\"<SOS>\"]] + seq + [vocab[\"<EOS>\"]] ### Add in start / end of sequence markers\n",
    "    return seq"
   ]
  },
  {
   "cell_type": "code",
   "execution_count": 11,
   "metadata": {},
   "outputs": [
    {
     "name": "stdout",
     "output_type": "stream",
     "text": [
      "input to the text_transform: here is an example\n",
      "output of the text_transform: [0, 53, 19, 128, 3781, 1]\n"
     ]
    }
   ],
   "source": [
    "print(\"input to the text_transform:\", \"here is an example\")\n",
    "print(\"output of the text_transform:\", text_transform(\"here is an example\", vocab))"
   ]
  },
  {
   "cell_type": "markdown",
   "metadata": {},
   "source": [
    "The next bit of code will implement batching - finding sequences of similar length and grouping them together, with padding, if necessary.  It first requires a collation function, that indicates how instances should be collected together:"
   ]
  },
  {
   "cell_type": "code",
   "execution_count": 12,
   "metadata": {},
   "outputs": [],
   "source": [
    "def collate_batch(batch):\n",
    "    text_list, label_list = [], []\n",
    "    for (_text, _label) in batch:\n",
    "        processed_text = torch.tensor(text_transform(_text, vocab))\n",
    "        text_list.append(processed_text)\n",
    "        label_list.append(_label)\n",
    "    return pad_sequence(text_list, padding_value=PADDING_VALUE).to(DEVICE), torch.tensor(label_list).to(DEVICE)"
   ]
  },
  {
   "cell_type": "markdown",
   "metadata": {},
   "source": [
    "It then requires code that samples the data and finds items with similar length:"
   ]
  },
  {
   "cell_type": "code",
   "execution_count": 13,
   "metadata": {},
   "outputs": [],
   "source": [
    "# Create our own sampler, to ensure we function with multiple worker threads\n",
    "# See https://discuss.pytorch.org/t/using-distributedsampler-in-combination-with-batch-sampler-to-make-sure-batches-have-sentences-of-similar-length/119824/3\n",
    "class BatchSamplerSimilarLength(Sampler):\n",
    "    def __init__(self, dataset, batch_size, indices=None, shuffle=True):\n",
    "        self.batch_size = batch_size\n",
    "        self.shuffle = shuffle\n",
    "        # get the indices and length\n",
    "        self.indices = [(i, len(tokenizer(s[0]))) for i, s in enumerate(dataset)]\n",
    "        # if indices are passed, then use only the ones passed (for ddp)\n",
    "        if indices is not None:\n",
    "            self.indices = torch.tensor(self.indices)[indices].tolist()\n",
    "\n",
    "    def __iter__(self):\n",
    "        # if self.shuffle:\n",
    "        #     random.shuffle(self.indices)\n",
    "\n",
    "        pooled_indices = []\n",
    "        # create pool of indices with similar lengths\n",
    "        for i in range(0, len(self.indices), self.batch_size * 100):\n",
    "            pooled_indices.extend(sorted(self.indices[i:i + self.batch_size * 100], key=lambda x: x[1]))\n",
    "            self.pooled_indices = [x[0] for x in pooled_indices]\n",
    "        \n",
    "        # Comment in for validation\n",
    "        #self.pooled_lengths = [x[1] for x in pooled_indices]\n",
    "        #print(self.pooled_lengths)\n",
    "        #print(self.pooled_indices)\n",
    "\n",
    "        # yield indices for current batch\n",
    "        batches = [self.pooled_indices[i:i + self.batch_size] for i in\n",
    "                   range(0, len(self.pooled_indices), self.batch_size)]\n",
    "\n",
    "        if self.shuffle:\n",
    "            random.shuffle(batches)\n",
    "        for batch in batches:\n",
    "            yield batch\n",
    "\n",
    "    def __len__(self):\n",
    "        return len(self.pooled_indices) // self.batch_size"
   ]
  },
  {
   "cell_type": "markdown",
   "metadata": {},
   "source": [
    "Now that we have our sampler, we can create our batches:"
   ]
  },
  {
   "cell_type": "code",
   "execution_count": 14,
   "metadata": {},
   "outputs": [],
   "source": [
    "BATCH_SIZE = 64\n",
    "\n",
    "DEVICE = torch.device('cuda:0' if torch.cuda.is_available() else 'cpu')\n",
    "\n",
    "datapipe_train_list = list(datapipe_train)\n",
    "datapipe_dev_list = list(datapipe_dev)\n",
    "\n",
    "train_loader = DataLoader(datapipe_train_list, \n",
    "                          batch_sampler=BatchSamplerSimilarLength(dataset = datapipe_train_list, \n",
    "                                                                  batch_size=BATCH_SIZE), collate_fn=collate_batch)\n",
    "dev_loader = DataLoader(datapipe_dev_list, \n",
    "                          batch_sampler=BatchSamplerSimilarLength(dataset = datapipe_dev_list, \n",
    "                                                                  batch_size=BATCH_SIZE,\n",
    "                                                                  shuffle=False), collate_fn=collate_batch)\n"
   ]
  },
  {
   "cell_type": "code",
   "execution_count": 15,
   "metadata": {},
   "outputs": [
    {
     "name": "stdout",
     "output_type": "stream",
     "text": [
      "input shape:\n",
      "torch.Size([7, 64])\n",
      "input sample:\n",
      "tensor([  0, 131,   8,  23, 155,   4,   1])\n",
      "label shape:\n",
      "torch.Size([64])\n",
      "label sample:\n",
      "tensor(0)\n"
     ]
    }
   ],
   "source": [
    "#provided code\n",
    "batch = next(iter(train_loader))\n",
    "print(\"input shape:\")\n",
    "print(batch[0].shape)\n",
    "print(\"input sample:\")\n",
    "print(batch[0][:, 0])\n",
    "# print(batch[0][:])\n",
    "print(\"label shape:\")\n",
    "print(batch[1].shape)\n",
    "print(\"label sample:\")\n",
    "print(batch[1][0])\n",
    "# print(batch[1].shape, batch[1])"
   ]
  },
  {
   "cell_type": "markdown",
   "metadata": {},
   "source": [
    "Some information about the tensors: \n",
    "\n",
    "* The default batch size is 64 - this means we gather together 64 instances (of similar length) at a time for training and inference - that's why these tensors have 64 as the second dimension.  The CNN expects the batch dimension to be first - we'll be doing some manipulation of the dimensions inside the CNN.  \n",
    "* The input is of size [14,64].  This means that we have 64 instances, each of length 14 (including padding).  The CNN requires that the batch dimension be first, but we'll fix that later.  It's much easier to read for us when we do it this way.\n",
    "* Batches are created by sorting all of the training examples by length, so that all instances in a batch have the same length (in this case, 14).  If we couldn't find 64 instances of length 4, we take some shorter ones, and add the padding tokens.\n",
    "* The output is just our ordinary labels that we had originally "
   ]
  },
  {
   "cell_type": "markdown",
   "metadata": {},
   "source": [
    "#### Exercise 2.1 - creating the CNN\n",
    "rubric={accuracy:1}\n",
    "\n",
    "We're going to be using a convolutional neural network (CNN) to train our sentiment classifier.  This is typical for sequential prediction tasks.  A CNN passes a sliding window over a sentence (we'll be working with a window of length 3).  It takes the embeddings of the words in that window, and performs a linear transformation on them.  We then end up n-k embedding for the entire sentence:\n",
    "\n",
    "[0->2] <br>\n",
    "[1->3] <br>\n",
    "[2->4] <br>\n",
    "[...] <br>\n",
    "[n-2->n] <br>\n",
    "\n",
    "Each vector is the same length, let's say m.\n",
    "\n",
    "If we stack these separate vectors, then we get a matrix of size [n-k, m]:\n",
    "\n",
    "[0 1 2 3 4 ...  m] <br>\n",
    "[0 1 2 3 4 ...  m] <br>\n",
    "[0 1 2 3 4 ...  m] <br>\n",
    "[0 1 2 3 4 ...  m] <br>\n",
    "[0 1 2 3 4 ...  m] <br>\n",
    "[0 1 2 3 4 ...  m] <br>\n",
    "\n",
    "For each column, we just take the maximum value, giving us a new vector length \"m\".\n",
    "\n",
    "This is our \"convolved\" vector that will represent the sentence.  It's essentially a fuzzy n-gram detector.  We're also going to use dropout of 0.3.  I suggest you take a hard look at the provided code - you will be modifying it in the next exercise, so make sure you know exactly what the code is doing."
   ]
  },
  {
   "attachments": {},
   "cell_type": "markdown",
   "metadata": {},
   "source": [
    "* This first bit of code represents the CNN - your job is to implement the forward function.\n",
    "\n",
    "You will need to run the input sequence through:\n",
    "\n",
    "        1. the embedding layer (`input_seq`)\n",
    "        2. the dropout layer (`dropout_layer`)\n",
    "        3. `permute` it so that the \"sequence\" dimension is last (where is it, currently?) \n",
    "                => we will put the sequence last. 1,2,3 -> 2,3,1;  to put the sequence last, as expected by the convolutional layers\n",
    "                After dropout: (INPUT_SEQ, BATCH_SIZE, HIDDEN_DIM) -> (BATCH_SIZE, HIDDEN_DIM, INPUT_SEQ)\n",
    "        4. run the result through the convolutional layer (`conv`)\n",
    "        5. apply max pooling across the second dimension (for this, you can call `torch.max`)\n",
    "            Hint: torch.max returns a tuple of indices and values - you want the values (see below)\n",
    "        6. Call `F.relu` on the result, to activate it\n",
    "        7. Apply the `dropout_layer` again\n",
    "  "
   ]
  },
  {
   "attachments": {},
   "cell_type": "markdown",
   "metadata": {},
   "source": [
    "```\n",
    ">>> a = torch.rand(3,3,3)\n",
    ">>> a\n",
    "\n",
    "                           axis = 1\n",
    "                              |\n",
    "        * axis = 0            V\n",
    "tensor([[[*0.1292, 0.4502, 0.7906],  <---  axis = 2\n",
    "         [0.5469, 0.6681, 0.5831],\n",
    "         [0.9125, 0.6430, 0.7398]],\n",
    "\n",
    "        [[*0.8346, 0.9417, 0.6099],\n",
    "         [0.7979, 0.0380, 0.0628],\n",
    "         [0.9640, 0.5319, 0.3050]],\n",
    "\n",
    "        [[*0.0024, 0.7601, 0.4194],\n",
    "         [0.0086, 0.1827, 1.0000],\n",
    "         [0.0379, 0.2279, 0.8576]]])\n",
    ">>> torch.max(a, axis=0)\n",
    "torch.return_types.max(\n",
    "values=tensor([[0.8346, 0.9417, 0.7906],\n",
    "        [0.7979, 0.6681, 1.0000],\n",
    "        [0.9640, 0.6430, 0.8576]]),\n",
    "indices=tensor([[1, 1, 0],\n",
    "        [1, 0, 2],\n",
    "        [1, 0, 2]]))\n",
    ">>> torch.max(a, axis=1)\n",
    "torch.return_types.max(\n",
    "values=tensor([[0.9125, 0.6681, 0.7906],\n",
    "        [0.9640, 0.9417, 0.6099],\n",
    "        [0.0379, 0.7601, 1.0000]]),\n",
    "indices=tensor([[2, 1, 0],\n",
    "        [2, 0, 0],\n",
    "        [2, 0, 1]]))\n",
    ">>> torch.max(a, axis=2)\n",
    "torch.return_types.max(\n",
    "values=tensor([[0.7906, 0.6681, 0.9125],\n",
    "        [0.9417, 0.7979, 0.9640],\n",
    "        [0.7601, 1.0000, 0.8576]]),\n",
    "indices=tensor([[2, 1, 0],\n",
    "        [1, 0, 0],\n",
    "        [1, 2, 2]]))\n",
    "\n",
    "# to get `values` of torch.max\n",
    ">>> torch.max(a, axis=2).values\n",
    "tensor([[0.7906, 0.6681, 0.9125],\n",
    "        [0.9417, 0.7979, 0.9640],\n",
    "        [0.7601, 1.0000, 0.8576]])\n",
    "```"
   ]
  },
  {
   "cell_type": "code",
   "execution_count": 20,
   "metadata": {},
   "outputs": [],
   "source": [
    "#provided code\n",
    "class CNN(nn.Module):\n",
    "    '''Converts a sentence into a fixed length vector representation using convolution and max pooling. Input to forward\n",
    "    should be a matrix of token indices of shape (sequence length, batch size), output is a vector which represents the\n",
    "    sentence, of shape (batch size, hidden_dim)'''\n",
    "    def __init__(self, vocab_size, hidden_dim):\n",
    "        super(CNN, self).__init__()\n",
    "        self.hidden_dim = hidden_dim\n",
    "        self.vocab_size = vocab_size\n",
    "        self.embeddings = nn.Embedding(vocab_size, hidden_dim)        \n",
    "        self.conv = nn.Conv1d(hidden_dim, hidden_dim, 3) # window size is 3\n",
    "        self.dropout_layer = nn.Dropout(p=0.3) \n",
    "        \n",
    "    def forward(self, input_seq):\n",
    "        ### Your code here\n",
    "        \n",
    "        ### Your code here"
   ]
  },
  {
   "attachments": {},
   "cell_type": "markdown",
   "metadata": {},
   "source": [
    "#### Exercise 2.2\n",
    "rubric={accuracy:1}\n",
    "\n",
    "Now that you have a CNN that does max-pooling, you can add it as a layer  a regular FF NN.\n",
    "\n",
    "The classifier should take the input, pass it through a CNN layer, and then a final Linear layer.  We'll be doing logistic regression, so you'll also want to pass it through a log softmax, so what we are returning are log probabilities.\n",
    "\n",
    "    1. input go through `CNN`\n",
    "    2. `linear`, \n",
    "    3. `F.log_softmax` (which `dim=?`)\n"
   ]
  },
  {
   "cell_type": "code",
   "execution_count": 21,
   "metadata": {},
   "outputs": [],
   "source": [
    "#provided code\n",
    "class CNNClassifier(nn.Module):\n",
    "    '''Uses a CNN and a linear layer to provide (pre-Sigmoid) score for binary classification'''\n",
    "    def __init__(self, vocab_size, hidden_dim):\n",
    "        super(CNNClassifier, self).__init__()\n",
    "        self.hidden_dim = hidden_dim\n",
    "        self.CNN = CNN(vocab_size, hidden_dim)\n",
    "        self.linear = nn.Linear(hidden_dim, 3)\n",
    "        \n",
    "    def forward(self, input_seq):\n",
    "        ### Your code here\n",
    "         \n"
   ]
  },
  {
   "cell_type": "markdown",
   "metadata": {},
   "source": [
    "Now it's time to train and evaluate our classifier.  We'll run the model for 30 epochs (I recommend when debugging, set the value lower), and then evaluate.  You will know that your code from above was correct if the loss is decreasing with each epoch.  My loss was ~100 after 30 epochs (about 60 below where it started).  Training 30 epochs is pretty fast (our hidden layer is only 64 nodes, after all). It finishes training in less than a little more than a minute. "
   ]
  },
  {
   "cell_type": "code",
   "execution_count": 22,
   "metadata": {},
   "outputs": [
    {
     "name": "stdout",
     "output_type": "stream",
     "text": [
      "After epoch: 0 Loss is: 159.8611958026886\n",
      "After epoch: 1 Loss is: 144.7844859957695\n",
      "After epoch: 2 Loss is: 140.0794302225113\n",
      "After epoch: 3 Loss is: 137.9580042362213\n",
      "After epoch: 4 Loss is: 135.0211929678917\n",
      "After epoch: 5 Loss is: 133.32490891218185\n",
      "After epoch: 6 Loss is: 131.42105853557587\n",
      "After epoch: 7 Loss is: 128.17739355564117\n",
      "After epoch: 8 Loss is: 127.10968834161758\n",
      "After epoch: 9 Loss is: 124.95486617088318\n",
      "After epoch: 10 Loss is: 124.2073672413826\n",
      "After epoch: 11 Loss is: 121.68130320310593\n",
      "After epoch: 12 Loss is: 120.92535150051117\n",
      "After epoch: 13 Loss is: 119.351034283638\n",
      "After epoch: 14 Loss is: 118.6497352719307\n",
      "After epoch: 15 Loss is: 116.35184115171432\n",
      "After epoch: 16 Loss is: 113.86126059293747\n",
      "After epoch: 17 Loss is: 113.24722456932068\n",
      "After epoch: 18 Loss is: 111.37214380502701\n",
      "After epoch: 19 Loss is: 109.7791477739811\n",
      "After epoch: 20 Loss is: 108.65479332208633\n",
      "After epoch: 21 Loss is: 106.49020951986313\n",
      "After epoch: 22 Loss is: 104.43540605902672\n",
      "After epoch: 23 Loss is: 103.61190596222878\n",
      "After epoch: 24 Loss is: 103.29255211353302\n",
      "After epoch: 25 Loss is: 102.10659347474575\n",
      "After epoch: 26 Loss is: 99.86243323981762\n",
      "After epoch: 27 Loss is: 98.56664070487022\n",
      "After epoch: 28 Loss is: 96.6684011220932\n",
      "After epoch: 29 Loss is: 95.9851341471076\n"
     ]
    }
   ],
   "source": [
    "#provided code\n",
    "\n",
    "torch.backends.cudnn.deterministic = True  ### Try to ensure replicability\n",
    "RANDOM_SEED = 42\n",
    "torch.manual_seed(RANDOM_SEED)\n",
    "\n",
    "\n",
    "epochs = 30 ### Train in a reasonable time, at the cost of overall accuracy\n",
    "device = torch.device('cuda:0' if torch.cuda.is_available() else 'cpu')\n",
    "# weights.to(device)\n",
    "\n",
    "hidden_dim = 64 ### Keep models small.  Feel free to experiment with this value\n",
    "\n",
    "# loss_function = nn.NLLLoss(weight=weights)  ### Since we are returning log_softmax, we are working with log-probabilities\n",
    "loss_function = nn.NLLLoss()\n",
    "\n",
    "vocab_size = len(vocab)\n",
    "model = CNNClassifier(vocab_size, hidden_dim)\n",
    "model.to(device)\n",
    "optimizer = torch.optim.Adam(model.parameters(), lr=0.001)\n",
    "\n",
    "for epoch in range(epochs):\n",
    "    epoch_loss = 0\n",
    "    batch_counter = 0\n",
    "    for data in train_loader:\n",
    "        train_seq = data[0]\n",
    "        train_labels = data[1]    \n",
    "        model.zero_grad()\n",
    "        train_seq, train_labels = train_seq.to(device), train_labels.to(device).float()\n",
    "        score = model(train_seq)\n",
    "        gold = torch.tensor([int(i.item()) for i in train_labels])\n",
    "        loss = loss_function(score, gold)\n",
    "        loss.backward()\n",
    "        optimizer.step()\n",
    "        epoch_loss += loss.item()\n",
    "    print('After epoch:', epoch, 'Loss is:', epoch_loss)"
   ]
  },
  {
   "cell_type": "markdown",
   "metadata": {},
   "source": [
    "Now, it's time to evaluate your model.  We'll use the development data (which was already converted into an appropriate format).  Normally, we wouldn't evaluate on the development data - it's there to tune the model, and make sure we got it working (and to pick the best model).  After development, we evaluate on test - hopefully, the findings we got on our development data hold.\n",
    "\n",
    "For your evaluation, you'll want to do several things.  First, set your model to \"eval\" mode (model.eval()).  Otherwise, the model will apply dropout during inference, which we definitely don't want!  Then, iterate through the development data, and compare the predictions made by your model to the gold labels.  I get about 81%, which is a tough baseline to beat - we've already beaten the \"majority baseline\" (ie, our model is learning, and not just picking the majority class).  Your numbers may be a little different because of some inherent randomness in pytorch."
   ]
  },
  {
   "cell_type": "code",
   "execution_count": 26,
   "metadata": {},
   "outputs": [
    {
     "name": "stdout",
     "output_type": "stream",
     "text": [
      "Accuracy:  0.6321009918845807\n"
     ]
    }
   ],
   "source": [
    "#provided code\n",
    "predictions = defaultdict(list)\n",
    "golds = defaultdict(list)\n",
    "model.eval() #needed because our model has dropout, otherwise it will be applied when predicting!\n",
    "total = 0\n",
    "correct = 0\n",
    "counts = {}\n",
    "pred_counts = {}\n",
    "# confusion = {}\n",
    "        \n",
    "with torch.no_grad():\n",
    "    for data in dev_loader:\n",
    "        dev_seq = data[0]\n",
    "        dev_labels = [x.item() for x in data[1]]\n",
    "        \n",
    "        dev_seq = dev_seq.to(device)\n",
    "        scores = model(dev_seq)\n",
    "        preds = [np.argmax(x) for x in scores.detach().cpu().numpy()]\n",
    "        for i in preds:\n",
    "            pred_counts[i] = pred_counts.get(i, 0) + 1\n",
    "        for i in range(len(preds)):\n",
    "            if preds[i] == dev_labels[i]:\n",
    "                correct += 1\n",
    "            counts[dev_labels[i]] = counts.get(dev_labels[i], 0) + 1\n",
    "            counts[\"total\"] = counts.get(\"total\", 0) + 1     \n",
    "            # confusion[str(dev_labels[i]) + \":\" + str(preds[i])] = confusion.get(str(dev_labels[i]) + \":\" + str(preds[i]), 0) + 1\n",
    "\n",
    "        total += len(preds)\n",
    "        \n",
    "print(\"Accuracy: \", correct / total)  \n",
    "# print(confusion)"
   ]
  },
  {
   "cell_type": "markdown",
   "metadata": {},
   "source": [
    "#### Exercise 2.3\n",
    "rubric={accuracy:1, reasoning:1}\n",
    "\n",
    "Perform a high-level error analysis of the results.  You should modify the evaluation code above to create a confusion matrix of the results (ie, how many times did the model predict X, when the true value was Y?).  Do the results make sense, given what you know about sentiment?"
   ]
  },
  {
   "attachments": {},
   "cell_type": "markdown",
   "metadata": {},
   "source": [
    "Answer: "
   ]
  },
  {
   "cell_type": "markdown",
   "metadata": {},
   "source": [
    "#### Exercise 2.4 (Optional)\n",
    "rubric={accuracy:1, reasoning:1}\n",
    "\n",
    "We didn't do a check for the class distribution in the data, but from Exercise 1, we saw that it is not equal - there are far more neutral instances than anything else.  We can influence the model to work around this bias by providing class weights to the loss function.\n",
    "\n",
    "We'll just do a simple calculation of the weights - find out how many of each class there are, and inversely weight the classes by the proportion.  The weights should be a tensor of floats that are then supplied to the [weight parameter in the loss function](https://pytorch.org/docs/stable/generated/torch.nn.NLLLoss.html).\n",
    "\n",
    "Once you've generated the weights, you'll need to send them to your device, pass them to the loss function, and re-train / evaluate.  Write a short paragraph explaining any changes you see."
   ]
  },
  {
   "cell_type": "code",
   "execution_count": 180,
   "metadata": {},
   "outputs": [
    {
     "name": "stdout",
     "output_type": "stream",
     "text": [
      "tensor([4.2798, 2.1208, 3.3919])\n",
      "Counter({1: 4710, 2: 2945, 0: 2334})\n"
     ]
    }
   ],
   "source": [
    "class_counter = Counter()\n",
    "\n",
    "### Your code here\n",
    "\n",
    "\n",
    "### Your code here\n",
    "print(weights)\n",
    "print(class_counter)\n"
   ]
  },
  {
   "attachments": {},
   "cell_type": "markdown",
   "metadata": {},
   "source": [
    "Answer: \n"
   ]
  },
  {
   "cell_type": "markdown",
   "metadata": {},
   "source": [
    "### Exercise 3: Joint training\n",
    "\n",
    "In exercise 2, we were just using the utterance to learn a classification model - a pretty standard X-> Y mapping.  But we have other information available that seems very closely-related: we know that emotion and sentiment are related to each other.  We could add in the emotion as an \"X\" value during training, but then, we would need to get it for every example during inference, which would defeat the purpose of training a model at all.  Instead, we're going to do something a bit different - we're going to use the emotion as another task to learn simultaneously with sentiment.\n",
    "\n",
    "This task is typically called \"Multi-Task learning\" (MTL), or sometimes, \"Joint learning\".  The idea is that learning two related tasks will result in a stronger model than just learning one for each."
   ]
  },
  {
   "cell_type": "markdown",
   "metadata": {},
   "source": [
    "#### Exercise 3.1\n",
    "rubric={accuracy:1}\n",
    "\n",
    "The first thing we need to do is modify our data again - instead of just one class, we are now going to be predicting 2: sentiment and emotion.  You'll need to modify your Data loader so that on the label side, it produces a 1x2 tensor instead of a 1x1 one.\n",
    "\n",
    "Feel free to copy the code from 2.0 here - you'll need to modify it to handle the new setting.\n",
    "This will require modifications to the data pipeline and collate_batch function - everything else can stay the same, but you need to run the pipeline again.  The main thing is to transform the labels from a tensor of ints to a tensor of tuples of ints.\n",
    "\n",
    "eg. [2, 1, 0] -> [(2,4), (1,3), (0,0)]\n"
   ]
  },
  {
   "cell_type": "code",
   "execution_count": 28,
   "metadata": {},
   "outputs": [
    {
     "name": "stdout",
     "output_type": "stream",
     "text": [
      "['also I was the point person on my company\\x92s transition from the KL-5 to GR-6 system.', 1, 0]\n",
      "['Oh my God, he\\x92s lost it. He\\x92s totally lost it.', 2, 4]\n"
     ]
    }
   ],
   "source": [
    "### Code modified from https://github.com/andrei-radulescu-banu/stat453-deep-learning-ss21/blob/main/L15/packed_lstm.ipynb\n",
    "\n",
    "sentiments = {\"neutral\":\"1\", \"positive\":\"0\", \"negative\":\"2\"}\n",
    "emotions = {\"neutral\":\"0\", \"fear\":\"1\", \"anger\":\"2\", \"disgust\":\"3\", \"sadness\":\"4\", \"surprise\":\"5\", \"joy\":\"6\"}\n",
    "\n",
    "datapipe_train = IterableWrapper([\"train_sent_emo.csv\"])\n",
    "datapipe_train = FileOpener(datapipe_train, mode='b')  ### Open the file\n",
    "datapipe_train = datapipe_train.parse_csv(skip_lines=1) ### Parse, skipping the header\n",
    "datapipe_train = datapipe_train.map(...)\n",
    "\n",
    "for sample in datapipe_train:\n",
    "     print(sample)\n",
    "     break\n",
    "\n",
    "datapipe_dev = IterableWrapper([\"dev_sent_emo.csv\"])\n",
    "datapipe_dev = FileOpener(datapipe_dev, mode='b')\n",
    "datapipe_dev = datapipe_dev.parse_csv(skip_lines=1)\n",
    "datapipe_dev = datapipe_dev.map(...)\n",
    "\n",
    "for sample in datapipe_dev:\n",
    "    print(sample)\n",
    "    break\n",
    "\n",
    "# From Ex2:\n",
    "# ['also I was the point person on my company\\x92s transition from the KL-5 to GR-6 system.', 1]\n",
    "# ['Oh my God, he\\x92s lost it. He\\x92s totally lost it.', 2]\n",
    "\n",
    "# For Ex3:\n",
    "# ['also I was the point person on my company\\x92s transition from the KL-5 to GR-6 system.', 1, 0]\n",
    "# ['Oh my God, he\\x92s lost it. He\\x92s totally lost it.', 2, 4]\n"
   ]
  },
  {
   "cell_type": "code",
   "execution_count": 29,
   "metadata": {},
   "outputs": [],
   "source": [
    "# # From Ex2:\n",
    "# def collate_batch(batch):\n",
    "#     text_list, label_list = [], []\n",
    "#     for (_text, _label) in batch:\n",
    "#         processed_text = torch.tensor(text_transform(_text, vocab))\n",
    "#         text_list.append(processed_text)\n",
    "#         label_list.append(_label)\n",
    "#     return pad_sequence(text_list, padding_value=PADDING_VALUE).to(DEVICE), torch.tensor(label_list).to(DEVICE)\n",
    "\n",
    "# For Ex 3:\n",
    "# def collate_batch(batch):\n",
    "#     text_list, label_list = [], []\n",
    "#     for (_text, _label) in batch:                                                     <---  your batch should contains _sentiment and _emotion instead of _label\n",
    "#         processed_text = torch.tensor(text_transform(_text, vocab))\n",
    "#         text_list.append(processed_text)\n",
    "#         label_list.append(_label)                                                     <--- append  _sentiment and _emotion;\n",
    "#     return pad_sequence(text_list, padding_value=PADDING_VALUE).to(DEVICE), torch.tensor(label_list).to(DEVICE)\n"
   ]
  },
  {
   "cell_type": "code",
   "execution_count": 30,
   "metadata": {},
   "outputs": [],
   "source": [
    "# same as in Ex2:\n",
    "datapipe_train_list = list(datapipe_train)\n",
    "datapipe_dev_list = list(datapipe_dev)\n",
    "\n",
    "train_loader_joint = DataLoader(datapipe_train_list, \n",
    "                          batch_sampler=BatchSamplerSimilarLength(dataset = datapipe_train_list, \n",
    "                                                                  batch_size=BATCH_SIZE), collate_fn=collate_batch)\n",
    "dev_loader_joint = DataLoader(datapipe_dev_list, \n",
    "                          batch_sampler=BatchSamplerSimilarLength(dataset = datapipe_dev_list, \n",
    "                                                                  batch_size=BATCH_SIZE,\n",
    "                                                                  shuffle=False), collate_fn=collate_batch)"
   ]
  },
  {
   "cell_type": "code",
   "execution_count": 31,
   "metadata": {},
   "outputs": [
    {
     "name": "stdout",
     "output_type": "stream",
     "text": [
      "input shape:\n",
      "torch.Size([4, 64])\n",
      "input sample:\n",
      "tensor([  0, 187,   4,   1])\n",
      "label shape:\n",
      "torch.Size([64, 2])\n",
      "label sample:\n",
      "tensor([0, 6])\n"
     ]
    }
   ],
   "source": [
    "#provided code\n",
    "batch = next(iter(train_loader_joint))\n",
    "print(\"input shape:\")\n",
    "print(batch[0].shape)\n",
    "print(\"input sample:\")\n",
    "print(batch[0][:, 0])\n",
    "print(\"label shape:\")\n",
    "print(batch[1].shape)\n",
    "print(\"label sample:\")\n",
    "print(batch[1][0])"
   ]
  },
  {
   "cell_type": "code",
   "execution_count": 32,
   "metadata": {},
   "outputs": [],
   "source": [
    "# previous results:\n",
    "# -----------------------------\n",
    "# input shape:\n",
    "# torch.Size([17, 64])\n",
    "# input sample:\n",
    "# tensor([   0,   17,   75,   39,   44,    4,   38,  157,  831,  135,   50, 1731,\n",
    "#         4959, 3350,    4,    1,    3])\n",
    "# label shape:\n",
    "# torch.Size([64])\n",
    "# label sample:     \n",
    "# tensor(1)             <---        previously one result, now TWO results! "
   ]
  },
  {
   "cell_type": "markdown",
   "metadata": {},
   "source": [
    "#### Exercise 3.2\n",
    "\n",
    "Now that we have multiple output classes, we'll need to modify our CNN so it produces not one output distribution, but several.\n",
    "\n",
    "You don't need to modify the CNN itself, but you'll need to modify the classifier.\n",
    "\n",
    "Modify the CNNClassifier class (I highly recommend naming it something like \"JointCNNClassifier\") so that it takes a number of classifiers, so that it has 2 linear layers - one that transforms the embedded input into a sentiment distribution (as before), and one that transforms it into an emotion distribution (very similar).  The forward function should return both distributions."
   ]
  },
  {
   "cell_type": "code",
   "execution_count": null,
   "metadata": {},
   "outputs": [],
   "source": [
    "# From Ex2, class CNNClassifier(nn.Module):\n",
    "\n",
    "# class JointCNNClassifier(nn.Module):\n",
    "#     '''Uses a CNN and a linear layer to provide (pre-Sigmoid) score for binary classification'''\n",
    "#     def __init__(self, vocab_size, hidden_dim):\n",
    "#         super(CNNClassifier, self).__init__()                                 ---> super(JointCNNClassifier, self).__init__()\n",
    "#         self.hidden_dim = hidden_dim                                          ---> idem\n",
    "#         self.CNN = CNN(vocab_size, hidden_dim)                                ---> idem\n",
    "#         self.linear1 = nn.Linear(hidden_dim, 3)                                ---> one for sentiment\n",
    "#         self.linear2 = nn.Linear(hidden_dim, 7)                                ---> one for emotion\n",
    "#         self.dropout_layer = nn.Dropout(p=0.3)                                ---> idem\n",
    "\n",
    "#     def forward(self, input_seq):\n",
    "#         ### Your code here\n",
    " \n",
    "    # 1. input go through `CNN`\n",
    "    # 2. `linear`, \n",
    "    # 3. `F.log_softmax` (which `dim=1`) --> one for semitment; another for emotiion; \n",
    "    # 4. return log_softmax values of sentiment and emotion;\n",
    " "
   ]
  },
  {
   "cell_type": "code",
   "execution_count": 33,
   "metadata": {},
   "outputs": [],
   "source": []
  },
  {
   "cell_type": "markdown",
   "metadata": {},
   "source": [
    "#### Exercise 3.3\n",
    "rubric={accuracy:1, quality:1}\n",
    "\n",
    "Now, you need to modify the training algorithm to handle two different predictions.\n",
    "\n",
    "This will require 2 loss functions: one for emotion, and one for sentiment (they can both be NLLLoss). There are many ways that we can combine these functions to modify the model, but we're just going to take the easiest way - add them together, and back-propagate through the model.\n",
    "\n",
    "The steps you'll need to modify: \n",
    "\n",
    "1. Create a separate loss function for the sentiment and emotion\n",
    "2. Separate out the gold sentiment labels and gold emotion labels\n",
    "3. Separate predictions returned by the model\n",
    "4. Calculate separate loss values for sentiment and emotion\n",
    "5. Combine losses\n",
    "6. Back-propagate (no modification is required - once the losses are added, calling loss.backward will do back-propagation.\n",
    "\n",
    "You may also want to keep track of the epoch loss for sentiment and emotion separately."
   ]
  },
  {
   "cell_type": "code",
   "execution_count": null,
   "metadata": {},
   "outputs": [],
   "source": [
    "# From Ex2:\n",
    "\n",
    "\n",
    "\n",
    "# torch.backends.cudnn.deterministic = True  ### Try to ensure replicability\n",
    "# RANDOM_SEED = 42\n",
    "# torch.manual_seed(RANDOM_SEED)\n",
    "\n",
    "# epochs = 30 ### Train in a reasonable time, at the cost of overall accuracy\n",
    "# device = torch.device('cuda:0' if torch.cuda.is_available() else 'cpu')\n",
    "# # weights.to(device)\n",
    "\n",
    "# hidden_dim = 64 ### Keep models small.  Feel free to experiment with this value\n",
    "\n",
    "# loss_function = nn.NLLLoss() \n",
    "    # -> You need to define two NLLoss()s for emotion and senti; \n",
    "    # -> emot_loss_function = nn.NLLLoss()\n",
    "    # -> sent_loss_function = nn.NLLLoss()\n",
    "\n",
    "\n",
    "\n",
    "# vocab_size = len(vocab)\n",
    "# model = CNNClassifier(vocab_size, hidden_dim)                         ---> modelJoint = JointCNNClassifier(vocab_size, hidden_dim)\n",
    "# model.to(device)\n",
    "# optimizer = torch.optim.Adam(model.parameters(), lr=0.001)\n",
    "\n",
    "# for epoch in range(epochs):\n",
    "#     epoch_loss = 0\n",
    "    # ->     emot_epoch_loss = 0\n",
    "    # ->     sent_epoch_loss = 0\n",
    "\n",
    "#     batch_counter = 0\n",
    "#     for data in train_loader:\n",
    "#         train_seq = data[0]\n",
    "#         train_labels = data[1]    \n",
    "#         model.zero_grad()\n",
    "#         train_seq, train_labels = train_seq.to(device), train_labels.to(device).float()\n",
    "#         score = model(train_seq)\n",
    "    # ->    scores = modelJoint(train_seq)\n",
    "    # ->    sent_scores = \n",
    "    # ->    emot_scores = \n",
    "\n",
    "#         gold = torch.tensor([int(i.item()) for i in train_labels])\n",
    "        # -> gold_sent = \n",
    "        # -> gold_emot = \n",
    "\n",
    "#         loss = loss_function(score, gold)\n",
    "            # -> emot_loss = \n",
    "            # -> sent_loss = \n",
    "            # -> loss =                                                 ---> your loss is sum of sent_loss and emot_loss\n",
    "#         loss.backward()\n",
    "\n",
    "#         optimizer.step()\n",
    "#         epoch_loss += loss.item()\n",
    "            # -> emot_epoch_loss +=             \n",
    "            # -> sent_epoch_loss += \n",
    "#     print('After epoch:', epoch, 'Loss is:', epoch_loss)\n",
    "#     # break"
   ]
  },
  {
   "cell_type": "code",
   "execution_count": 34,
   "metadata": {},
   "outputs": [
    {
     "name": "stdout",
     "output_type": "stream",
     "text": [
      "After epoch: 0 Emotion Loss is: 236.7262768149376\n",
      "After epoch: 0 Sentiment Loss is: 158.3451641201973\n",
      "After epoch: 1 Emotion Loss is: 214.9758431315422\n",
      "After epoch: 1 Sentiment Loss is: 144.53474378585815\n",
      "After epoch: 2 Emotion Loss is: 209.38474696874619\n",
      "After epoch: 2 Sentiment Loss is: 141.24635016918182\n",
      "After epoch: 3 Emotion Loss is: 203.79699611663818\n",
      "After epoch: 3 Sentiment Loss is: 138.09752088785172\n",
      "After epoch: 4 Emotion Loss is: 200.99668502807617\n",
      "After epoch: 4 Sentiment Loss is: 135.88494670391083\n",
      "After epoch: 5 Emotion Loss is: 198.16450834274292\n",
      "After epoch: 5 Sentiment Loss is: 133.626459389925\n",
      "After epoch: 6 Emotion Loss is: 196.18797743320465\n",
      "After epoch: 6 Sentiment Loss is: 132.77064526081085\n",
      "After epoch: 7 Emotion Loss is: 193.36775296926498\n",
      "After epoch: 7 Sentiment Loss is: 130.68901360034943\n",
      "After epoch: 8 Emotion Loss is: 191.80103766918182\n",
      "After epoch: 8 Sentiment Loss is: 129.2412519454956\n",
      "After epoch: 9 Emotion Loss is: 188.57674032449722\n",
      "After epoch: 9 Sentiment Loss is: 126.67758268117905\n",
      "After epoch: 10 Emotion Loss is: 185.6322296857834\n",
      "After epoch: 10 Sentiment Loss is: 124.936846524477\n",
      "After epoch: 11 Emotion Loss is: 185.4841577410698\n",
      "After epoch: 11 Sentiment Loss is: 124.68343967199326\n",
      "After epoch: 12 Emotion Loss is: 182.37255257368088\n",
      "After epoch: 12 Sentiment Loss is: 121.56502383947372\n",
      "After epoch: 13 Emotion Loss is: 181.09980142116547\n",
      "After epoch: 13 Sentiment Loss is: 120.41783341765404\n",
      "After epoch: 14 Emotion Loss is: 179.44259589910507\n",
      "After epoch: 14 Sentiment Loss is: 119.52110683917999\n",
      "After epoch: 15 Emotion Loss is: 178.00372052192688\n",
      "After epoch: 15 Sentiment Loss is: 118.1177886724472\n",
      "After epoch: 16 Emotion Loss is: 177.01549363136292\n",
      "After epoch: 16 Sentiment Loss is: 117.49291563034058\n",
      "After epoch: 17 Emotion Loss is: 175.05939239263535\n",
      "After epoch: 17 Sentiment Loss is: 115.80977001786232\n",
      "After epoch: 18 Emotion Loss is: 172.30573707818985\n",
      "After epoch: 18 Sentiment Loss is: 114.05349171161652\n",
      "After epoch: 19 Emotion Loss is: 170.13349932432175\n",
      "After epoch: 19 Sentiment Loss is: 111.5632611811161\n",
      "After epoch: 20 Emotion Loss is: 167.88709244132042\n",
      "After epoch: 20 Sentiment Loss is: 109.73667764663696\n",
      "After epoch: 21 Emotion Loss is: 168.64650654792786\n",
      "After epoch: 21 Sentiment Loss is: 110.16978850960732\n",
      "After epoch: 22 Emotion Loss is: 164.48976516723633\n",
      "After epoch: 22 Sentiment Loss is: 107.10751375555992\n",
      "After epoch: 23 Emotion Loss is: 165.02336013317108\n",
      "After epoch: 23 Sentiment Loss is: 107.44218111038208\n",
      "After epoch: 24 Emotion Loss is: 163.47157561779022\n",
      "After epoch: 24 Sentiment Loss is: 105.54416701197624\n",
      "After epoch: 25 Emotion Loss is: 159.9994882941246\n",
      "After epoch: 25 Sentiment Loss is: 103.37905248999596\n",
      "After epoch: 26 Emotion Loss is: 159.6914823949337\n",
      "After epoch: 26 Sentiment Loss is: 102.58066141605377\n",
      "After epoch: 27 Emotion Loss is: 158.84442007541656\n",
      "After epoch: 27 Sentiment Loss is: 102.25848695635796\n",
      "After epoch: 28 Emotion Loss is: 157.57646742463112\n",
      "After epoch: 28 Sentiment Loss is: 101.10587315261364\n",
      "After epoch: 29 Emotion Loss is: 155.36162513494492\n",
      "After epoch: 29 Sentiment Loss is: 99.00356659293175\n"
     ]
    }
   ],
   "source": []
  },
  {
   "cell_type": "markdown",
   "metadata": {},
   "source": [
    "#### Exercise 3.4 Evaluating joint training\n",
    "rubric={accuracy:1, reasoning:1}\n",
    "\n",
    "You will also need to modify your evaluation code to correctly evaluate your system.  Again, produce confusion matrices and briefly discuss what you see."
   ]
  },
  {
   "cell_type": "code",
   "execution_count": null,
   "metadata": {},
   "outputs": [],
   "source": [
    "# # From Ex2:\n",
    "\n",
    "# #provided code\n",
    "# predictions = defaultdict(list)\n",
    "# golds = defaultdict(list)\n",
    "# model.eval()                                        ---> modelJoint.eval() #needed because our model has dropout, otherwise it will be applied when predicting!\n",
    "# total = 0\n",
    "# correct = 0\n",
    "#             ---> emot_correct = 0\n",
    "#             ---> sent_correct = 0\n",
    "# counts = {}\n",
    "# pred_counts = {}\n",
    "        \n",
    "        \n",
    "# with torch.no_grad():\n",
    "#     for data in dev_loader:\n",
    "#         dev_seq = data[0]\n",
    "#         dev_labels = [x.item() for x in data[1]]\n",
    "#             ---> sent_dev_labels = \n",
    "#             ---> emot_dev_labels = \n",
    "#         dev_seq = dev_seq.to(device)\n",
    "\n",
    "#         scores = model(dev_seq)\n",
    "#             ---> sent_scores = \n",
    "#             ---> emot_scores = \n",
    "\n",
    "#         preds = [np.argmax(x) for x in scores.detach().cpu().numpy()]\n",
    "#             ---> emot_preds = [...  emot_scores.detach().cpu().numpy()]\n",
    "#             ---> sent_preds = \n",
    "\n",
    "#         # go through emot_preds and sent_preds to get corret numbers; \n",
    "#         for i in range(len(preds)):\n",
    "#             if preds[i] == dev_labels[i]:\n",
    "#                 correct += 1\n",
    "\n",
    "#         total += len(emot_preds)                  --> One total is enough; \n",
    "        \n",
    "print(\"Emotion Accuracy: \", emot_correct / total) \n",
    "print(\"Sentiment Accuracy: \", sent_correct / total) "
   ]
  },
  {
   "cell_type": "code",
   "execution_count": 35,
   "metadata": {},
   "outputs": [
    {
     "name": "stdout",
     "output_type": "stream",
     "text": [
      "Emotion Accuracy:  0.5500450856627592\n",
      "Sentiment Accuracy:  0.6293958521190262\n"
     ]
    }
   ],
   "source": []
  },
  {
   "attachments": {},
   "cell_type": "markdown",
   "metadata": {},
   "source": [
    "Answer: "
   ]
  },
  {
   "cell_type": "markdown",
   "metadata": {},
   "source": [
    "#### Exercise 3.5 (Optional):\n",
    "rubric={accuracy:1, reasoning:1}\n",
    "\n",
    "Perform some tuning on your model to try to improve your accuracy.  \n",
    "Some suggestions - try adding in extra tasks that might have more information (do the characters get more positive / negative by season?)  Try re-weighting the classes like in Exercise 1.\n",
    "Tune several parameters: hidden size and dropout size are good candidates, but you're free to tune whatever you feel like.  Make one of the tasks easier - what if we only predict positive / negative, instead of neutral?  What if we balance the classes (in any of our tasks?).  Report your findings.  Don't worry if you can't improve the quality that much (or at all).  An effort to investigate at least 2 of these ideas (or others you come up with) will get you your marks."
   ]
  },
  {
   "cell_type": "markdown",
   "metadata": {},
   "source": [
    "### Exercise 4: Sentiment from speech\n",
    "\n",
    "As we all know, text is not the best mode for detecting sentiment / emotion.  Sarcasm, enthusiasm, boredom, and other emotions just don't come through in text like they do in speech.\n",
    "\n",
    "You may have noticed, way back in Exercise 1, that MELD is a *multi-modal* data-set.  This means that along with textual data, it includes some other `mode` of data.  The original dataset contained video (another great mode for emotion!), but since we haven't worked with video, I won't be springing it on you here.\n",
    "\n",
    "Instead, I've extracted the audio from the video files.  Remember that we've seen audio before, back in COLX 521.  We'll be extracting audio_features from some audio files using OpenSmile (I know that some of you cannot use OpenSmile - don't worry, I'll provide the features for you)."
   ]
  },
  {
   "cell_type": "code",
   "execution_count": 214,
   "metadata": {},
   "outputs": [],
   "source": [
    "# For MacOS users, just \"load\" dev/train audio npz files; \n",
    "\n",
    "\n",
    "# !python3 -m pip install opensmile\n",
    "# !python3 -m pip install --upgrade audresample\n",
    "# !python3 -m pip install librosa"
   ]
  },
  {
   "cell_type": "code",
   "execution_count": 215,
   "metadata": {},
   "outputs": [],
   "source": [
    "\n",
    "### Provided code - \n",
    "### this will load the audio features into dictionaries, and combine them into a single dictionary\n",
    "full_data = {}\n",
    "dev_audio = np.load(data_dir + \"dev_audio.npz\")\n",
    "train_audio = np.load(data_dir + \"train_audio.npz\")\n",
    "full_data.update(dev_audio)\n",
    "full_data.update(train_audio)"
   ]
  },
  {
   "cell_type": "markdown",
   "metadata": {},
   "source": [
    "#### Exercise 4.1\n",
    "rubric{accuracy:1}\n",
    "\n",
    "We're going to make a small change to the dataloader here - we'll include the dialogue number (column 5) and utterance number (column 6) - this will make things a lot easier when we get to training.\n",
    "\n"
   ]
  },
  {
   "cell_type": "code",
   "execution_count": 224,
   "metadata": {},
   "outputs": [
    {
     "data": {
      "text/html": [
       "<div>\n",
       "<style scoped>\n",
       "    .dataframe tbody tr th:only-of-type {\n",
       "        vertical-align: middle;\n",
       "    }\n",
       "\n",
       "    .dataframe tbody tr th {\n",
       "        vertical-align: top;\n",
       "    }\n",
       "\n",
       "    .dataframe thead th {\n",
       "        text-align: right;\n",
       "    }\n",
       "</style>\n",
       "<table border=\"1\" class=\"dataframe\">\n",
       "  <thead>\n",
       "    <tr style=\"text-align: right;\">\n",
       "      <th></th>\n",
       "      <th>Sr No.</th>\n",
       "      <th>Utterance</th>\n",
       "      <th>Speaker</th>\n",
       "      <th>Emotion</th>\n",
       "      <th>Sentiment</th>\n",
       "      <th>Dialogue_ID</th>\n",
       "      <th>Utterance_ID</th>\n",
       "      <th>Season</th>\n",
       "      <th>Episode</th>\n",
       "      <th>StartTime</th>\n",
       "      <th>EndTime</th>\n",
       "    </tr>\n",
       "  </thead>\n",
       "  <tbody>\n",
       "    <tr>\n",
       "      <th>0</th>\n",
       "      <td>1</td>\n",
       "      <td>also I was the point person on my companys tr...</td>\n",
       "      <td>Chandler</td>\n",
       "      <td>neutral</td>\n",
       "      <td>neutral</td>\n",
       "      <td>0</td>\n",
       "      <td>0</td>\n",
       "      <td>8</td>\n",
       "      <td>21</td>\n",
       "      <td>00:16:16,059</td>\n",
       "      <td>00:16:21,731</td>\n",
       "    </tr>\n",
       "    <tr>\n",
       "      <th>1</th>\n",
       "      <td>2</td>\n",
       "      <td>You mustve had your hands full.</td>\n",
       "      <td>The Interviewer</td>\n",
       "      <td>neutral</td>\n",
       "      <td>neutral</td>\n",
       "      <td>0</td>\n",
       "      <td>1</td>\n",
       "      <td>8</td>\n",
       "      <td>21</td>\n",
       "      <td>00:16:21,940</td>\n",
       "      <td>00:16:23,442</td>\n",
       "    </tr>\n",
       "    <tr>\n",
       "      <th>2</th>\n",
       "      <td>3</td>\n",
       "      <td>That I did. That I did.</td>\n",
       "      <td>Chandler</td>\n",
       "      <td>neutral</td>\n",
       "      <td>neutral</td>\n",
       "      <td>0</td>\n",
       "      <td>2</td>\n",
       "      <td>8</td>\n",
       "      <td>21</td>\n",
       "      <td>00:16:23,442</td>\n",
       "      <td>00:16:26,389</td>\n",
       "    </tr>\n",
       "    <tr>\n",
       "      <th>3</th>\n",
       "      <td>4</td>\n",
       "      <td>So lets talk a little bit about your duties.</td>\n",
       "      <td>The Interviewer</td>\n",
       "      <td>neutral</td>\n",
       "      <td>neutral</td>\n",
       "      <td>0</td>\n",
       "      <td>3</td>\n",
       "      <td>8</td>\n",
       "      <td>21</td>\n",
       "      <td>00:16:26,820</td>\n",
       "      <td>00:16:29,572</td>\n",
       "    </tr>\n",
       "    <tr>\n",
       "      <th>4</th>\n",
       "      <td>5</td>\n",
       "      <td>My duties?  All right.</td>\n",
       "      <td>Chandler</td>\n",
       "      <td>surprise</td>\n",
       "      <td>positive</td>\n",
       "      <td>0</td>\n",
       "      <td>4</td>\n",
       "      <td>8</td>\n",
       "      <td>21</td>\n",
       "      <td>00:16:34,452</td>\n",
       "      <td>00:16:40,917</td>\n",
       "    </tr>\n",
       "    <tr>\n",
       "      <th>...</th>\n",
       "      <td>...</td>\n",
       "      <td>...</td>\n",
       "      <td>...</td>\n",
       "      <td>...</td>\n",
       "      <td>...</td>\n",
       "      <td>...</td>\n",
       "      <td>...</td>\n",
       "      <td>...</td>\n",
       "      <td>...</td>\n",
       "      <td>...</td>\n",
       "      <td>...</td>\n",
       "    </tr>\n",
       "    <tr>\n",
       "      <th>9984</th>\n",
       "      <td>10474</td>\n",
       "      <td>You or me?</td>\n",
       "      <td>Chandler</td>\n",
       "      <td>neutral</td>\n",
       "      <td>neutral</td>\n",
       "      <td>1038</td>\n",
       "      <td>13</td>\n",
       "      <td>2</td>\n",
       "      <td>3</td>\n",
       "      <td>00:00:48,173</td>\n",
       "      <td>00:00:50,799</td>\n",
       "    </tr>\n",
       "    <tr>\n",
       "      <th>9985</th>\n",
       "      <td>10475</td>\n",
       "      <td>I got it. Uh, Joey, women don't have Adam's ap...</td>\n",
       "      <td>Ross</td>\n",
       "      <td>neutral</td>\n",
       "      <td>neutral</td>\n",
       "      <td>1038</td>\n",
       "      <td>14</td>\n",
       "      <td>2</td>\n",
       "      <td>3</td>\n",
       "      <td>00:00:51,009</td>\n",
       "      <td>00:00:53,594</td>\n",
       "    </tr>\n",
       "    <tr>\n",
       "      <th>9986</th>\n",
       "      <td>10476</td>\n",
       "      <td>You guys are messing with me, right?</td>\n",
       "      <td>Joey</td>\n",
       "      <td>surprise</td>\n",
       "      <td>positive</td>\n",
       "      <td>1038</td>\n",
       "      <td>15</td>\n",
       "      <td>2</td>\n",
       "      <td>3</td>\n",
       "      <td>00:01:00,518</td>\n",
       "      <td>00:01:03,520</td>\n",
       "    </tr>\n",
       "    <tr>\n",
       "      <th>9987</th>\n",
       "      <td>10477</td>\n",
       "      <td>Yeah.</td>\n",
       "      <td>All</td>\n",
       "      <td>neutral</td>\n",
       "      <td>neutral</td>\n",
       "      <td>1038</td>\n",
       "      <td>16</td>\n",
       "      <td>2</td>\n",
       "      <td>3</td>\n",
       "      <td>00:01:05,398</td>\n",
       "      <td>00:01:07,274</td>\n",
       "    </tr>\n",
       "    <tr>\n",
       "      <th>9988</th>\n",
       "      <td>10478</td>\n",
       "      <td>That was a good one. For a second there, I was...</td>\n",
       "      <td>Joey</td>\n",
       "      <td>joy</td>\n",
       "      <td>positive</td>\n",
       "      <td>1038</td>\n",
       "      <td>17</td>\n",
       "      <td>2</td>\n",
       "      <td>3</td>\n",
       "      <td>00:01:08,401</td>\n",
       "      <td>00:01:12,071</td>\n",
       "    </tr>\n",
       "  </tbody>\n",
       "</table>\n",
       "<p>9989 rows × 11 columns</p>\n",
       "</div>"
      ],
      "text/plain": [
       "      Sr No.                                          Utterance  \\\n",
       "0          1  also I was the point person on my companys tr...   \n",
       "1          2                   You mustve had your hands full.   \n",
       "2          3                            That I did. That I did.   \n",
       "3          4      So lets talk a little bit about your duties.   \n",
       "4          5                             My duties?  All right.   \n",
       "...      ...                                                ...   \n",
       "9984   10474                                         You or me?   \n",
       "9985   10475  I got it. Uh, Joey, women don't have Adam's ap...   \n",
       "9986   10476               You guys are messing with me, right?   \n",
       "9987   10477                                              Yeah.   \n",
       "9988   10478  That was a good one. For a second there, I was...   \n",
       "\n",
       "              Speaker   Emotion Sentiment  Dialogue_ID  Utterance_ID  Season  \\\n",
       "0            Chandler   neutral   neutral            0             0       8   \n",
       "1     The Interviewer   neutral   neutral            0             1       8   \n",
       "2            Chandler   neutral   neutral            0             2       8   \n",
       "3     The Interviewer   neutral   neutral            0             3       8   \n",
       "4            Chandler  surprise  positive            0             4       8   \n",
       "...               ...       ...       ...          ...           ...     ...   \n",
       "9984         Chandler   neutral   neutral         1038            13       2   \n",
       "9985             Ross   neutral   neutral         1038            14       2   \n",
       "9986             Joey  surprise  positive         1038            15       2   \n",
       "9987              All   neutral   neutral         1038            16       2   \n",
       "9988             Joey       joy  positive         1038            17       2   \n",
       "\n",
       "      Episode     StartTime       EndTime  \n",
       "0          21  00:16:16,059  00:16:21,731  \n",
       "1          21  00:16:21,940  00:16:23,442  \n",
       "2          21  00:16:23,442  00:16:26,389  \n",
       "3          21  00:16:26,820  00:16:29,572  \n",
       "4          21  00:16:34,452  00:16:40,917  \n",
       "...       ...           ...           ...  \n",
       "9984        3  00:00:48,173  00:00:50,799  \n",
       "9985        3  00:00:51,009  00:00:53,594  \n",
       "9986        3  00:01:00,518  00:01:03,520  \n",
       "9987        3  00:01:05,398  00:01:07,274  \n",
       "9988        3  00:01:08,401  00:01:12,071  \n",
       "\n",
       "[9989 rows x 11 columns]"
      ]
     },
     "execution_count": 224,
     "metadata": {},
     "output_type": "execute_result"
    }
   ],
   "source": [
    "import pandas\n",
    "train_path = data_dir + \"train_sent_emo.csv\"\n",
    "train_data = pandas.read_csv(train_path)\n",
    "\n",
    "train_data"
   ]
  },
  {
   "cell_type": "code",
   "execution_count": 225,
   "metadata": {},
   "outputs": [],
   "source": [
    "# `datapipe_train.map` requires row[1], row[4] = sentiments, row[3] = emotions, row[5] and row[6];"
   ]
  },
  {
   "cell_type": "code",
   "execution_count": 226,
   "metadata": {},
   "outputs": [
    {
     "name": "stdout",
     "output_type": "stream",
     "text": [
      "['also I was the point person on my company\\x92s transition from the KL-5 to GR-6 system.', 1, 0, 0, 0]\n",
      "['Oh my God, he\\x92s lost it. He\\x92s totally lost it.', 2, 4, 0, 0]\n"
     ]
    }
   ],
   "source": [
    "### Your code here (reading CSV)\n",
    "### Your code here (modified collate_batch)\n",
    "### Your code to load the dataset here\n"
   ]
  },
  {
   "cell_type": "code",
   "execution_count": 229,
   "metadata": {},
   "outputs": [
    {
     "name": "stdout",
     "output_type": "stream",
     "text": [
      "input shape:\n",
      "torch.Size([23, 64])\n",
      "input sample:\n",
      "tensor([   0,   47,   50, 2136,   53,    4,   70,    5,    8,   10,  148,  203,\n",
      "          13,  553, 2571,   29, 1135,   31,  354,  617,    4,    1,    3])\n",
      "label shape:\n",
      "torch.Size([64, 2])\n",
      "label sample:\n",
      "tensor([1, 0])\n",
      "audio sample:\n",
      "tensor([459,   9])\n"
     ]
    }
   ],
   "source": [
    "#provided code\n",
    "batch = next(iter(train_loader_audio))\n",
    "print(\"input shape:\")\n",
    "print(batch[0].shape)\n",
    "print(\"input sample:\")\n",
    "print(batch[0][:, 0])\n",
    "print(\"label shape:\")\n",
    "print(batch[1].shape)\n",
    "print(\"label sample:\")\n",
    "print(batch[1][0])\n",
    "print(\"audio sample:\")\n",
    "print(batch[2][0])"
   ]
  },
  {
   "cell_type": "markdown",
   "metadata": {},
   "source": [
    "#### Exercise 4.2\n",
    "rubric{accuracy:2, quality: 1}\n",
    "\n",
    "We're going to modify the CNN class to accept audio low-level features (25 of them) as an \"embedding\" of the audio signal.  This will be similar to how we are processing text, except that we won't be running the data through an embedding layer.\n",
    "\n",
    "We'll need a second convolutional layer in the model, that converts from the size 25 embedding to the hidden dimension.  You'll need to permute the audio file so that it fits the convolutional layer (hint: the sequence size should be last.).  After running the text and audio through their separate convolutional layers and applying activation and dropout, you should return both values.  They'll be dealt with by the classifier module."
   ]
  },
  {
   "cell_type": "code",
   "execution_count": 230,
   "metadata": {},
   "outputs": [],
   "source": [
    "#provided code\n",
    "class AudioCNN(nn.Module):\n",
    "    '''Converts a sentence into a fixed length vector representation using convolution and max pooling. Input to forward\n",
    "    should be a matrix of token indices of shape (sequence length, batch size), output is a vector which represents the\n",
    "    sentence, of shape (batch size, hidden_dim)'''\n",
    "    def __init__(self, vocab_size, hidden_dim):   \n",
    "        ...\n",
    "\n",
    "    def forward(self, input_seq, audio):\n",
    "        ...\n",
    "        return (return_val_text, return_val_audio)"
   ]
  },
  {
   "cell_type": "markdown",
   "metadata": {},
   "source": [
    "#### Exercise 4.3\n",
    "rubric={accuracy:1, quality:1}\n",
    "\n",
    "Now that we've passed everything through the CNN, we need to modify the audio classifier to work on this new data.\n",
    "\n",
    "We're just going to be concatenating the text and audio output from the convolutional layer.  This data is {batch x hidden}, so when we concatenate it, we'll have {batch x hidden * 2}, which will be passed to the final linear layers, as before (this means you'll have to modify the size of those layers in the init function...)\n",
    "\n",
    "You can return the prediction distributions for emotion and sentiment, as before."
   ]
  },
  {
   "cell_type": "code",
   "execution_count": 231,
   "metadata": {},
   "outputs": [],
   "source": [
    "#provided code\n",
    "class AudioCNNClassifier(nn.Module):\n",
    "    '''Uses a CNN and a linear layer to provide (pre-Sigmoid) score for binary classification'''\n",
    "    def __init__(self, vocab_size, hidden_dim):\n",
    "        ...\n",
    "\n",
    "    def forward(self, input_seq,audio):\n",
    "        ...\n",
    "        \n",
    "        return sent, emot"
   ]
  },
  {
   "cell_type": "markdown",
   "metadata": {},
   "source": [
    "#### Exercise 4.4\n",
    "rubric{accuracy:1, quality:1}\n",
    "\n",
    "Now, we again need to modify the training algorithm.  There are two main things that we need to do - some of the data is corrupted, so it needs to be replaced.  You'll need to loop through the batch, and if any of the dialogue / utterance pairs are not in full_data, then you need to add an empty matrix (100x25 zeros is fine).  You'll then need to grab the matrix from full_audio for each item in the batch.\n",
    "\n",
    "Secondly, you'll need to pad the audio data (batches are matched on text, not audio).  You can use the provided function:\n",
    "\n",
    "You'll provide the padded audio to the model."
   ]
  },
  {
   "cell_type": "code",
   "execution_count": 232,
   "metadata": {},
   "outputs": [],
   "source": [
    "def pad_seq(to_pad):\n",
    "    ''' Takes a batch of data, and pads any shorter sequences so that all items are the same length'''\n",
    "    max_cols = max([len(row) for instance in to_pad for row in instance])  ### Maximum number of columns in the batch\n",
    "    max_rows = max([len(instance) for instance in to_pad]) ### Maximum number of rows in the batch\n",
    "    padded = []\n",
    "    for i in to_pad:\n",
    "        instance = [[0] * (max_cols)] * (max_rows - len(i))  ### Create a bunch of zeros to add to the end of the sequence\n",
    "        if(max_rows != len(i)):\n",
    "            instance = np.concatenate([i, instance]) ### Add the rows to the end of the sequence\n",
    "        else:\n",
    "            instance = i\n",
    "        padded.append(instance)\n",
    "    padded = torch.tensor(np.array(padded))\n",
    "    return padded\n"
   ]
  },
  {
   "cell_type": "code",
   "execution_count": 233,
   "metadata": {},
   "outputs": [
    {
     "name": "stdout",
     "output_type": "stream",
     "text": [
      "After epoch: 0 Emotion Loss is: 232.16262447834015\n",
      "After epoch: 0 Sentiment Loss is: 153.03723645210266\n",
      "After epoch: 1 Emotion Loss is: 212.78395926952362\n",
      "After epoch: 1 Sentiment Loss is: 143.70107811689377\n",
      "After epoch: 2 Emotion Loss is: 206.28683656454086\n",
      "After epoch: 2 Sentiment Loss is: 139.5942583680153\n",
      "After epoch: 3 Emotion Loss is: 202.87514758110046\n",
      "After epoch: 3 Sentiment Loss is: 137.01324808597565\n",
      "After epoch: 4 Emotion Loss is: 199.15678256750107\n",
      "After epoch: 4 Sentiment Loss is: 134.38190406560898\n",
      "After epoch: 5 Emotion Loss is: 197.2995782494545\n",
      "After epoch: 5 Sentiment Loss is: 132.84787422418594\n",
      "After epoch: 6 Emotion Loss is: 193.43419164419174\n",
      "After epoch: 6 Sentiment Loss is: 130.61021852493286\n",
      "After epoch: 7 Emotion Loss is: 191.27298551797867\n",
      "After epoch: 7 Sentiment Loss is: 128.77414482831955\n",
      "After epoch: 8 Emotion Loss is: 189.12424558401108\n",
      "After epoch: 8 Sentiment Loss is: 127.03430980443954\n",
      "After epoch: 9 Emotion Loss is: 188.4457894563675\n",
      "After epoch: 9 Sentiment Loss is: 126.64188754558563\n",
      "After epoch: 10 Emotion Loss is: 186.17132633924484\n",
      "After epoch: 10 Sentiment Loss is: 124.56225633621216\n",
      "After epoch: 11 Emotion Loss is: 184.14511913061142\n",
      "After epoch: 11 Sentiment Loss is: 122.90430581569672\n",
      "After epoch: 12 Emotion Loss is: 180.99203652143478\n",
      "After epoch: 12 Sentiment Loss is: 120.60483276844025\n",
      "After epoch: 13 Emotion Loss is: 178.8903045654297\n",
      "After epoch: 13 Sentiment Loss is: 118.73037606477737\n",
      "After epoch: 14 Emotion Loss is: 177.70265197753906\n",
      "After epoch: 14 Sentiment Loss is: 117.97852438688278\n",
      "After epoch: 15 Emotion Loss is: 176.62753772735596\n",
      "After epoch: 15 Sentiment Loss is: 115.9629425406456\n",
      "After epoch: 16 Emotion Loss is: 174.60831290483475\n",
      "After epoch: 16 Sentiment Loss is: 115.06579232215881\n",
      "After epoch: 17 Emotion Loss is: 171.46558618545532\n",
      "After epoch: 17 Sentiment Loss is: 112.488355204463\n",
      "After epoch: 18 Emotion Loss is: 170.80258178710938\n",
      "After epoch: 18 Sentiment Loss is: 112.39783644676208\n",
      "After epoch: 19 Emotion Loss is: 169.07396519184113\n",
      "After epoch: 19 Sentiment Loss is: 110.66695868968964\n",
      "After epoch: 20 Emotion Loss is: 165.97458773851395\n",
      "After epoch: 20 Sentiment Loss is: 108.6640567034483\n",
      "After epoch: 21 Emotion Loss is: 165.642903983593\n",
      "After epoch: 21 Sentiment Loss is: 107.45736147463322\n",
      "After epoch: 22 Emotion Loss is: 164.88099819421768\n",
      "After epoch: 22 Sentiment Loss is: 106.93471562862396\n",
      "After epoch: 23 Emotion Loss is: 163.14965867996216\n",
      "After epoch: 23 Sentiment Loss is: 105.38589495420456\n",
      "After epoch: 24 Emotion Loss is: 160.49914383888245\n",
      "After epoch: 24 Sentiment Loss is: 103.36194276809692\n",
      "After epoch: 25 Emotion Loss is: 157.45070204138756\n",
      "After epoch: 25 Sentiment Loss is: 100.19028544425964\n",
      "After epoch: 26 Emotion Loss is: 157.48042938113213\n",
      "After epoch: 26 Sentiment Loss is: 100.41007241606712\n",
      "After epoch: 27 Emotion Loss is: 157.64740014076233\n",
      "After epoch: 27 Sentiment Loss is: 100.96089765429497\n",
      "After epoch: 28 Emotion Loss is: 153.72164458036423\n",
      "After epoch: 28 Sentiment Loss is: 98.25261701643467\n",
      "After epoch: 29 Emotion Loss is: 154.0500944852829\n",
      "After epoch: 29 Sentiment Loss is: 98.59171704947948\n"
     ]
    }
   ],
   "source": [
    "### Your modified training code here\n"
   ]
  },
  {
   "cell_type": "markdown",
   "metadata": {},
   "source": [
    "### Exercise 4.5\n",
    "rubric={reasoning:1}\n",
    "\n",
    "Finally, we need to do the same thing with the evaluation code.  "
   ]
  },
  {
   "cell_type": "code",
   "execution_count": 36,
   "metadata": {},
   "outputs": [],
   "source": [
    "### Your modified evaluation code.\n"
   ]
  },
  {
   "attachments": {},
   "cell_type": "markdown",
   "metadata": {},
   "source": [
    "ANSWER: \n",
    "\n",
    "\n"
   ]
  },
  {
   "cell_type": "markdown",
   "metadata": {},
   "source": [
    "#### Exercise 5: Ensembling (Optional)\n",
    "rubric:{accuracy: 1, reasoning: 1}\n",
    "\n",
    "Another way of combining multiple pieces of data is to train separate models, and then combine their predictions in some way - this is known as \"ensembling\".  Each model makes predictions, and then they are combined in some way - one common way is to use the probabilities of the models as a \"confidence\" score for the selections, and then to just add them up.  In this exercise, you'll be modifying the evaluation code to create an ensemble.  You are free to combine the score any way you feel works, but make sure to provide your motivation in the reasoning part of this answer.  "
   ]
  },
  {
   "cell_type": "code",
   "execution_count": null,
   "metadata": {},
   "outputs": [],
   "source": []
  },
  {
   "attachments": {},
   "cell_type": "markdown",
   "metadata": {},
   "source": [
    "ANSWER:"
   ]
  },
  {
   "attachments": {},
   "cell_type": "markdown",
   "metadata": {},
   "source": [
    "### Exercise 5: Ensembling (Optional)¶\n"
   ]
  },
  {
   "attachments": {},
   "cell_type": "markdown",
   "metadata": {},
   "source": [
    "Good job!"
   ]
  },
  {
   "cell_type": "markdown",
   "metadata": {},
   "source": []
  }
 ],
 "metadata": {
  "kernelspec": {
   "display_name": "Python 3",
   "language": "python",
   "name": "python3"
  },
  "language_info": {
   "codemirror_mode": {
    "name": "ipython",
    "version": 3
   },
   "file_extension": ".py",
   "mimetype": "text/x-python",
   "name": "python",
   "nbconvert_exporter": "python",
   "pygments_lexer": "ipython3",
   "version": "3.9.6"
  },
  "vscode": {
   "interpreter": {
    "hash": "20bf69066c0dd38d51965b69d5e1b6e387082e3198ba56e97997ac55f4e50ad0"
   }
  }
 },
 "nbformat": 4,
 "nbformat_minor": 2
}
