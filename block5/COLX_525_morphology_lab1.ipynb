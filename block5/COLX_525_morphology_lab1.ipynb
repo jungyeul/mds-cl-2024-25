{
 "cells": [
  {
   "cell_type": "markdown",
   "metadata": {},
   "source": [
    "# Colx 525 Lab 1: Morphological Analyzer for Swahili (Cheat sheet)\n",
    "\n",
    "Swahili is a Bantu language which is widely spoken in East Africa. It is estimated that there are 100-150 million Swahili speakers but not all of them are native speakers of Swahili. Swahili is the lingua franca of the African Great Lakes region. This means that Swahili serves a similar role to English in Europe and North America: non-native speakers use it as a common language of communication. Since Africa's economic impact and the Afican consumer market are growing continuously, Swahili is likely to become an important language for NLP in the future.\n",
    "\n",
    "Below you can see a small dataset of Swahili verbs:  \n",
    "\n",
    "| Swahili      | English           | Swahili     | English           |\n",
    "|:-------------|:------------------|:------------|:------------------|\n",
    "| anapenda     | 'he likes'        | alimona     | 'he saw him'      |\n",
    "| atapenda     | 'he will like'    | alimsaidia  | 'he helped him'   |\n",
    "| alipenda     | 'he liked'        | alimpiga    | 'he hit him'      |\n",
    "| amependa     | 'he has liked'    | alimchukua  | 'he carried him'  |\n",
    "| alinipenda   | 'he liked me'     | alimua      | 'he killed him'   |\n",
    "| alikupenda   | 'he liked you'    | ananitazama | 'he looks at me'  |\n",
    "| alimpenda    | 'he liked him'    | atakusikia  | 'he will hear you'|\n",
    "| alitupenda   | 'he liked us'     | alitupanya  | 'he cured us'     |\n",
    "| aliwapenda   | 'he liked them'   | ninakupenda | 'I like you'      |\n",
    "| nitampenda   | 'I will like him' | nitawapenda | 'I will like them'|\n",
    "\n",
    "As you can see, an inflected form of a verb in Swahili can correspond to an entire short English sentence. In this assignment, you will first perform a linguistic analysis of the Swahili dataset. After uncovering the morphemes in the dataset and their grammatical roles, you will create a finite-state analyzer for Swahili verb forms using `foma`. "
   ]
  },
  {
   "cell_type": "markdown",
   "metadata": {},
   "source": [
    "```\n",
    "ana | penda      he      | likes\n",
    "ata | penda      he will | like\n",
    "```\n",
    "$\\Rightarrow$ penda = like(s)\n",
    "\n",
    "```\n",
    "\n",
    "ali  | ku | penda      he | liked     | you\n",
    "ata  | ku | sikia      he | will hear | you\n",
    "nina | ku | penda      I  | like      | you\n",
    "```\n",
    "$\\Rightarrow$ ku = you (obj)"
   ]
  },
  {
   "cell_type": "markdown",
   "metadata": {},
   "source": [
    "### Assignment 0: Install `foma`\n",
    "\n",
    "`foma` is a popular finite-state toolkit which we'll use on this course because it is easy-ish to install on Windows, Mac OSX and Linux.\n",
    "\n",
    "#### Windows Users\n",
    "\n",
    "Download the following [program binaries](https://bitbucket.org/mhulden/foma/downloads/foma-0.9.18_win32.zip) and unzip. Place the program files `foma.exe`, `flookup.exe` and `cgflookup.exe` in a director which is included in your `PATH` variable. To check the value of `PATH` and add directories to it, you can navigate to:\n",
    "\n",
    "```My Computer > Properties > Advanced > Environment Variables > System Variables```\n",
    "\n",
    "(Miikka suggests creating a subdirectory `Foma` in your `Program Files` directory and adding it to `PATH`).\n",
    "\n",
    "#### Mac Users\n",
    "\n",
    "Download the following [program binaries](https://bitbucket.org/mhulden/foma/downloads/foma-0.9.18_OSX.tar.gz). Then open terminal and run:\n",
    "\n",
    "```\n",
    "cd ~/Downloads\n",
    "tar -xzvf foma-0.9.18_OSX.tar.gz\n",
    "sudo cp OSX/foma OSX/flookup /usr/local/bin/\n",
    "```\n",
    "\n",
    "You will be prompted for your password. Give it and press enter. Don't be alarmed if the cursor doesn't move when you're typing your password. This is a security feature.\n",
    "\n",
    "Alternatively, you can install it through [`brew`](https://formulae.brew.sh/formula/foma)\n",
    "\n",
    "```\n",
    "brew install foma\n",
    "```\n",
    "\n",
    "#### Linux Users\n",
    "\n",
    "Open terminal and run:\n",
    "\n",
    "```\n",
    "sudo apt install foma-bin\n",
    "```\n",
    "\n",
    "You will be prompted for your password. Give it and press enter. Don't be alarmed if the cursor doesn't move when you're typing your password. This is a security feature."
   ]
  },
  {
   "cell_type": "markdown",
   "metadata": {},
   "source": [
    "### Assignment 1: Linguistic Analysis\n",
    "\n",
    "Perform a linguistic analysis of the dataset above. You should uncover all stems and bound morphemes in the dataset and find their English translation. To identify the morphemes, it is helpful to compare the different examples and see how substrings in the Swahili word forms relate to the English translations. \n",
    "\n",
    "There are no morphophonological alternations in this data. This means that a morpheme like the verb stem for 'like' will have the exact same realization in each example where it occurs. This makes it easier to locate the morphemes.\n",
    "\n",
    "In the following questions, if a given morpheme is realized as a zero morph, you can answer \"0\". "
   ]
  },
  {
   "cell_type": "markdown",
   "metadata": {},
   "source": [
    "#### Assignment 1.1: Verb stems\n",
    "\n",
    "rubric={accuracy:9}\n",
    "\n",
    "What is the Swahili verb stem corresponding to the English verb 'like'?\n",
    "\n",
    "`Your answer:` \n",
    "\n",
    "What is the Swahili verb stem corresponding to the English verb 'see'?\n",
    "\n",
    "`Your answer:` \n",
    "\n",
    "What is the Swahili verb stem corresponding to the English verb 'help'?\n",
    "\n",
    "`Your answer:` \n",
    "\n",
    "What is the Swahili verb stem corresponding to the English verb 'hit'?\n",
    "\n",
    "`Your answer:` \n",
    "\n",
    "What is the Swahili verb stem corresponding to the English verb 'carry'?\n",
    "\n",
    "`Your answer:` \n",
    "\n",
    "What is the Swahili verb stem corresponding to the English verb 'kill'?\n",
    "\n",
    "`Your answer:` \n",
    "\n",
    "What is the Swahili verb stem corresponding to the English verb 'look at'?\n",
    "\n",
    "`Your answer:` \n",
    "\n",
    "What is the Swahili verb stem corresponding to the English verb 'hear'?\n",
    "\n",
    "`Your answer:` \n",
    "\n",
    "What is the Swahili verb stem corresponding to the English verb 'cure'?\n",
    "\n",
    "`Your answer:` "
   ]
  },
  {
   "cell_type": "markdown",
   "metadata": {},
   "source": [
    "#### Assignment 1.2: Tense\n",
    "\n",
    "rubric={accuracy:4}\n",
    "\n",
    "Which morpheme is used to express simple present tense (for example: 'I **like** him') in Swahili?\n",
    "\n",
    "`Your answer:` \n",
    "\n",
    "Which morpheme is used to express simple past tense (for example: 'he **liked** you') in Swahili?\n",
    "\n",
    "`Your answer:` \n",
    "\n",
    "Which morpheme is used to express past perfect tense (for example: 'he **has liked**') in Swahili?\n",
    "\n",
    "`Your answer:` \n",
    "\n",
    "Which morpheme is used to express future tense (for example: 'I **will like** them') in Swahili?\n",
    "\n",
    "`Your answer:` "
   ]
  },
  {
   "cell_type": "markdown",
   "metadata": {},
   "source": [
    "#### Assignment 1.3: Personal Pronouns\n",
    "\n",
    "rubric={accuracy:7}\n",
    "\n",
    "Which morpheme is used to express 1st person singular when it's the **subject** (as in '**I** will like') in Swahili?\n",
    "\n",
    "`Your answer:` \n",
    "\n",
    "Which morpheme is used to express the 1st person singular when it is the **object** (as in 'they like **me**') in Swahili?\n",
    "\n",
    "`Your answer:` \n",
    "\n",
    "Which morpheme is used to express the 2nd person singular when it's the **object** (as in 'I saw **you**') in Swahili?\n",
    "\n",
    "`Your answer:` \n",
    "\n",
    "Which morpheme is used to express the masculine 3rd person singular when it's the **subject** (as in '**he** saw me') in Swahili?\n",
    "\n",
    "`Your answer:` \n",
    "\n",
    "Which morpheme is used to express the 3rd person singular when it is the **object** (as in 'I liked **him**') in Swahili?\n",
    "\n",
    "`Your answer:` \n",
    "\n",
    "\n",
    "Which morpheme is used to express the 1st person plural when it's the **object** (as in 'They saw **us**') in Swahili?\n",
    "\n",
    "`Your answer:` \n",
    "\n",
    "Which morpheme is used to express the 3rd person plural when it's the **object** (as in 'I saw **them**') in Swahili?\n",
    "\n",
    "`Your answer:` "
   ]
  },
  {
   "cell_type": "markdown",
   "metadata": {},
   "source": [
    "#### Assignment 1.4: General Questions\n",
    "\n",
    "rubric={accuracy:3}\n",
    "\n",
    "How would you say in Swahili 'I will cure you'?\n",
    "\n",
    "`Your answer:` \n",
    "\n",
    "How would you say in Swahili 'he hit me'?\n",
    "\n",
    "`Your answer:` \n",
    "\n",
    "How would you say in Swahili 'I heard you'?\n",
    "\n",
    "`Your answer:` "
   ]
  },
  {
   "cell_type": "markdown",
   "metadata": {},
   "source": [
    "#### Assignment 1.5: General Questions\n",
    "\n",
    "rubric={reasoning:2}\n",
    "\n",
    "Based on this dataset, do you think it person marking is affected by whether the person is the subject or the object?\n",
    "\n",
    "`Your answer:` "
   ]
  },
  {
   "cell_type": "markdown",
   "metadata": {},
   "source": [
    "### Assignment 2: Building the Lexicon\n",
    "\n",
    "rubric={accuracy:10}\n",
    "\n",
    "Construct a lexc lexicon `Swahili.lexc` which maps Swahili verb forms to their analyses. You are free to structure the lexicon any way you like but it should be able to analyze any grammatical combination of stem and inflectional affixes in our verb dataset. If you need help with foma and lexc syntax, please consult the [foma tutorial](https://fomafst.github.io/morphtut.html) (\"The lexc-script\" may be the most relevant part).\n",
    "\n",
    "Use the following grammatical markers:\n",
    "\n",
    "|   *POS*         |\n",
    "|-----------------|\n",
    "| VERB+           |\n",
    "\n",
    "|   *Tense*       |\n",
    "|-----------------|\n",
    "| `FUTURE+`       |\n",
    "| `PRESENT+`      |\n",
    "| `PAST+`         |\n",
    "| `PAST_PERFECT+` |\n",
    "\n",
    "|   *Person*      |                                       |\n",
    "|-----------------|---------------------------------------|\n",
    "| `1SG_SUBJ+`     | 1st person singular subject           |\n",
    "| `1SG_OBJ+`      | 1st person singular object            |\n",
    "| `2SG_OBJ+`      | 2nd person singular object            |\n",
    "| `3MASC_SG_SUBJ+`| 3rd person masculine singular subject |\n",
    "| `3MASC_SG_OBJS+`| 3rd person masculine singular object  |\n",
    "| `1PL_OBJ+`      | 1st person plural object              |\n",
    "| `3PL_OBJ+`      | 3rd person plural object              |\n",
    "\n",
    "\n",
    "Read your lexc lexicon into foma. For the verb form *ananitazama*, your analyzer should behave in the following way:\n",
    "\n",
    "```\n",
    "apply up> ananitazama\n",
    "3MASC_SG_SUBJ+PRESENT+1SG_OBJ+VERB+tazama\n",
    "```"
   ]
  },
  {
   "cell_type": "markdown",
   "metadata": {},
   "source": [
    "#### Assignment 2.1: Constructing the lexicon\n",
    "\n",
    "rubric={accuracy:10}\n",
    "\n",
    "Copy-paste your lexc lexicon below."
   ]
  },
  {
   "cell_type": "markdown",
   "metadata": {},
   "source": [
    "```\n",
    "!!! Swahili.lexc !!!\n",
    "```\n",
    "\n",
    "***a li ni penda* ('he liked me') = Subj ('he') Tense ('past') Obj ('me') Verb ('like')** : **3MASC_SG_SUBJ+PAST+1SG_OBJ+VERB+penda**\n",
    "\n",
    "\n",
    "\n",
    "- First, in the lexc-formalism, we need to declare those symbols that are to be multicharacter strings:\n",
    "\n",
    "```\n",
    "Multichar_Symbols \n",
    "\n",
    "VERB+ \n",
    "3MASC_SG_SUBJ+ PAST+ 1SG_OBJ+  ... \n",
    "```\n",
    "\n",
    "- Then, we must declare a Root lexicon. The Root lexicon is where we start building a word:\n",
    "\n",
    "```\n",
    "LEXICON Root\n",
    "\n",
    "Subj ;\n",
    "\n",
    "LEXICON Subj\n",
    "\n",
    "3MASC_SG_SUBJ+:a Tense ; \n",
    "\n",
    "LEXICON Tense\n",
    "\n",
    "PAST+:li Obj ;\n",
    "\n",
    "LEXICON Obj\n",
    "\n",
    "1SG_OBJ+:ni Verb ;\n",
    "\n",
    "LEXICON Verb\n",
    "\n",
    "VERB+:0 VerbStem ;\n",
    "\n",
    "LEXICON VerbStem\n",
    "\n",
    "penda # ;\n",
    "\n",
    "```"
   ]
  },
  {
   "cell_type": "code",
   "execution_count": null,
   "metadata": {},
   "outputs": [],
   "source": []
  },
  {
   "cell_type": "markdown",
   "metadata": {},
   "source": [
    "#### Assignment 2.2: Compiling the lexicon\n",
    "\n",
    "rubric={accuracy:3}\n",
    "\n",
    "Read your lexicon into `foma` and let `foma` compile it. Copy-paste your `foma` commands and the compilation message below."
   ]
  },
  {
   "cell_type": "code",
   "execution_count": null,
   "metadata": {},
   "outputs": [],
   "source": [
    "Foma, version 0.9.18alpha (svn r241)\n",
    "Copyright © 2008-2015 Mans Hulden\n",
    "This is free software; see the source code for copying conditions.\n",
    "There is ABSOLUTELY NO WARRANTY; for details, type \"help license\"\n",
    "\n",
    "Type \"help\" to list all commands available.\n",
    "Type \"help <topic>\" or help \"<operator>\" for further help.\n",
    "\n",
    "foma[0]: ..."
   ]
  },
  {
   "cell_type": "markdown",
   "metadata": {},
   "source": [
    "#### Assignment 2.3: Testing the lexicon\n",
    "\n",
    "rubric={accuracy:3}\n",
    "\n",
    "Test your lexicon using the following verb forms: *nitampenda*, *nitawapenda*, *ananitazama*, *nitakupanya* and *nilikusikia*. Copy-paste the output from the `foma` command `apply up` below."
   ]
  },
  {
   "cell_type": "code",
   "execution_count": null,
   "metadata": {},
   "outputs": [],
   "source": [
    "foma[0]: up\n",
    "apply up> nitampenda\n",
    "..."
   ]
  },
  {
   "cell_type": "markdown",
   "metadata": {},
   "source": [
    "### Assignment 3: Translating verb stems to English\n",
    "\n",
    "Create a second lexc lexicon `translate.lexc`. It should map English translations to Swahili verb stems. This means that when you execute `apply up` for a Swahili verb stem, `foma` should output its English translation, for example *help*. \n",
    "\n",
    "Your lexicon should not contain any grammatical tags so you don't need a `Multichar_Symbols` section. You probably only need one `LEXICON` in your lexc file. \n",
    "\n",
    "**Note!** The verb 'look at' contains a space character which is part of the lexc language syntax. Feel free to replace it with an underscore `_`. You can also escape the space symbol using `%`."
   ]
  },
  {
   "cell_type": "markdown",
   "metadata": {},
   "source": [
    "#### Assignment 3.1: Building the translation lexicon\n",
    "\n",
    "rubric={accuracy:5}\n",
    "\n",
    "Copy-paste your `translate.lexc` lexicon below."
   ]
  },
  {
   "cell_type": "markdown",
   "metadata": {},
   "source": [
    "```\n",
    "!!! translate.lexc !!!\n",
    "\n",
    "\n",
    "```\n",
    "\n",
    "```\n",
    "LEXICON Root\n",
    "\n",
    "like:penda # ;\n",
    "```"
   ]
  },
  {
   "cell_type": "code",
   "execution_count": null,
   "metadata": {},
   "outputs": [],
   "source": [
    "!!! translate.lexc !!!\n",
    "\n"
   ]
  },
  {
   "cell_type": "markdown",
   "metadata": {},
   "source": [
    "#### Assignment 3.2: Combining lexicons\n",
    "\n",
    "rubric={accuracy:5}\n",
    "\n",
    "You should now combine `Swahili.lexc` and `translate.lexc` using finite-state calculus. For the verb form *ananitazama*, your analyzer should behave in the following way:\n",
    "\n",
    "```\n",
    "apply up> ananitazama\n",
    "3MASC_SG_SUBJ+PRESENT+1SG_OBJ+look at\n",
    "```\n",
    "\n",
    "Read both `Swahili.lexc` and `translate.lexc` into `foma` and combine them using finite-state operations (**HINT:** composition will be useful here). Copy-paste all the output from `foma` below."
   ]
  },
  {
   "cell_type": "code",
   "execution_count": null,
   "metadata": {},
   "outputs": [],
   "source": [
    "Foma, version 0.9.18alpha (svn r241)\n",
    "Copyright © 2008-2015 Mans Hulden\n",
    "This is free software; see the source code for copying conditions.\n",
    "There is ABSOLUTELY NO WARRANTY; for details, type \"help license\"\n",
    "\n",
    "Type \"help\" to list all commands available.\n",
    "Type \"help <topic>\" or help \"<operator>\" for further help.\n",
    "\n",
    "foma[0]: ..."
   ]
  },
  {
   "cell_type": "markdown",
   "metadata": {},
   "source": [
    "#### Assignment 3.3: Testing the lexicon\n",
    "\n",
    "rubric={accuracy:3}\n",
    "\n",
    "Test your lexicon using the following verb forms: *nitampenda*, *nitawapenda*, *ananitazama*, *nitakupanya* and *nilikusikia*. Copy-paste the output from the foma command `apply up` below."
   ]
  },
  {
   "cell_type": "code",
   "execution_count": null,
   "metadata": {},
   "outputs": [],
   "source": [
    "foma[1]: up\n",
    "apply up> nitampenda\n",
    "..."
   ]
  },
  {
   "cell_type": "markdown",
   "metadata": {},
   "source": [
    "#### Assignment 3.4\n",
    "rubric={reasoning:3}\n",
    "\n",
    "How many distinct pairs of word forms and analyses does your FST recognize? The foma compiler will display this number when reading in your lexicon. It will print something like:\n",
    "\n",
    "```\n",
    "2.1 kB. 42 states, 65 arcs, 432 paths\n",
    "```\n",
    "\n",
    "Indicating that the analyzer recognizes `432` pairs of inputs forms like \"ananitazama\" and analyses \"3MASC_SG_SUBJ+PRESENT+1SG_OBJ+VERB+tazama\". Please explain why the model recognizes exactly this number of paths. You can refer to the entry counts in your sub-lexicons to justify your reasoning. "
   ]
  },
  {
   "cell_type": "raw",
   "metadata": {},
   "source": [
    "YOUR ANSWER HERE"
   ]
  }
 ],
 "metadata": {
  "kernelspec": {
   "display_name": "Python 3 (ipykernel)",
   "language": "python",
   "name": "python3"
  },
  "language_info": {
   "codemirror_mode": {
    "name": "ipython",
    "version": 3
   },
   "file_extension": ".py",
   "mimetype": "text/x-python",
   "name": "python",
   "nbconvert_exporter": "python",
   "pygments_lexer": "ipython3",
   "version": "3.8.9"
  }
 },
 "nbformat": 4,
 "nbformat_minor": 4
}
